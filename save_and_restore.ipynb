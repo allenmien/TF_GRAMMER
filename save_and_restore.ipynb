{
 "nbformat": 4,
 "nbformat_minor": 2,
 "metadata": {
  "language_info": {
   "name": "python",
   "codemirror_mode": {
    "name": "ipython",
    "version": 3
   },
   "version": "3.6.10-final"
  },
  "orig_nbformat": 2,
  "file_extension": ".py",
  "mimetype": "text/x-python",
  "name": "python",
  "npconvert_exporter": "python",
  "pygments_lexer": "ipython3",
  "version": 3,
  "kernelspec": {
   "name": "python361064bittf2conda263a78276eaa427895d8501f9c6dbdc5",
   "display_name": "Python 3.6.10 64-bit ('tf2': conda)"
  }
 },
 "cells": [
  {
   "cell_type": "code",
   "execution_count": 7,
   "metadata": {},
   "outputs": [
    {
     "name": "stdout",
     "output_type": "stream",
     "text": "2.1.0\n"
    }
   ],
   "source": [
    "import os \n",
    "import tensorflow as tf \n",
    "from tensorflow import keras \n",
    "\n",
    "print(tf.__version__)"
   ]
  },
  {
   "cell_type": "code",
   "execution_count": 13,
   "metadata": {},
   "outputs": [],
   "source": [
    "(train_images, train_labels), (test_images, test_labels) = keras.datasets.mnist.load_data()"
   ]
  },
  {
   "cell_type": "code",
   "execution_count": 14,
   "metadata": {},
   "outputs": [
    {
     "data": {
      "text/plain": "(60000,)"
     },
     "execution_count": 14,
     "metadata": {},
     "output_type": "execute_result"
    }
   ],
   "source": [
    "train_labels.shape"
   ]
  },
  {
   "cell_type": "code",
   "execution_count": 15,
   "metadata": {},
   "outputs": [
    {
     "data": {
      "text/plain": "(60000, 28, 28)"
     },
     "execution_count": 15,
     "metadata": {},
     "output_type": "execute_result"
    }
   ],
   "source": [
    "train_images.shape"
   ]
  },
  {
   "cell_type": "code",
   "execution_count": 16,
   "metadata": {},
   "outputs": [
    {
     "data": {
      "text/plain": "(28, 28)"
     },
     "execution_count": 16,
     "metadata": {},
     "output_type": "execute_result"
    }
   ],
   "source": [
    "train_images[0].shape"
   ]
  },
  {
   "cell_type": "code",
   "execution_count": 17,
   "metadata": {},
   "outputs": [],
   "source": [
    "train_labels = train_labels[:1000]\n",
    "test_labels = test_labels[:1000]"
   ]
  },
  {
   "cell_type": "code",
   "execution_count": 18,
   "metadata": {},
   "outputs": [
    {
     "data": {
      "text/plain": "(60000, 28, 28)"
     },
     "execution_count": 18,
     "metadata": {},
     "output_type": "execute_result"
    }
   ],
   "source": [
    "train_images.shape"
   ]
  },
  {
   "cell_type": "code",
   "execution_count": 22,
   "metadata": {},
   "outputs": [],
   "source": [
    "train_images = train_images[:1000].reshape(-1, 28*28) / 255.0\n",
    "test_images = test_images[:1000].reshape(-1, 28*28) / 255.0"
   ]
  },
  {
   "cell_type": "code",
   "execution_count": 23,
   "metadata": {},
   "outputs": [
    {
     "data": {
      "text/plain": "(1000, 784)"
     },
     "execution_count": 23,
     "metadata": {},
     "output_type": "execute_result"
    }
   ],
   "source": [
    "train_images.shape"
   ]
  },
  {
   "cell_type": "code",
   "execution_count": 28,
   "metadata": {},
   "outputs": [],
   "source": [
    "def create_model():\n",
    "    model = keras.models.Sequential([\n",
    "        keras.layers.Dense(512, activation='relu', input_shape=(784,)),\n",
    "        keras.layers.Dropout(0.2),\n",
    "        keras.layers.Dense(10, activation='softmax')\n",
    "    ])\n",
    "\n",
    "    model.compile(\n",
    "        optimizer='adam',\n",
    "        loss='sparse_categorical_crossentropy',\n",
    "        metrics=['accuracy']\n",
    "    )\n",
    "\n",
    "    return model"
   ]
  },
  {
   "cell_type": "code",
   "execution_count": 29,
   "metadata": {},
   "outputs": [],
   "source": [
    "model = create_model()"
   ]
  },
  {
   "cell_type": "code",
   "execution_count": 30,
   "metadata": {},
   "outputs": [
    {
     "name": "stdout",
     "output_type": "stream",
     "text": "Model: \"sequential_3\"\n_________________________________________________________________\nLayer (type)                 Output Shape              Param #   \n=================================================================\ndense_6 (Dense)              (None, 512)               401920    \n_________________________________________________________________\ndropout_3 (Dropout)          (None, 512)               0         \n_________________________________________________________________\ndense_7 (Dense)              (None, 10)                5130      \n=================================================================\nTotal params: 407,050\nTrainable params: 407,050\nNon-trainable params: 0\n_________________________________________________________________\n"
    }
   ],
   "source": [
    "model.summary()"
   ]
  },
  {
   "cell_type": "code",
   "execution_count": 32,
   "metadata": {},
   "outputs": [],
   "source": [
    "checkpoint_path = 'training_1/cp.ckpt'\n",
    "checkpoint_dir = os.path.dirname(checkpoint_path)"
   ]
  },
  {
   "cell_type": "code",
   "execution_count": 33,
   "metadata": {},
   "outputs": [],
   "source": [
    "cp_callback = keras.callbacks.ModelCheckpoint(\n",
    "    filepath=checkpoint_path,\n",
    "    save_weights_only=True,\n",
    "    verbose=1\n",
    ")"
   ]
  },
  {
   "cell_type": "code",
   "execution_count": 35,
   "metadata": {},
   "outputs": [
    {
     "name": "stdout",
     "output_type": "stream",
     "text": ".8860 - val_loss: 47.9895 - val_accuracy: 0.7430\nEpoch 31/100\n  32/1000 [..............................] - ETA: 0s - loss: 0.3934 - accuracy: 0.9375\nEpoch 00031: saving model to training_1/cp.ckpt\n1000/1000 [==============================] - 0s 88us/sample - loss: 0.4453 - accuracy: 0.8890 - val_loss: 49.1949 - val_accuracy: 0.7390\nEpoch 32/100\n  32/1000 [..............................] - ETA: 0s - loss: 0.6250 - accuracy: 0.8750\nEpoch 00032: saving model to training_1/cp.ckpt\n1000/1000 [==============================] - 0s 90us/sample - loss: 0.4312 - accuracy: 0.8930 - val_loss: 49.5376 - val_accuracy: 0.7350\nEpoch 33/100\n  32/1000 [..............................] - ETA: 0s - loss: 0.3808 - accuracy: 0.8438\nEpoch 00033: saving model to training_1/cp.ckpt\n1000/1000 [==============================] - 0s 89us/sample - loss: 0.4305 - accuracy: 0.8940 - val_loss: 50.0432 - val_accuracy: 0.7330\nEpoch 34/100\n  32/1000 [..............................] - ETA: 0s - loss: 0.4208 - accuracy: 0.9062\nEpoch 00034: saving model to training_1/cp.ckpt\n1000/1000 [==============================] - 0s 88us/sample - loss: 0.4225 - accuracy: 0.9050 - val_loss: 49.7309 - val_accuracy: 0.7380\nEpoch 35/100\n  32/1000 [..............................] - ETA: 0s - loss: 0.4121 - accuracy: 0.8750\nEpoch 00035: saving model to training_1/cp.ckpt\n1000/1000 [==============================] - 0s 89us/sample - loss: 0.4126 - accuracy: 0.8930 - val_loss: 50.4900 - val_accuracy: 0.7360\nEpoch 36/100\n  32/1000 [..............................] - ETA: 0s - loss: 0.3783 - accuracy: 0.9375\nEpoch 00036: saving model to training_1/cp.ckpt\n1000/1000 [==============================] - 0s 88us/sample - loss: 0.4000 - accuracy: 0.8970 - val_loss: 51.2592 - val_accuracy: 0.7340\nEpoch 37/100\n  32/1000 [..............................] - ETA: 0s - loss: 0.4182 - accuracy: 0.9062\nEpoch 00037: saving model to training_1/cp.ckpt\n1000/1000 [==============================] - 0s 88us/sample - loss: 0.4017 - accuracy: 0.8960 - val_loss: 51.1895 - val_accuracy: 0.7380\nEpoch 38/100\n 960/1000 [===========================>..] - ETA: 0s - loss: 0.3921 - accuracy: 0.8948\nEpoch 00038: saving model to training_1/cp.ckpt\n1000/1000 [==============================] - 0s 94us/sample - loss: 0.3935 - accuracy: 0.8920 - val_loss: 50.6872 - val_accuracy: 0.7430\nEpoch 39/100\n  32/1000 [..............................] - ETA: 0s - loss: 0.3451 - accuracy: 0.9688\nEpoch 00039: saving model to training_1/cp.ckpt\n1000/1000 [==============================] - 0s 90us/sample - loss: 0.3828 - accuracy: 0.9090 - val_loss: 52.8475 - val_accuracy: 0.7380\nEpoch 40/100\n  32/1000 [..............................] - ETA: 0s - loss: 0.3560 - accuracy: 0.9062\nEpoch 00040: saving model to training_1/cp.ckpt\n1000/1000 [==============================] - 0s 88us/sample - loss: 0.3752 - accuracy: 0.9040 - val_loss: 52.8025 - val_accuracy: 0.7390\nEpoch 41/100\n  32/1000 [..............................] - ETA: 0s - loss: 0.3499 - accuracy: 0.9375\nEpoch 00041: saving model to training_1/cp.ckpt\n1000/1000 [==============================] - 0s 89us/sample - loss: 0.3696 - accuracy: 0.9110 - val_loss: 53.2527 - val_accuracy: 0.7410\nEpoch 42/100\n  32/1000 [..............................] - ETA: 0s - loss: 0.3934 - accuracy: 0.8750\nEpoch 00042: saving model to training_1/cp.ckpt\n1000/1000 [==============================] - 0s 89us/sample - loss: 0.3656 - accuracy: 0.9110 - val_loss: 53.6269 - val_accuracy: 0.7400\nEpoch 43/100\n  32/1000 [..............................] - ETA: 0s - loss: 0.3494 - accuracy: 0.9062\nEpoch 00043: saving model to training_1/cp.ckpt\n1000/1000 [==============================] - 0s 89us/sample - loss: 0.3630 - accuracy: 0.9100 - val_loss: 53.5885 - val_accuracy: 0.7410\nEpoch 44/100\n  32/1000 [..............................] - ETA: 0s - loss: 0.2256 - accuracy: 0.9375\nEpoch 00044: saving model to training_1/cp.ckpt\n1000/1000 [==============================] - 0s 87us/sample - loss: 0.3561 - accuracy: 0.9170 - val_loss: 53.9014 - val_accuracy: 0.7450\nEpoch 45/100\n  32/1000 [..............................] - ETA: 0s - loss: 0.2889 - accuracy: 0.9375\nEpoch 00045: saving model to training_1/cp.ckpt\n1000/1000 [==============================] - 0s 89us/sample - loss: 0.3494 - accuracy: 0.9140 - val_loss: 54.9254 - val_accuracy: 0.7440\nEpoch 46/100\n  32/1000 [..............................] - ETA: 0s - loss: 0.4266 - accuracy: 0.9375\nEpoch 00046: saving model to training_1/cp.ckpt\n1000/1000 [==============================] - 0s 89us/sample - loss: 0.3411 - accuracy: 0.9160 - val_loss: 54.8169 - val_accuracy: 0.7460\nEpoch 47/100\n  32/1000 [..............................] - ETA: 0s - loss: 0.1029 - accuracy: 1.0000\nEpoch 00047: saving model to training_1/cp.ckpt\n1000/1000 [==============================] - 0s 90us/sample - loss: 0.3485 - accuracy: 0.9080 - val_loss: 56.2388 - val_accuracy: 0.7420\nEpoch 48/100\n  32/1000 [..............................] - ETA: 0s - loss: 0.3601 - accuracy: 0.9062\nEpoch 00048: saving model to training_1/cp.ckpt\n1000/1000 [==============================] - 0s 89us/sample - loss: 0.3333 - accuracy: 0.9160 - val_loss: 56.1542 - val_accuracy: 0.7450\nEpoch 49/100\n 896/1000 [=========================>....] - ETA: 0s - loss: 0.3349 - accuracy: 0.9196\nEpoch 00049: saving model to training_1/cp.ckpt\n1000/1000 [==============================] - 0s 99us/sample - loss: 0.3367 - accuracy: 0.9180 - val_loss: 56.5175 - val_accuracy: 0.7480\nEpoch 50/100\n  32/1000 [..............................] - ETA: 0s - loss: 0.2689 - accuracy: 0.9375\nEpoch 00050: saving model to training_1/cp.ckpt\n1000/1000 [==============================] - 0s 93us/sample - loss: 0.3235 - accuracy: 0.9170 - val_loss: 56.6220 - val_accuracy: 0.7490\nEpoch 51/100\n  32/1000 [..............................] - ETA: 0s - loss: 0.3505 - accuracy: 0.9062\nEpoch 00051: saving model to training_1/cp.ckpt\n1000/1000 [==============================] - 0s 90us/sample - loss: 0.3140 - accuracy: 0.9170 - val_loss: 56.2460 - val_accuracy: 0.7490\nEpoch 52/100\n  32/1000 [..............................] - ETA: 0s - loss: 0.1851 - accuracy: 1.0000\nEpoch 00052: saving model to training_1/cp.ckpt\n1000/1000 [==============================] - 0s 89us/sample - loss: 0.3150 - accuracy: 0.9190 - val_loss: 57.6253 - val_accuracy: 0.7490\nEpoch 53/100\n  32/1000 [..............................] - ETA: 0s - loss: 0.2248 - accuracy: 1.0000\nEpoch 00053: saving model to training_1/cp.ckpt\n1000/1000 [==============================] - 0s 90us/sample - loss: 0.3129 - accuracy: 0.9240 - val_loss: 58.2172 - val_accuracy: 0.7400\nEpoch 54/100\n  32/1000 [..............................] - ETA: 0s - loss: 0.4531 - accuracy: 0.8438\nEpoch 00054: saving model to training_1/cp.ckpt\n1000/1000 [==============================] - 0s 90us/sample - loss: 0.3070 - accuracy: 0.9180 - val_loss: 57.6685 - val_accuracy: 0.7440\nEpoch 55/100\n  32/1000 [..............................] - ETA: 0s - loss: 0.3582 - accuracy: 0.8750\nEpoch 00055: saving model to training_1/cp.ckpt\n1000/1000 [==============================] - 0s 89us/sample - loss: 0.3042 - accuracy: 0.9250 - val_loss: 58.4309 - val_accuracy: 0.7430\nEpoch 56/100\n  32/1000 [..............................] - ETA: 0s - loss: 0.2355 - accuracy: 0.9688\nEpoch 00056: saving model to training_1/cp.ckpt\n1000/1000 [==============================] - 0s 90us/sample - loss: 0.3000 - accuracy: 0.9290 - val_loss: 58.6930 - val_accuracy: 0.7380\nEpoch 57/100\n  32/1000 [..............................] - ETA: 0s - loss: 0.4729 - accuracy: 0.8438\nEpoch 00057: saving model to training_1/cp.ckpt\n1000/1000 [==============================] - 0s 89us/sample - loss: 0.2993 - accuracy: 0.9240 - val_loss: 58.5540 - val_accuracy: 0.7480\nEpoch 58/100\n  32/1000 [..............................] - ETA: 0s - loss: 0.4610 - accuracy: 0.8438\nEpoch 00058: saving model to training_1/cp.ckpt\n1000/1000 [==============================] - 0s 88us/sample - loss: 0.2939 - accuracy: 0.9200 - val_loss: 58.9736 - val_accuracy: 0.7390\nEpoch 59/100\n  32/1000 [..............................] - ETA: 0s - loss: 0.1727 - accuracy: 0.9688\nEpoch 00059: saving model to training_1/cp.ckpt\n1000/1000 [==============================] - 0s 89us/sample - loss: 0.2914 - accuracy: 0.9280 - val_loss: 59.5938 - val_accuracy: 0.7400\nEpoch 60/100\n  32/1000 [..............................] - ETA: 0s - loss: 0.4734 - accuracy: 0.8125\nEpoch 00060: saving model to training_1/cp.ckpt\n1000/1000 [==============================] - 0s 89us/sample - loss: 0.2844 - accuracy: 0.9290 - val_loss: 59.8854 - val_accuracy: 0.7410\nEpoch 61/100\n  32/1000 [..............................] - ETA: 0s - loss: 0.1811 - accuracy: 0.9375\nEpoch 00061: saving model to training_1/cp.ckpt\n1000/1000 [==============================] - 0s 89us/sample - loss: 0.2795 - accuracy: 0.9280 - val_loss: 59.6579 - val_accuracy: 0.7480\nEpoch 62/100\n  32/1000 [..............................] - ETA: 0s - loss: 0.4363 - accuracy: 0.9062\nEpoch 00062: saving model to training_1/cp.ckpt\n1000/1000 [==============================] - 0s 89us/sample - loss: 0.2825 - accuracy: 0.9260 - val_loss: 60.0664 - val_accuracy: 0.7450\nEpoch 63/100\n  32/1000 [..............................] - ETA: 0s - loss: 0.3999 - accuracy: 0.8750\nEpoch 00063: saving model to training_1/cp.ckpt\n1000/1000 [==============================] - 0s 89us/sample - loss: 0.2710 - accuracy: 0.9320 - val_loss: 60.7644 - val_accuracy: 0.7450\nEpoch 64/100\n  32/1000 [..............................] - ETA: 0s - loss: 0.2014 - accuracy: 0.9375\nEpoch 00064: saving model to training_1/cp.ckpt\n1000/1000 [==============================] - 0s 89us/sample - loss: 0.2748 - accuracy: 0.9270 - val_loss: 60.9695 - val_accuracy: 0.7460\nEpoch 65/100\n  32/1000 [..............................] - ETA: 0s - loss: 0.4138 - accuracy: 0.8438\nEpoch 00065: saving model to training_1/cp.ckpt\n1000/1000 [==============================] - 0s 88us/sample - loss: 0.2660 - accuracy: 0.9320 - val_loss: 60.9534 - val_accuracy: 0.7430\nEpoch 66/100\n  32/1000 [..............................] - ETA: 0s - loss: 0.2397 - accuracy: 0.9688\nEpoch 00066: saving model to training_1/cp.ckpt\n1000/1000 [==============================] - 0s 89us/sample - loss: 0.2656 - accuracy: 0.9340 - val_loss: 60.8368 - val_accuracy: 0.7470\nEpoch 67/100\n  32/1000 [..............................] - ETA: 0s - loss: 0.2874 - accuracy: 0.9375\nEpoch 00067: saving model to training_1/cp.ckpt\n1000/1000 [==============================] - 0s 89us/sample - loss: 0.2617 - accuracy: 0.9410 - val_loss: 61.8813 - val_accuracy: 0.7450\nEpoch 68/100\n  32/1000 [..............................] - ETA: 0s - loss: 0.1271 - accuracy: 0.9688\nEpoch 00068: saving model to training_1/cp.ckpt\n1000/1000 [==============================] - 0s 89us/sample - loss: 0.2596 - accuracy: 0.9290 - val_loss: 63.2362 - val_accuracy: 0.7400\nEpoch 69/100\n  32/1000 [..............................] - ETA: 0s - loss: 0.1483 - accuracy: 1.0000\nEpoch 00069: saving model to training_1/cp.ckpt\n1000/1000 [==============================] - 0s 90us/sample - loss: 0.2523 - accuracy: 0.9370 - val_loss: 62.3635 - val_accuracy: 0.7430\nEpoch 70/100\n  32/1000 [..............................] - ETA: 0s - loss: 0.2179 - accuracy: 1.0000\nEpoch 00070: saving model to training_1/cp.ckpt\n1000/1000 [==============================] - 0s 89us/sample - loss: 0.2625 - accuracy: 0.9330 - val_loss: 63.9249 - val_accuracy: 0.7420\nEpoch 71/100\n  32/1000 [..............................] - ETA: 0s - loss: 0.2530 - accuracy: 0.9375\nEpoch 00071: saving model to training_1/cp.ckpt\n1000/1000 [==============================] - 0s 88us/sample - loss: 0.2572 - accuracy: 0.9330 - val_loss: 62.2280 - val_accuracy: 0.7470\nEpoch 72/100\n  32/1000 [..............................] - ETA: 0s - loss: 0.2792 - accuracy: 0.9375\nEpoch 00072: saving model to training_1/cp.ckpt\n1000/1000 [==============================] - 0s 90us/sample - loss: 0.2430 - accuracy: 0.9380 - val_loss: 64.7113 - val_accuracy: 0.7400\nEpoch 73/100\n  32/1000 [..............................] - ETA: 0s - loss: 0.1487 - accuracy: 1.0000\nEpoch 00073: saving model to training_1/cp.ckpt\n1000/1000 [==============================] - 0s 90us/sample - loss: 0.2449 - accuracy: 0.9350 - val_loss: 63.9815 - val_accuracy: 0.7400\nEpoch 74/100\n  32/1000 [..............................] - ETA: 0s - loss: 0.2522 - accuracy: 0.9062\nEpoch 00074: saving model to training_1/cp.ckpt\n1000/1000 [==============================] - 0s 90us/sample - loss: 0.2460 - accuracy: 0.9310 - val_loss: 63.5570 - val_accuracy: 0.7440\nEpoch 75/100\n  32/1000 [..............................] - ETA: 0s - loss: 0.4189 - accuracy: 0.8750\nEpoch 00075: saving model to training_1/cp.ckpt\n1000/1000 [==============================] - 0s 90us/sample - loss: 0.2282 - accuracy: 0.9440 - val_loss: 65.3834 - val_accuracy: 0.7410\nEpoch 76/100\n  32/1000 [..............................] - ETA: 0s - loss: 0.1948 - accuracy: 0.9688\nEpoch 00076: saving model to training_1/cp.ckpt\n1000/1000 [==============================] - 0s 89us/sample - loss: 0.2317 - accuracy: 0.9400 - val_loss: 64.9086 - val_accuracy: 0.7390\nEpoch 77/100\n  32/1000 [..............................] - ETA: 0s - loss: 0.2592 - accuracy: 0.9062\nEpoch 00077: saving model to training_1/cp.ckpt\n1000/1000 [==============================] - 0s 91us/sample - loss: 0.2263 - accuracy: 0.9420 - val_loss: 64.4744 - val_accuracy: 0.7450\nEpoch 78/100\n  32/1000 [..............................] - ETA: 0s - loss: 0.2172 - accuracy: 0.9062\nEpoch 00078: saving model to training_1/cp.ckpt\n1000/1000 [==============================] - 0s 90us/sample - loss: 0.2297 - accuracy: 0.9430 - val_loss: 64.9596 - val_accuracy: 0.7440\nEpoch 79/100\n  32/1000 [..............................] - ETA: 0s - loss: 0.1606 - accuracy: 0.9688\nEpoch 00079: saving model to training_1/cp.ckpt\n1000/1000 [==============================] - 0s 90us/sample - loss: 0.2251 - accuracy: 0.9500 - val_loss: 65.3113 - val_accuracy: 0.7430\nEpoch 80/100\n  32/1000 [..............................] - ETA: 0s - loss: 0.1685 - accuracy: 0.9688\nEpoch 00080: saving model to training_1/cp.ckpt\n1000/1000 [==============================] - 0s 90us/sample - loss: 0.2222 - accuracy: 0.9470 - val_loss: 65.0133 - val_accuracy: 0.7460\nEpoch 81/100\n  32/1000 [..............................] - ETA: 0s - loss: 0.1946 - accuracy: 0.9375\nEpoch 00081: saving model to training_1/cp.ckpt\n1000/1000 [==============================] - 0s 90us/sample - loss: 0.2294 - accuracy: 0.9410 - val_loss: 67.1034 - val_accuracy: 0.7380\nEpoch 82/100\n  32/1000 [..............................] - ETA: 0s - loss: 0.1450 - accuracy: 0.9688\nEpoch 00082: saving model to training_1/cp.ckpt\n1000/1000 [==============================] - 0s 90us/sample - loss: 0.2205 - accuracy: 0.9450 - val_loss: 67.5771 - val_accuracy: 0.7390\nEpoch 83/100\n  32/1000 [..............................] - ETA: 0s - loss: 0.1455 - accuracy: 0.9688\nEpoch 00083: saving model to training_1/cp.ckpt\n1000/1000 [==============================] - 0s 91us/sample - loss: 0.2156 - accuracy: 0.9430 - val_loss: 66.7539 - val_accuracy: 0.7430\nEpoch 84/100\n  32/1000 [..............................] - ETA: 0s - loss: 0.1423 - accuracy: 0.9688\nEpoch 00084: saving model to training_1/cp.ckpt\n1000/1000 [==============================] - 0s 89us/sample - loss: 0.2116 - accuracy: 0.9480 - val_loss: 66.3851 - val_accuracy: 0.7440\nEpoch 85/100\n  32/1000 [..............................] - ETA: 0s - loss: 0.1351 - accuracy: 0.9688\nEpoch 00085: saving model to training_1/cp.ckpt\n1000/1000 [==============================] - 0s 89us/sample - loss: 0.2122 - accuracy: 0.9410 - val_loss: 67.3918 - val_accuracy: 0.7450\nEpoch 86/100\n  32/1000 [..............................] - ETA: 0s - loss: 0.1792 - accuracy: 0.9688\nEpoch 00086: saving model to training_1/cp.ckpt\n1000/1000 [==============================] - 0s 91us/sample - loss: 0.2098 - accuracy: 0.9510 - val_loss: 67.4549 - val_accuracy: 0.7460\nEpoch 87/100\n  32/1000 [..............................] - ETA: 0s - loss: 0.1079 - accuracy: 1.0000\nEpoch 00087: saving model to training_1/cp.ckpt\n1000/1000 [==============================] - 0s 92us/sample - loss: 0.2133 - accuracy: 0.9440 - val_loss: 68.7221 - val_accuracy: 0.7400\nEpoch 88/100\n  32/1000 [..............................] - ETA: 0s - loss: 0.2722 - accuracy: 0.9062\nEpoch 00088: saving model to training_1/cp.ckpt\n1000/1000 [==============================] - 0s 92us/sample - loss: 0.2023 - accuracy: 0.9470 - val_loss: 68.5608 - val_accuracy: 0.7450\nEpoch 89/100\n  32/1000 [..............................] - ETA: 0s - loss: 0.3487 - accuracy: 0.9375\nEpoch 00089: saving model to training_1/cp.ckpt\n1000/1000 [==============================] - 0s 93us/sample - loss: 0.2041 - accuracy: 0.9500 - val_loss: 68.9741 - val_accuracy: 0.7430\nEpoch 90/100\n  32/1000 [..............................] - ETA: 0s - loss: 0.1658 - accuracy: 0.9375\nEpoch 00090: saving model to training_1/cp.ckpt\n1000/1000 [==============================] - 0s 91us/sample - loss: 0.2035 - accuracy: 0.9550 - val_loss: 68.4845 - val_accuracy: 0.7460\nEpoch 91/100\n  32/1000 [..............................] - ETA: 0s - loss: 0.2239 - accuracy: 0.9688\nEpoch 00091: saving model to training_1/cp.ckpt\n1000/1000 [==============================] - 0s 92us/sample - loss: 0.2003 - accuracy: 0.9470 - val_loss: 69.7066 - val_accuracy: 0.7400\nEpoch 92/100\n  32/1000 [..............................] - ETA: 0s - loss: 0.2550 - accuracy: 0.9375\nEpoch 00092: saving model to training_1/cp.ckpt\n1000/1000 [==============================] - 0s 88us/sample - loss: 0.1933 - accuracy: 0.9520 - val_loss: 69.8104 - val_accuracy: 0.7390\nEpoch 93/100\n  32/1000 [..............................] - ETA: 0s - loss: 0.1896 - accuracy: 0.9688\nEpoch 00093: saving model to training_1/cp.ckpt\n1000/1000 [==============================] - 0s 89us/sample - loss: 0.1977 - accuracy: 0.9510 - val_loss: 68.5986 - val_accuracy: 0.7420\nEpoch 94/100\n  32/1000 [..............................] - ETA: 0s - loss: 0.1321 - accuracy: 0.9688\nEpoch 00094: saving model to training_1/cp.ckpt\n1000/1000 [==============================] - 0s 89us/sample - loss: 0.1897 - accuracy: 0.9490 - val_loss: 69.0078 - val_accuracy: 0.7440\nEpoch 95/100\n  32/1000 [..............................] - ETA: 0s - loss: 0.2056 - accuracy: 0.9375\nEpoch 00095: saving model to training_1/cp.ckpt\n1000/1000 [==============================] - 0s 90us/sample - loss: 0.1904 - accuracy: 0.9520 - val_loss: 69.8888 - val_accuracy: 0.7440\nEpoch 96/100\n  32/1000 [..............................] - ETA: 0s - loss: 0.2318 - accuracy: 0.9062\nEpoch 00096: saving model to training_1/cp.ckpt\n1000/1000 [==============================] - 0s 90us/sample - loss: 0.1843 - accuracy: 0.9520 - val_loss: 69.5035 - val_accuracy: 0.7490\nEpoch 97/100\n  32/1000 [..............................] - ETA: 0s - loss: 0.1521 - accuracy: 0.9688\nEpoch 00097: saving model to training_1/cp.ckpt\n1000/1000 [==============================] - 0s 90us/sample - loss: 0.1884 - accuracy: 0.9490 - val_loss: 69.9234 - val_accuracy: 0.7430\nEpoch 98/100\n  32/1000 [..............................] - ETA: 0s - loss: 0.2096 - accuracy: 0.9062\nEpoch 00098: saving model to training_1/cp.ckpt\n1000/1000 [==============================] - 0s 91us/sample - loss: 0.1803 - accuracy: 0.9510 - val_loss: 70.8531 - val_accuracy: 0.7440\nEpoch 99/100\n  32/1000 [..............................] - ETA: 0s - loss: 0.1604 - accuracy: 0.9375\nEpoch 00099: saving model to training_1/cp.ckpt\n1000/1000 [==============================] - 0s 90us/sample - loss: 0.1822 - accuracy: 0.9580 - val_loss: 71.2773 - val_accuracy: 0.7430\nEpoch 100/100\n  32/1000 [..............................] - ETA: 0s - loss: 0.1256 - accuracy: 1.0000\nEpoch 00100: saving model to training_1/cp.ckpt\n1000/1000 [==============================] - 0s 90us/sample - loss: 0.1824 - accuracy: 0.9560 - val_loss: 70.7509 - val_accuracy: 0.7430\n"
    },
    {
     "data": {
      "text/plain": "<tensorflow.python.keras.callbacks.History at 0x7fd05824af98>"
     },
     "execution_count": 35,
     "metadata": {},
     "output_type": "execute_result"
    }
   ],
   "source": [
    "model.fit(\n",
    "    train_images,\n",
    "    train_labels,\n",
    "    epochs=100,\n",
    "    validation_data=(test_images, test_labels),\n",
    "    callbacks=[cp_callback]\n",
    ")"
   ]
  },
  {
   "cell_type": "code",
   "execution_count": 36,
   "metadata": {},
   "outputs": [
    {
     "name": "stdout",
     "output_type": "stream",
     "text": "checkpoint  cp.ckpt.data-00000-of-00001  cp.ckpt.index\n"
    }
   ],
   "source": [
    "!ls {checkpoint_dir}"
   ]
  },
  {
   "cell_type": "code",
   "execution_count": 37,
   "metadata": {},
   "outputs": [],
   "source": [
    "model = create_model()"
   ]
  },
  {
   "cell_type": "code",
   "execution_count": 38,
   "metadata": {},
   "outputs": [
    {
     "name": "stdout",
     "output_type": "stream",
     "text": "1000/1000 - 0s - loss: 2.3877 - accuracy: 0.0880\n"
    }
   ],
   "source": [
    "loss, acc = model.evaluate(test_images, test_labels, verbose=2)"
   ]
  },
  {
   "cell_type": "code",
   "execution_count": 39,
   "metadata": {},
   "outputs": [
    {
     "name": "stdout",
     "output_type": "stream",
     "text": "1000/1000 - 0s - loss: 70.7509 - accuracy: 0.7430\n"
    }
   ],
   "source": [
    "model.load_weights(checkpoint_path)\n",
    "loss, acc = model.evaluate(test_images, test_labels, verbose=2)"
   ]
  },
  {
   "cell_type": "code",
   "execution_count": 40,
   "metadata": {},
   "outputs": [],
   "source": [
    "checkpoint_path = 'train_2/cp-{epoch:04d}.ckpt'\n",
    "checkpoint_dir = os.path.dirname(checkpoint_path)"
   ]
  },
  {
   "cell_type": "code",
   "execution_count": 41,
   "metadata": {},
   "outputs": [
    {
     "data": {
      "text/plain": "'train_2'"
     },
     "execution_count": 41,
     "metadata": {},
     "output_type": "execute_result"
    }
   ],
   "source": [
    "checkpoint_dir"
   ]
  },
  {
   "cell_type": "code",
   "execution_count": 43,
   "metadata": {},
   "outputs": [],
   "source": [
    "cp_callback = keras.callbacks.ModelCheckpoint(\n",
    "    filepath=checkpoint_path,\n",
    "    verbose=1,\n",
    "    save_weights_only=True,\n",
    "    save_freq=5\n",
    ")"
   ]
  },
  {
   "cell_type": "code",
   "execution_count": 44,
   "metadata": {},
   "outputs": [],
   "source": [
    "model = create_model()"
   ]
  },
  {
   "cell_type": "code",
   "execution_count": 47,
   "metadata": {},
   "outputs": [],
   "source": [
    "model.save_weights(checkpoint_path.format(epoch=0))"
   ]
  },
  {
   "cell_type": "code",
   "execution_count": 48,
   "metadata": {},
   "outputs": [
    {
     "name": "stdout",
     "output_type": "stream",
     "text": "38.ckpt\n\nEpoch 00038: saving model to train_2/cp-0038.ckpt\n\nEpoch 00038: saving model to train_2/cp-0038.ckpt\n\nEpoch 00038: saving model to train_2/cp-0038.ckpt\n\nEpoch 00038: saving model to train_2/cp-0038.ckpt\n\nEpoch 00038: saving model to train_2/cp-0038.ckpt\n\nEpoch 00038: saving model to train_2/cp-0038.ckpt\n\nEpoch 00038: saving model to train_2/cp-0038.ckpt\n\nEpoch 00038: saving model to train_2/cp-0038.ckpt\n\nEpoch 00039: saving model to train_2/cp-0039.ckpt\n\nEpoch 00039: saving model to train_2/cp-0039.ckpt\n\nEpoch 00039: saving model to train_2/cp-0039.ckpt\n\nEpoch 00039: saving model to train_2/cp-0039.ckpt\n\nEpoch 00039: saving model to train_2/cp-0039.ckpt\n\nEpoch 00039: saving model to train_2/cp-0039.ckpt\n\nEpoch 00039: saving model to train_2/cp-0039.ckpt\n\nEpoch 00039: saving model to train_2/cp-0039.ckpt\n\nEpoch 00039: saving model to train_2/cp-0039.ckpt\n\nEpoch 00039: saving model to train_2/cp-0039.ckpt\n\nEpoch 00039: saving model to train_2/cp-0039.ckpt\n\nEpoch 00039: saving model to train_2/cp-0039.ckpt\n\nEpoch 00039: saving model to train_2/cp-0039.ckpt\n\nEpoch 00039: saving model to train_2/cp-0039.ckpt\n\nEpoch 00039: saving model to train_2/cp-0039.ckpt\n\nEpoch 00039: saving model to train_2/cp-0039.ckpt\n\nEpoch 00039: saving model to train_2/cp-0039.ckpt\n\nEpoch 00039: saving model to train_2/cp-0039.ckpt\n\nEpoch 00039: saving model to train_2/cp-0039.ckpt\n\nEpoch 00039: saving model to train_2/cp-0039.ckpt\n\nEpoch 00039: saving model to train_2/cp-0039.ckpt\n\nEpoch 00039: saving model to train_2/cp-0039.ckpt\n\nEpoch 00039: saving model to train_2/cp-0039.ckpt\n\nEpoch 00039: saving model to train_2/cp-0039.ckpt\n\nEpoch 00039: saving model to train_2/cp-0039.ckpt\n\nEpoch 00039: saving model to train_2/cp-0039.ckpt\n\nEpoch 00039: saving model to train_2/cp-0039.ckpt\n\nEpoch 00039: saving model to train_2/cp-0039.ckpt\n\nEpoch 00039: saving model to train_2/cp-0039.ckpt\n\nEpoch 00039: saving model to train_2/cp-0039.ckpt\n\nEpoch 00039: saving model to train_2/cp-0039.ckpt\n\nEpoch 00039: saving model to train_2/cp-0039.ckpt\n\nEpoch 00040: saving model to train_2/cp-0040.ckpt\n\nEpoch 00040: saving model to train_2/cp-0040.ckpt\n\nEpoch 00040: saving model to train_2/cp-0040.ckpt\n\nEpoch 00040: saving model to train_2/cp-0040.ckpt\n\nEpoch 00040: saving model to train_2/cp-0040.ckpt\n\nEpoch 00040: saving model to train_2/cp-0040.ckpt\n\nEpoch 00040: saving model to train_2/cp-0040.ckpt\n\nEpoch 00040: saving model to train_2/cp-0040.ckpt\n\nEpoch 00040: saving model to train_2/cp-0040.ckpt\n\nEpoch 00040: saving model to train_2/cp-0040.ckpt\n\nEpoch 00040: saving model to train_2/cp-0040.ckpt\n\nEpoch 00040: saving model to train_2/cp-0040.ckpt\n\nEpoch 00040: saving model to train_2/cp-0040.ckpt\n\nEpoch 00040: saving model to train_2/cp-0040.ckpt\n\nEpoch 00040: saving model to train_2/cp-0040.ckpt\n\nEpoch 00040: saving model to train_2/cp-0040.ckpt\n\nEpoch 00040: saving model to train_2/cp-0040.ckpt\n\nEpoch 00040: saving model to train_2/cp-0040.ckpt\n\nEpoch 00040: saving model to train_2/cp-0040.ckpt\n\nEpoch 00040: saving model to train_2/cp-0040.ckpt\n\nEpoch 00040: saving model to train_2/cp-0040.ckpt\n\nEpoch 00040: saving model to train_2/cp-0040.ckpt\n\nEpoch 00040: saving model to train_2/cp-0040.ckpt\n\nEpoch 00040: saving model to train_2/cp-0040.ckpt\n\nEpoch 00040: saving model to train_2/cp-0040.ckpt\n\nEpoch 00040: saving model to train_2/cp-0040.ckpt\n\nEpoch 00040: saving model to train_2/cp-0040.ckpt\n\nEpoch 00040: saving model to train_2/cp-0040.ckpt\n\nEpoch 00040: saving model to train_2/cp-0040.ckpt\n\nEpoch 00040: saving model to train_2/cp-0040.ckpt\n\nEpoch 00040: saving model to train_2/cp-0040.ckpt\n\nEpoch 00040: saving model to train_2/cp-0040.ckpt\n\nEpoch 00041: saving model to train_2/cp-0041.ckpt\n\nEpoch 00041: saving model to train_2/cp-0041.ckpt\n\nEpoch 00041: saving model to train_2/cp-0041.ckpt\n\nEpoch 00041: saving model to train_2/cp-0041.ckpt\n\nEpoch 00041: saving model to train_2/cp-0041.ckpt\n\nEpoch 00041: saving model to train_2/cp-0041.ckpt\n\nEpoch 00041: saving model to train_2/cp-0041.ckpt\n\nEpoch 00041: saving model to train_2/cp-0041.ckpt\n\nEpoch 00041: saving model to train_2/cp-0041.ckpt\n\nEpoch 00041: saving model to train_2/cp-0041.ckpt\n\nEpoch 00041: saving model to train_2/cp-0041.ckpt\n\nEpoch 00041: saving model to train_2/cp-0041.ckpt\n\nEpoch 00041: saving model to train_2/cp-0041.ckpt\n\nEpoch 00041: saving model to train_2/cp-0041.ckpt\n\nEpoch 00041: saving model to train_2/cp-0041.ckpt\n\nEpoch 00041: saving model to train_2/cp-0041.ckpt\n\nEpoch 00041: saving model to train_2/cp-0041.ckpt\n\nEpoch 00041: saving model to train_2/cp-0041.ckpt\n\nEpoch 00041: saving model to train_2/cp-0041.ckpt\n\nEpoch 00041: saving model to train_2/cp-0041.ckpt\n\nEpoch 00041: saving model to train_2/cp-0041.ckpt\n\nEpoch 00041: saving model to train_2/cp-0041.ckpt\n\nEpoch 00041: saving model to train_2/cp-0041.ckpt\n\nEpoch 00041: saving model to train_2/cp-0041.ckpt\n\nEpoch 00041: saving model to train_2/cp-0041.ckpt\n\nEpoch 00041: saving model to train_2/cp-0041.ckpt\n\nEpoch 00041: saving model to train_2/cp-0041.ckpt\n\nEpoch 00041: saving model to train_2/cp-0041.ckpt\n\nEpoch 00041: saving model to train_2/cp-0041.ckpt\n\nEpoch 00041: saving model to train_2/cp-0041.ckpt\n\nEpoch 00041: saving model to train_2/cp-0041.ckpt\n\nEpoch 00041: saving model to train_2/cp-0041.ckpt\n\nEpoch 00042: saving model to train_2/cp-0042.ckpt\n\nEpoch 00042: saving model to train_2/cp-0042.ckpt\n\nEpoch 00042: saving model to train_2/cp-0042.ckpt\n\nEpoch 00042: saving model to train_2/cp-0042.ckpt\n\nEpoch 00042: saving model to train_2/cp-0042.ckpt\n\nEpoch 00042: saving model to train_2/cp-0042.ckpt\n\nEpoch 00042: saving model to train_2/cp-0042.ckpt\n\nEpoch 00042: saving model to train_2/cp-0042.ckpt\n\nEpoch 00042: saving model to train_2/cp-0042.ckpt\n\nEpoch 00042: saving model to train_2/cp-0042.ckpt\n\nEpoch 00042: saving model to train_2/cp-0042.ckpt\n\nEpoch 00042: saving model to train_2/cp-0042.ckpt\n\nEpoch 00042: saving model to train_2/cp-0042.ckpt\n\nEpoch 00042: saving model to train_2/cp-0042.ckpt\n\nEpoch 00042: saving model to train_2/cp-0042.ckpt\n\nEpoch 00042: saving model to train_2/cp-0042.ckpt\n\nEpoch 00042: saving model to train_2/cp-0042.ckpt\n\nEpoch 00042: saving model to train_2/cp-0042.ckpt\n\nEpoch 00042: saving model to train_2/cp-0042.ckpt\n\nEpoch 00042: saving model to train_2/cp-0042.ckpt\n\nEpoch 00042: saving model to train_2/cp-0042.ckpt\n\nEpoch 00042: saving model to train_2/cp-0042.ckpt\n\nEpoch 00042: saving model to train_2/cp-0042.ckpt\n\nEpoch 00042: saving model to train_2/cp-0042.ckpt\n\nEpoch 00042: saving model to train_2/cp-0042.ckpt\n\nEpoch 00042: saving model to train_2/cp-0042.ckpt\n\nEpoch 00042: saving model to train_2/cp-0042.ckpt\n\nEpoch 00042: saving model to train_2/cp-0042.ckpt\n\nEpoch 00042: saving model to train_2/cp-0042.ckpt\n\nEpoch 00042: saving model to train_2/cp-0042.ckpt\n\nEpoch 00042: saving model to train_2/cp-0042.ckpt\n\nEpoch 00042: saving model to train_2/cp-0042.ckpt\n\nEpoch 00043: saving model to train_2/cp-0043.ckpt\n\nEpoch 00043: saving model to train_2/cp-0043.ckpt\n\nEpoch 00043: saving model to train_2/cp-0043.ckpt\n\nEpoch 00043: saving model to train_2/cp-0043.ckpt\n\nEpoch 00043: saving model to train_2/cp-0043.ckpt\n\nEpoch 00043: saving model to train_2/cp-0043.ckpt\n\nEpoch 00043: saving model to train_2/cp-0043.ckpt\n\nEpoch 00043: saving model to train_2/cp-0043.ckpt\n\nEpoch 00043: saving model to train_2/cp-0043.ckpt\n\nEpoch 00043: saving model to train_2/cp-0043.ckpt\n\nEpoch 00043: saving model to train_2/cp-0043.ckpt\n\nEpoch 00043: saving model to train_2/cp-0043.ckpt\n\nEpoch 00043: saving model to train_2/cp-0043.ckpt\n\nEpoch 00043: saving model to train_2/cp-0043.ckpt\n\nEpoch 00043: saving model to train_2/cp-0043.ckpt\n\nEpoch 00043: saving model to train_2/cp-0043.ckpt\n\nEpoch 00043: saving model to train_2/cp-0043.ckpt\n\nEpoch 00043: saving model to train_2/cp-0043.ckpt\n\nEpoch 00043: saving model to train_2/cp-0043.ckpt\n\nEpoch 00043: saving model to train_2/cp-0043.ckpt\n\nEpoch 00043: saving model to train_2/cp-0043.ckpt\n\nEpoch 00043: saving model to train_2/cp-0043.ckpt\n\nEpoch 00043: saving model to train_2/cp-0043.ckpt\n\nEpoch 00043: saving model to train_2/cp-0043.ckpt\n\nEpoch 00043: saving model to train_2/cp-0043.ckpt\n\nEpoch 00043: saving model to train_2/cp-0043.ckpt\n\nEpoch 00043: saving model to train_2/cp-0043.ckpt\n\nEpoch 00043: saving model to train_2/cp-0043.ckpt\n\nEpoch 00043: saving model to train_2/cp-0043.ckpt\n\nEpoch 00043: saving model to train_2/cp-0043.ckpt\n\nEpoch 00043: saving model to train_2/cp-0043.ckpt\n\nEpoch 00043: saving model to train_2/cp-0043.ckpt\n\nEpoch 00044: saving model to train_2/cp-0044.ckpt\n\nEpoch 00044: saving model to train_2/cp-0044.ckpt\n\nEpoch 00044: saving model to train_2/cp-0044.ckpt\n\nEpoch 00044: saving model to train_2/cp-0044.ckpt\n\nEpoch 00044: saving model to train_2/cp-0044.ckpt\n\nEpoch 00044: saving model to train_2/cp-0044.ckpt\n\nEpoch 00044: saving model to train_2/cp-0044.ckpt\n\nEpoch 00044: saving model to train_2/cp-0044.ckpt\n\nEpoch 00044: saving model to train_2/cp-0044.ckpt\n\nEpoch 00044: saving model to train_2/cp-0044.ckpt\n\nEpoch 00044: saving model to train_2/cp-0044.ckpt\n\nEpoch 00044: saving model to train_2/cp-0044.ckpt\n\nEpoch 00044: saving model to train_2/cp-0044.ckpt\n\nEpoch 00044: saving model to train_2/cp-0044.ckpt\n\nEpoch 00044: saving model to train_2/cp-0044.ckpt\n\nEpoch 00044: saving model to train_2/cp-0044.ckpt\n\nEpoch 00044: saving model to train_2/cp-0044.ckpt\n\nEpoch 00044: saving model to train_2/cp-0044.ckpt\n\nEpoch 00044: saving model to train_2/cp-0044.ckpt\n\nEpoch 00044: saving model to train_2/cp-0044.ckpt\n\nEpoch 00044: saving model to train_2/cp-0044.ckpt\n\nEpoch 00044: saving model to train_2/cp-0044.ckpt\n\nEpoch 00044: saving model to train_2/cp-0044.ckpt\n\nEpoch 00044: saving model to train_2/cp-0044.ckpt\n\nEpoch 00044: saving model to train_2/cp-0044.ckpt\n\nEpoch 00044: saving model to train_2/cp-0044.ckpt\n\nEpoch 00044: saving model to train_2/cp-0044.ckpt\n\nEpoch 00044: saving model to train_2/cp-0044.ckpt\n\nEpoch 00044: saving model to train_2/cp-0044.ckpt\n\nEpoch 00044: saving model to train_2/cp-0044.ckpt\n\nEpoch 00044: saving model to train_2/cp-0044.ckpt\n\nEpoch 00044: saving model to train_2/cp-0044.ckpt\n\nEpoch 00045: saving model to train_2/cp-0045.ckpt\n\nEpoch 00045: saving model to train_2/cp-0045.ckpt\n\nEpoch 00045: saving model to train_2/cp-0045.ckpt\n\nEpoch 00045: saving model to train_2/cp-0045.ckpt\n\nEpoch 00045: saving model to train_2/cp-0045.ckpt\n\nEpoch 00045: saving model to train_2/cp-0045.ckpt\n\nEpoch 00045: saving model to train_2/cp-0045.ckpt\n\nEpoch 00045: saving model to train_2/cp-0045.ckpt\n\nEpoch 00045: saving model to train_2/cp-0045.ckpt\n\nEpoch 00045: saving model to train_2/cp-0045.ckpt\n\nEpoch 00045: saving model to train_2/cp-0045.ckpt\n\nEpoch 00045: saving model to train_2/cp-0045.ckpt\n\nEpoch 00045: saving model to train_2/cp-0045.ckpt\n\nEpoch 00045: saving model to train_2/cp-0045.ckpt\n\nEpoch 00045: saving model to train_2/cp-0045.ckpt\n\nEpoch 00045: saving model to train_2/cp-0045.ckpt\n\nEpoch 00045: saving model to train_2/cp-0045.ckpt\n\nEpoch 00045: saving model to train_2/cp-0045.ckpt\n\nEpoch 00045: saving model to train_2/cp-0045.ckpt\n\nEpoch 00045: saving model to train_2/cp-0045.ckpt\n\nEpoch 00045: saving model to train_2/cp-0045.ckpt\n\nEpoch 00045: saving model to train_2/cp-0045.ckpt\n\nEpoch 00045: saving model to train_2/cp-0045.ckpt\n\nEpoch 00045: saving model to train_2/cp-0045.ckpt\n\nEpoch 00045: saving model to train_2/cp-0045.ckpt\n\nEpoch 00045: saving model to train_2/cp-0045.ckpt\n\nEpoch 00045: saving model to train_2/cp-0045.ckpt\n\nEpoch 00045: saving model to train_2/cp-0045.ckpt\n\nEpoch 00045: saving model to train_2/cp-0045.ckpt\n\nEpoch 00045: saving model to train_2/cp-0045.ckpt\n\nEpoch 00045: saving model to train_2/cp-0045.ckpt\n\nEpoch 00045: saving model to train_2/cp-0045.ckpt\n\nEpoch 00046: saving model to train_2/cp-0046.ckpt\n\nEpoch 00046: saving model to train_2/cp-0046.ckpt\n\nEpoch 00046: saving model to train_2/cp-0046.ckpt\n\nEpoch 00046: saving model to train_2/cp-0046.ckpt\n\nEpoch 00046: saving model to train_2/cp-0046.ckpt\n\nEpoch 00046: saving model to train_2/cp-0046.ckpt\n\nEpoch 00046: saving model to train_2/cp-0046.ckpt\n\nEpoch 00046: saving model to train_2/cp-0046.ckpt\n\nEpoch 00046: saving model to train_2/cp-0046.ckpt\n\nEpoch 00046: saving model to train_2/cp-0046.ckpt\n\nEpoch 00046: saving model to train_2/cp-0046.ckpt\n\nEpoch 00046: saving model to train_2/cp-0046.ckpt\n\nEpoch 00046: saving model to train_2/cp-0046.ckpt\n\nEpoch 00046: saving model to train_2/cp-0046.ckpt\n\nEpoch 00046: saving model to train_2/cp-0046.ckpt\n\nEpoch 00046: saving model to train_2/cp-0046.ckpt\n\nEpoch 00046: saving model to train_2/cp-0046.ckpt\n\nEpoch 00046: saving model to train_2/cp-0046.ckpt\n\nEpoch 00046: saving model to train_2/cp-0046.ckpt\n\nEpoch 00046: saving model to train_2/cp-0046.ckpt\n\nEpoch 00046: saving model to train_2/cp-0046.ckpt\n\nEpoch 00046: saving model to train_2/cp-0046.ckpt\n\nEpoch 00046: saving model to train_2/cp-0046.ckpt\n\nEpoch 00046: saving model to train_2/cp-0046.ckpt\n\nEpoch 00046: saving model to train_2/cp-0046.ckpt\n\nEpoch 00046: saving model to train_2/cp-0046.ckpt\n\nEpoch 00046: saving model to train_2/cp-0046.ckpt\n\nEpoch 00046: saving model to train_2/cp-0046.ckpt\n\nEpoch 00046: saving model to train_2/cp-0046.ckpt\n\nEpoch 00046: saving model to train_2/cp-0046.ckpt\n\nEpoch 00046: saving model to train_2/cp-0046.ckpt\n\nEpoch 00046: saving model to train_2/cp-0046.ckpt\n\nEpoch 00047: saving model to train_2/cp-0047.ckpt\n\nEpoch 00047: saving model to train_2/cp-0047.ckpt\n\nEpoch 00047: saving model to train_2/cp-0047.ckpt\n\nEpoch 00047: saving model to train_2/cp-0047.ckpt\n\nEpoch 00047: saving model to train_2/cp-0047.ckpt\n\nEpoch 00047: saving model to train_2/cp-0047.ckpt\n\nEpoch 00047: saving model to train_2/cp-0047.ckpt\n\nEpoch 00047: saving model to train_2/cp-0047.ckpt\n\nEpoch 00047: saving model to train_2/cp-0047.ckpt\n\nEpoch 00047: saving model to train_2/cp-0047.ckpt\n\nEpoch 00047: saving model to train_2/cp-0047.ckpt\n\nEpoch 00047: saving model to train_2/cp-0047.ckpt\n\nEpoch 00047: saving model to train_2/cp-0047.ckpt\n\nEpoch 00047: saving model to train_2/cp-0047.ckpt\n\nEpoch 00047: saving model to train_2/cp-0047.ckpt\n\nEpoch 00047: saving model to train_2/cp-0047.ckpt\n\nEpoch 00047: saving model to train_2/cp-0047.ckpt\n\nEpoch 00047: saving model to train_2/cp-0047.ckpt\n\nEpoch 00047: saving model to train_2/cp-0047.ckpt\n\nEpoch 00047: saving model to train_2/cp-0047.ckpt\n\nEpoch 00047: saving model to train_2/cp-0047.ckpt\n\nEpoch 00047: saving model to train_2/cp-0047.ckpt\n\nEpoch 00047: saving model to train_2/cp-0047.ckpt\n\nEpoch 00047: saving model to train_2/cp-0047.ckpt\n\nEpoch 00047: saving model to train_2/cp-0047.ckpt\n\nEpoch 00047: saving model to train_2/cp-0047.ckpt\n\nEpoch 00047: saving model to train_2/cp-0047.ckpt\n\nEpoch 00047: saving model to train_2/cp-0047.ckpt\n\nEpoch 00047: saving model to train_2/cp-0047.ckpt\n\nEpoch 00047: saving model to train_2/cp-0047.ckpt\n\nEpoch 00047: saving model to train_2/cp-0047.ckpt\n\nEpoch 00047: saving model to train_2/cp-0047.ckpt\n\nEpoch 00048: saving model to train_2/cp-0048.ckpt\n\nEpoch 00048: saving model to train_2/cp-0048.ckpt\n\nEpoch 00048: saving model to train_2/cp-0048.ckpt\n\nEpoch 00048: saving model to train_2/cp-0048.ckpt\n\nEpoch 00048: saving model to train_2/cp-0048.ckpt\n\nEpoch 00048: saving model to train_2/cp-0048.ckpt\n\nEpoch 00048: saving model to train_2/cp-0048.ckpt\n\nEpoch 00048: saving model to train_2/cp-0048.ckpt\n\nEpoch 00048: saving model to train_2/cp-0048.ckpt\n\nEpoch 00048: saving model to train_2/cp-0048.ckpt\n\nEpoch 00048: saving model to train_2/cp-0048.ckpt\n\nEpoch 00048: saving model to train_2/cp-0048.ckpt\n\nEpoch 00048: saving model to train_2/cp-0048.ckpt\n\nEpoch 00048: saving model to train_2/cp-0048.ckpt\n\nEpoch 00048: saving model to train_2/cp-0048.ckpt\n\nEpoch 00048: saving model to train_2/cp-0048.ckpt\n\nEpoch 00048: saving model to train_2/cp-0048.ckpt\n\nEpoch 00048: saving model to train_2/cp-0048.ckpt\n\nEpoch 00048: saving model to train_2/cp-0048.ckpt\n\nEpoch 00048: saving model to train_2/cp-0048.ckpt\n\nEpoch 00048: saving model to train_2/cp-0048.ckpt\n\nEpoch 00048: saving model to train_2/cp-0048.ckpt\n\nEpoch 00048: saving model to train_2/cp-0048.ckpt\n\nEpoch 00048: saving model to train_2/cp-0048.ckpt\n\nEpoch 00048: saving model to train_2/cp-0048.ckpt\n\nEpoch 00048: saving model to train_2/cp-0048.ckpt\n\nEpoch 00048: saving model to train_2/cp-0048.ckpt\n\nEpoch 00048: saving model to train_2/cp-0048.ckpt\n\nEpoch 00048: saving model to train_2/cp-0048.ckpt\n\nEpoch 00048: saving model to train_2/cp-0048.ckpt\n\nEpoch 00048: saving model to train_2/cp-0048.ckpt\n\nEpoch 00048: saving model to train_2/cp-0048.ckpt\n\nEpoch 00049: saving model to train_2/cp-0049.ckpt\n\nEpoch 00049: saving model to train_2/cp-0049.ckpt\n\nEpoch 00049: saving model to train_2/cp-0049.ckpt\n\nEpoch 00049: saving model to train_2/cp-0049.ckpt\n\nEpoch 00049: saving model to train_2/cp-0049.ckpt\n\nEpoch 00049: saving model to train_2/cp-0049.ckpt\n\nEpoch 00049: saving model to train_2/cp-0049.ckpt\n\nEpoch 00049: saving model to train_2/cp-0049.ckpt\n\nEpoch 00049: saving model to train_2/cp-0049.ckpt\n\nEpoch 00049: saving model to train_2/cp-0049.ckpt\n\nEpoch 00049: saving model to train_2/cp-0049.ckpt\n\nEpoch 00049: saving model to train_2/cp-0049.ckpt\n\nEpoch 00049: saving model to train_2/cp-0049.ckpt\n\nEpoch 00049: saving model to train_2/cp-0049.ckpt\n\nEpoch 00049: saving model to train_2/cp-0049.ckpt\n\nEpoch 00049: saving model to train_2/cp-0049.ckpt\n\nEpoch 00049: saving model to train_2/cp-0049.ckpt\n\nEpoch 00049: saving model to train_2/cp-0049.ckpt\n\nEpoch 00049: saving model to train_2/cp-0049.ckpt\n\nEpoch 00049: saving model to train_2/cp-0049.ckpt\n\nEpoch 00049: saving model to train_2/cp-0049.ckpt\n\nEpoch 00049: saving model to train_2/cp-0049.ckpt\n\nEpoch 00049: saving model to train_2/cp-0049.ckpt\n\nEpoch 00049: saving model to train_2/cp-0049.ckpt\n\nEpoch 00049: saving model to train_2/cp-0049.ckpt\n\nEpoch 00049: saving model to train_2/cp-0049.ckpt\n\nEpoch 00049: saving model to train_2/cp-0049.ckpt\n\nEpoch 00049: saving model to train_2/cp-0049.ckpt\n\nEpoch 00049: saving model to train_2/cp-0049.ckpt\n\nEpoch 00049: saving model to train_2/cp-0049.ckpt\n\nEpoch 00049: saving model to train_2/cp-0049.ckpt\n\nEpoch 00049: saving model to train_2/cp-0049.ckpt\n\nEpoch 00050: saving model to train_2/cp-0050.ckpt\n\nEpoch 00050: saving model to train_2/cp-0050.ckpt\n\nEpoch 00050: saving model to train_2/cp-0050.ckpt\n\nEpoch 00050: saving model to train_2/cp-0050.ckpt\n\nEpoch 00050: saving model to train_2/cp-0050.ckpt\n\nEpoch 00050: saving model to train_2/cp-0050.ckpt\n\nEpoch 00050: saving model to train_2/cp-0050.ckpt\n\nEpoch 00050: saving model to train_2/cp-0050.ckpt\n\nEpoch 00050: saving model to train_2/cp-0050.ckpt\n\nEpoch 00050: saving model to train_2/cp-0050.ckpt\n\nEpoch 00050: saving model to train_2/cp-0050.ckpt\n\nEpoch 00050: saving model to train_2/cp-0050.ckpt\n\nEpoch 00050: saving model to train_2/cp-0050.ckpt\n\nEpoch 00050: saving model to train_2/cp-0050.ckpt\n\nEpoch 00050: saving model to train_2/cp-0050.ckpt\n\nEpoch 00050: saving model to train_2/cp-0050.ckpt\n\nEpoch 00050: saving model to train_2/cp-0050.ckpt\n\nEpoch 00050: saving model to train_2/cp-0050.ckpt\n\nEpoch 00050: saving model to train_2/cp-0050.ckpt\n\nEpoch 00050: saving model to train_2/cp-0050.ckpt\n\nEpoch 00050: saving model to train_2/cp-0050.ckpt\n\nEpoch 00050: saving model to train_2/cp-0050.ckpt\n\nEpoch 00050: saving model to train_2/cp-0050.ckpt\n\nEpoch 00050: saving model to train_2/cp-0050.ckpt\n\nEpoch 00050: saving model to train_2/cp-0050.ckpt\n\nEpoch 00050: saving model to train_2/cp-0050.ckpt\n\nEpoch 00050: saving model to train_2/cp-0050.ckpt\n\nEpoch 00050: saving model to train_2/cp-0050.ckpt\n\nEpoch 00050: saving model to train_2/cp-0050.ckpt\n\nEpoch 00050: saving model to train_2/cp-0050.ckpt\n\nEpoch 00050: saving model to train_2/cp-0050.ckpt\n\nEpoch 00050: saving model to train_2/cp-0050.ckpt\n"
    },
    {
     "data": {
      "text/plain": "<tensorflow.python.keras.callbacks.History at 0x7fd0116d2d68>"
     },
     "execution_count": 48,
     "metadata": {},
     "output_type": "execute_result"
    }
   ],
   "source": [
    "model.fit(\n",
    "    train_images,\n",
    "    train_labels,\n",
    "    epochs=50,\n",
    "    callbacks=[cp_callback],\n",
    "    validation_data=(test_images, test_labels),\n",
    "    verbose=0\n",
    ")"
   ]
  },
  {
   "cell_type": "code",
   "execution_count": 51,
   "metadata": {},
   "outputs": [],
   "source": [
    "model.save_weights('checkpoint/my_checkpoint.ckpt')"
   ]
  },
  {
   "cell_type": "code",
   "execution_count": 53,
   "metadata": {},
   "outputs": [],
   "source": [
    "model.save('checkpoint/my_model.h5')"
   ]
  },
  {
   "cell_type": "code",
   "execution_count": 54,
   "metadata": {},
   "outputs": [],
   "source": [
    "new_model  = keras.models.load_model('checkpoint/my_model.h5')"
   ]
  },
  {
   "cell_type": "code",
   "execution_count": 55,
   "metadata": {},
   "outputs": [
    {
     "name": "stdout",
     "output_type": "stream",
     "text": "Model: \"sequential_5\"\n_________________________________________________________________\nLayer (type)                 Output Shape              Param #   \n=================================================================\ndense_10 (Dense)             (None, 512)               401920    \n_________________________________________________________________\ndropout_5 (Dropout)          (None, 512)               0         \n_________________________________________________________________\ndense_11 (Dense)             (None, 10)                5130      \n=================================================================\nTotal params: 407,050\nTrainable params: 407,050\nNon-trainable params: 0\n_________________________________________________________________\n"
    }
   ],
   "source": [
    "new_model.summary()"
   ]
  },
  {
   "cell_type": "code",
   "execution_count": 56,
   "metadata": {},
   "outputs": [
    {
     "name": "stdout",
     "output_type": "stream",
     "text": "Train on 1000 samples\nEpoch 1/5\n1000/1000 [==============================] - 0s 213us/sample - loss: 2.2944 - accuracy: 0.1980\nEpoch 2/5\n1000/1000 [==============================] - 0s 51us/sample - loss: 2.2654 - accuracy: 0.5310\nEpoch 3/5\n1000/1000 [==============================] - 0s 49us/sample - loss: 2.2158 - accuracy: 0.4790\nEpoch 4/5\n1000/1000 [==============================] - 0s 50us/sample - loss: 2.1408 - accuracy: 0.5220\nEpoch 5/5\n1000/1000 [==============================] - 0s 51us/sample - loss: 2.0349 - accuracy: 0.5720\n"
    },
    {
     "data": {
      "text/plain": "<tensorflow.python.keras.callbacks.History at 0x7fd0580ca9b0>"
     },
     "execution_count": 56,
     "metadata": {},
     "output_type": "execute_result"
    }
   ],
   "source": [
    "model = create_model()\n",
    "model.fit(train_images, train_labels, epochs=5)"
   ]
  },
  {
   "cell_type": "code",
   "execution_count": 57,
   "metadata": {},
   "outputs": [],
   "source": [
    "import time \n",
    "save_model_path = './save_models/{}'.format(int(time.time()))"
   ]
  },
  {
   "cell_type": "code",
   "execution_count": null,
   "metadata": {},
   "outputs": [],
   "source": [
    "tf.keras.experimental.export_saved_model(model, saved_model_path)"
   ]
  },
  {
   "cell_type": "code",
   "execution_count": null,
   "metadata": {},
   "outputs": [],
   "source": []
  },
  {
   "cell_type": "code",
   "execution_count": null,
   "metadata": {},
   "outputs": [],
   "source": []
  },
  {
   "cell_type": "code",
   "execution_count": null,
   "metadata": {},
   "outputs": [],
   "source": []
  },
  {
   "cell_type": "code",
   "execution_count": null,
   "metadata": {},
   "outputs": [],
   "source": []
  },
  {
   "cell_type": "code",
   "execution_count": null,
   "metadata": {},
   "outputs": [],
   "source": []
  },
  {
   "cell_type": "code",
   "execution_count": null,
   "metadata": {},
   "outputs": [],
   "source": []
  },
  {
   "cell_type": "code",
   "execution_count": null,
   "metadata": {},
   "outputs": [],
   "source": []
  },
  {
   "cell_type": "code",
   "execution_count": null,
   "metadata": {},
   "outputs": [],
   "source": []
  },
  {
   "cell_type": "code",
   "execution_count": null,
   "metadata": {},
   "outputs": [],
   "source": []
  },
  {
   "cell_type": "code",
   "execution_count": null,
   "metadata": {},
   "outputs": [],
   "source": []
  },
  {
   "cell_type": "code",
   "execution_count": null,
   "metadata": {},
   "outputs": [],
   "source": []
  },
  {
   "cell_type": "code",
   "execution_count": null,
   "metadata": {},
   "outputs": [],
   "source": []
  },
  {
   "cell_type": "code",
   "execution_count": null,
   "metadata": {},
   "outputs": [],
   "source": []
  },
  {
   "cell_type": "code",
   "execution_count": null,
   "metadata": {},
   "outputs": [],
   "source": []
  },
  {
   "cell_type": "code",
   "execution_count": null,
   "metadata": {},
   "outputs": [],
   "source": []
  },
  {
   "cell_type": "code",
   "execution_count": null,
   "metadata": {},
   "outputs": [],
   "source": []
  },
  {
   "cell_type": "code",
   "execution_count": null,
   "metadata": {},
   "outputs": [],
   "source": []
  },
  {
   "cell_type": "code",
   "execution_count": null,
   "metadata": {},
   "outputs": [],
   "source": []
  }
 ]
}