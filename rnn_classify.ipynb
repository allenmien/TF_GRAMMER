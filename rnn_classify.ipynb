{
 "nbformat": 4,
 "nbformat_minor": 2,
 "metadata": {
  "language_info": {
   "name": "python",
   "codemirror_mode": {
    "name": "ipython",
    "version": 3
   },
   "version": "3.6.10-final"
  },
  "orig_nbformat": 2,
  "file_extension": ".py",
  "mimetype": "text/x-python",
  "name": "python",
  "npconvert_exporter": "python",
  "pygments_lexer": "ipython3",
  "version": 3,
  "kernelspec": {
   "name": "python361064bittf2conda263a78276eaa427895d8501f9c6dbdc5",
   "display_name": "Python 3.6.10 64-bit ('tf2': conda)"
  }
 },
 "cells": [
  {
   "cell_type": "code",
   "execution_count": 1,
   "metadata": {},
   "outputs": [],
   "source": [
    "import tensorflow as tf \n",
    "import pandas as pd \n",
    "import numpy as np \n",
    "from sklearn.model_selection import train_test_split\n",
    "from tqdm import tqdm\n",
    "import os"
   ]
  },
  {
   "cell_type": "code",
   "execution_count": 2,
   "metadata": {},
   "outputs": [],
   "source": [
    "data_path = 'data/weibo_senti_100k.csv'"
   ]
  },
  {
   "cell_type": "code",
   "execution_count": 3,
   "metadata": {},
   "outputs": [],
   "source": [
    "data_df = pd.read_csv(data_path, sep=',', error_bad_lines=False)"
   ]
  },
  {
   "cell_type": "code",
   "execution_count": 4,
   "metadata": {},
   "outputs": [
    {
     "output_type": "execute_result",
     "data": {
      "text/plain": "   label                                             review\n0      1              ﻿更博了，爆照了，帅的呀，就是越来越爱你！生快傻缺[爱你][爱你][爱你]\n1      1  @张晓鹏jonathan 土耳其的事要认真对待[哈哈]，否则直接开除。@丁丁看世界 很是细心...\n2      1  姑娘都羡慕你呢…还有招财猫高兴……//@爱在蔓延-JC:[哈哈]小学徒一枚，等着明天见您呢/...\n3      1                                         美~~~~~[爱你]\n4      1                                  梦想有多大，舞台就有多大![鼓掌]",
      "text/html": "<div>\n<style scoped>\n    .dataframe tbody tr th:only-of-type {\n        vertical-align: middle;\n    }\n\n    .dataframe tbody tr th {\n        vertical-align: top;\n    }\n\n    .dataframe thead th {\n        text-align: right;\n    }\n</style>\n<table border=\"1\" class=\"dataframe\">\n  <thead>\n    <tr style=\"text-align: right;\">\n      <th></th>\n      <th>label</th>\n      <th>review</th>\n    </tr>\n  </thead>\n  <tbody>\n    <tr>\n      <th>0</th>\n      <td>1</td>\n      <td>﻿更博了，爆照了，帅的呀，就是越来越爱你！生快傻缺[爱你][爱你][爱你]</td>\n    </tr>\n    <tr>\n      <th>1</th>\n      <td>1</td>\n      <td>@张晓鹏jonathan 土耳其的事要认真对待[哈哈]，否则直接开除。@丁丁看世界 很是细心...</td>\n    </tr>\n    <tr>\n      <th>2</th>\n      <td>1</td>\n      <td>姑娘都羡慕你呢…还有招财猫高兴……//@爱在蔓延-JC:[哈哈]小学徒一枚，等着明天见您呢/...</td>\n    </tr>\n    <tr>\n      <th>3</th>\n      <td>1</td>\n      <td>美~~~~~[爱你]</td>\n    </tr>\n    <tr>\n      <th>4</th>\n      <td>1</td>\n      <td>梦想有多大，舞台就有多大![鼓掌]</td>\n    </tr>\n  </tbody>\n</table>\n</div>"
     },
     "metadata": {},
     "execution_count": 4
    }
   ],
   "source": [
    "data_df.head(5)"
   ]
  },
  {
   "cell_type": "code",
   "execution_count": 5,
   "metadata": {},
   "outputs": [
    {
     "output_type": "execute_result",
     "data": {
      "text/plain": "(119988, 2)"
     },
     "metadata": {},
     "execution_count": 5
    }
   ],
   "source": [
    "data_df.shape"
   ]
  },
  {
   "cell_type": "code",
   "execution_count": 6,
   "metadata": {},
   "outputs": [],
   "source": [
    "reviews, labels = list(), list()\n",
    "max_length = 0"
   ]
  },
  {
   "cell_type": "code",
   "execution_count": 7,
   "metadata": {},
   "outputs": [
    {
     "output_type": "stream",
     "name": "stderr",
     "text": "to token :: 100%|██████████| 119988/119988 [00:08<00:00, 13934.45it/s]\n"
    }
   ],
   "source": [
    "for index, (label, review) in tqdm(data_df.iterrows(), total=data_df.shape[0], desc='to token :'):\n",
    "    if len(review) > max_length:\n",
    "        max_length = len(review)\n",
    "    reviews.append([r for r in review])\n",
    "    labels.append(int(label))"
   ]
  },
  {
   "cell_type": "code",
   "execution_count": 8,
   "metadata": {},
   "outputs": [
    {
     "output_type": "execute_result",
     "data": {
      "text/plain": "['姑',\n '娘',\n '都',\n '羡',\n '慕',\n '你',\n '呢',\n '…',\n '还',\n '有',\n '招',\n '财',\n '猫',\n '高',\n '兴',\n '…',\n '…',\n '/',\n '/',\n '@',\n '爱',\n '在',\n '蔓',\n '延',\n '-',\n 'J',\n 'C',\n ':',\n '[',\n '哈',\n '哈',\n ']',\n '小',\n '学',\n '徒',\n '一',\n '枚',\n '，',\n '等',\n '着',\n '明',\n '天',\n '见',\n '您',\n '呢',\n '/',\n '/',\n '@',\n '李',\n '欣',\n '芸',\n 'S',\n 'h',\n 'a',\n 'r',\n 'o',\n 'n',\n 'L',\n 'e',\n 'e',\n ':',\n '大',\n '佬',\n '范',\n '儿',\n '[',\n '书',\n '呆',\n '子',\n ']']"
     },
     "metadata": {},
     "execution_count": 8
    }
   ],
   "source": [
    "reviews[2]"
   ]
  },
  {
   "cell_type": "code",
   "execution_count": 9,
   "metadata": {},
   "outputs": [
    {
     "output_type": "execute_result",
     "data": {
      "text/plain": "260"
     },
     "metadata": {},
     "execution_count": 9
    }
   ],
   "source": [
    "max_length"
   ]
  },
  {
   "cell_type": "code",
   "execution_count": 10,
   "metadata": {},
   "outputs": [
    {
     "output_type": "execute_result",
     "data": {
      "text/plain": "119988"
     },
     "metadata": {},
     "execution_count": 10
    }
   ],
   "source": [
    "len(reviews)"
   ]
  },
  {
   "cell_type": "code",
   "execution_count": 11,
   "metadata": {},
   "outputs": [],
   "source": [
    "tokenizer = tf.keras.preprocessing.text.Tokenizer(num_words=5000, char_level=True, oov_token='UNK')"
   ]
  },
  {
   "cell_type": "code",
   "execution_count": 12,
   "metadata": {},
   "outputs": [],
   "source": [
    "tokenizer.fit_on_texts(reviews)"
   ]
  },
  {
   "cell_type": "code",
   "execution_count": 13,
   "metadata": {},
   "outputs": [
    {
     "output_type": "execute_result",
     "data": {
      "text/plain": "{'UNK': 1,\n '[': 2,\n ']': 3,\n '/': 4,\n ' ': 5,\n '@': 6,\n '，': 7,\n '的': 8,\n ':': 9,\n '哈': 10,\n '！': 11,\n '。': 12,\n '了': 13,\n '我': 14,\n '是': 15,\n '不': 16,\n '一': 17,\n '?': 18,\n '泪': 19,\n '嘻': 20,\n '你': 21,\n 'a': 22,\n '有': 23,\n 'n': 24,\n '这': 25,\n '人': 26,\n 'e': 27,\n 't': 28,\n 'i': 29,\n 'o': 30,\n '大': 31,\n '小': 32,\n '好': 33,\n '.': 34,\n '在': 35,\n '爱': 36,\n '个': 37,\n '天': 38,\n '来': 39,\n '？': 40,\n '心': 41,\n '们': 42,\n '~': 43,\n 'l': 44,\n '子': 45,\n 'c': 46,\n 's': 47,\n '啊': 48,\n '#': 49,\n '就': 50,\n '上': 51,\n 'h': 52,\n '0': 53,\n '1': 54,\n '回': 55,\n '可': 56,\n '看': 57,\n '到': 58,\n '家': 59,\n '都': 60,\n '要': 61,\n '么': 62,\n 'r': 63,\n '还': 64,\n '-': 65,\n '狂': 66,\n '抓': 67,\n '吃': 68,\n 'y': 69,\n '去': 70,\n 'm': 71,\n '鼓': 72,\n 'p': 73,\n '掌': 74,\n 'd': 75,\n '下': 76,\n '没': 77,\n '中': 78,\n '2': 79,\n '老': 80,\n '太': 81,\n 'g': 82,\n '也': 83,\n '会': 84,\n '时': 85,\n '开': 86,\n '多': 87,\n '复': 88,\n '…': 89,\n '得': 90,\n '生': 91,\n '笑': 92,\n '真': 93,\n '说': 94,\n '美': 95,\n '怒': 96,\n 'u': 97,\n '：': 98,\n '发': 99,\n '儿': 100,\n '_': 101,\n '过': 102,\n '想': 103,\n '能': 104,\n '年': 105,\n '国': 106,\n '出': 107,\n '为': 108,\n '吧': 109,\n '以': 110,\n '那': 111,\n '点': 112,\n '微': 113,\n '和': 114,\n '里': 115,\n '很': 116,\n '给': 117,\n 'b': 118,\n '最': 119,\n '、': 120,\n '起': 121,\n '后': 122,\n '衰': 123,\n '新': 124,\n '谢': 125,\n 'k': 126,\n '着': 127,\n '晕': 128,\n '地': 129,\n '自': 130,\n '博': 131,\n 'v': 132,\n '8': 133,\n '行': 134,\n '感': 135,\n '今': 136,\n '3': 137,\n '偷': 138,\n '日': 139,\n '乐': 140,\n '亲': 141,\n '花': 142,\n '道': 143,\n '现': 144,\n '北': 145,\n '海': 146,\n '快': 147,\n '京': 148,\n '然': 149,\n 'z': 150,\n '转': 151,\n '他': 152,\n '力': 153,\n '动': 154,\n '手': 155,\n '明': 156,\n '5': 157,\n 'w': 158,\n '样': 159,\n 'j': 160,\n '事': 161,\n '啦': 162,\n '女': 163,\n '王': 164,\n '张': 165,\n '!': 166,\n 'f': 167,\n '对': 168,\n '情': 169,\n '成': 170,\n '无': 171,\n '学': 172,\n '用': 173,\n '之': 174,\n '9': 175,\n '机': 176,\n '意': 177,\n '欢': 178,\n '游': 179,\n '次': 180,\n '同': 181,\n '又': 182,\n '做': 183,\n '喜': 184,\n '三': 185,\n '面': 186,\n '头': 187,\n '旅': 188,\n '话': 189,\n '吗': 190,\n '方': 191,\n '高': 192,\n '只': 193,\n '什': 194,\n '呢': 195,\n '晚': 196,\n '经': 197,\n '果': 198,\n '月': 199,\n '师': 200,\n '“': 201,\n '车': 202,\n '”': 203,\n '安': 204,\n '7': 205,\n '活': 206,\n '定': 207,\n '店': 208,\n '西': 209,\n '如': 210,\n '水': 211,\n '6': 212,\n '全': 213,\n '文': 214,\n '被': 215,\n '长': 216,\n '酒': 217,\n '友': 218,\n '公': 219,\n '妈': 220,\n '前': 221,\n '加': 222,\n '让': 223,\n '马': 224,\n '再': 225,\n '周': 226,\n '实': 227,\n '于': 228,\n '作': 229,\n '电': 230,\n '本': 231,\n '知': 232,\n '哦': 233,\n '觉': 234,\n '哥': 235,\n '4': 236,\n '东': 237,\n '南': 238,\n '打': 239,\n '分': 240,\n '间': 241,\n ',': 242,\n '当': 243,\n '气': 244,\n '李': 245,\n '早': 246,\n '品': 247,\n '食': 248,\n '山': 249,\n '风': 250,\n '场': 251,\n '主': 252,\n '别': 253,\n '伤': 254,\n '特': 255,\n '影': 256,\n '路': 257,\n '种': 258,\n '才': 259,\n '白': 260,\n '光': 261,\n '姐': 262,\n '望': 263,\n '节': 264,\n '怎': 265,\n '神': 266,\n '走': 267,\n '相': 268,\n '福': 269,\n '己': 270,\n '呀': 271,\n '第': 272,\n '两': 273,\n '呵': 274,\n '名': 275,\n 'x': 276,\n '网': 277,\n '门': 278,\n '位': 279,\n '把': 280,\n '金': 281,\n '见': 282,\n '正': 283,\n '死': 284,\n '带': 285,\n '星': 286,\n '宝': 287,\n '视': 288,\n '信': 289,\n '等': 290,\n '已': 291,\n '期': 292,\n '片': 293,\n '比': 294,\n '重': 295,\n '关': 296,\n '理': 297,\n '二': 298,\n '问': 299,\n '工': 300,\n '记': 301,\n '口': 302,\n '完': 303,\n '餐': 304,\n '边': 305,\n '观': 306,\n '直': 307,\n '飞': 308,\n '请': 309,\n '包': 310,\n '刘': 311,\n '身': 312,\n '菜': 313,\n '眼': 314,\n '更': 315,\n '每': 316,\n '体': 317,\n '几': 318,\n '少': 319,\n '江': 320,\n '业': 321,\n '武': 322,\n '台': 323,\n '外': 324,\n '猫': 325,\n '物': 326,\n '味': 327,\n '～': 328,\n '思': 329,\n '法': 330,\n '红': 331,\n '者': 332,\n '赞': 333,\n '候': 334,\n '饭': 335,\n '十': 336,\n '买': 337,\n '度': 338,\n '哪': 339,\n '错': 340,\n '嘴': 341,\n '所': 342,\n '世': 343,\n '黄': 344,\n '些': 345,\n '各': 346,\n '香': 347,\n '城': 348,\n '阳': 349,\n '围': 350,\n '阿': 351,\n '抱': 352,\n '拍': 353,\n '但': 354,\n '朋': 355,\n '惊': 356,\n '照': 357,\n '刚': 358,\n '失': 359,\n '持': 360,\n '超': 361,\n '汗': 362,\n '色': 363,\n '华': 364,\n '谁': 365,\n '睡': 366,\n '您': 367,\n '陈': 368,\n '报': 369,\n '常': 370,\n '书': 371,\n '精': 372,\n '从': 373,\n '鱼': 374,\n '其': 375,\n '牛': 376,\n '玩': 377,\n '总': 378,\n '【': 379,\n '叫': 380,\n '】': 381,\n '图': 382,\n '春': 383,\n '火': 384,\n '米': 385,\n '广': 386,\n '孩': 387,\n '钱': 388,\n '合': 389,\n '民': 390,\n '空': 391,\n '结': 392,\n '黑': 393,\n '原': 394,\n '像': 395,\n '夜': 396,\n '木': 397,\n '客': 398,\n '与': 399,\n '收': 400,\n '平': 401,\n '而': 402,\n '威': 403,\n 'q': 404,\n '演': 405,\n '男': 406,\n '放': 407,\n '肉': 408,\n '声': 409,\n '云': 410,\n '求': 411,\n '清': 412,\n '青': 413,\n '听': 414,\n '此': 415,\n '传': 416,\n '拉': 417,\n '难': 418,\n '找': 419,\n '悲': 420,\n '该': 421,\n '幸': 422,\n '越': 423,\n '何': 424,\n '她': 425,\n '受': 426,\n '员': 427,\n '干': 428,\n '四': 429,\n '万': 430,\n '强': 431,\n '喝': 432,\n '球': 433,\n '蛋': 434,\n '州': 435,\n '待': 436,\n '市': 437,\n '号': 438,\n '雨': 439,\n '蜡': 440,\n '先': 441,\n '进': 442,\n '接': 443,\n '午': 444,\n '表': 445,\n '五': 446,\n '烛': 447,\n '界': 448,\n '应': 449,\n '林': 450,\n '流': 451,\n '因': 452,\n '跟': 453,\n '油': 454,\n '半': 455,\n '满': 456,\n '服': 457,\n '假': 458,\n '热': 459,\n '住': 460,\n '馋': 461,\n '班': 462,\n '梦': 463,\n '志': 464,\n '＂': 465,\n '龙': 466,\n '目': 467,\n '部': 468,\n '杨': 469,\n '注': 470,\n '必': 471,\n '帮': 472,\n '利': 473,\n '丽': 474,\n '通': 475,\n '代': 476,\n '非': 477,\n '单': 478,\n '祝': 479,\n '送': 480,\n '房': 481,\n '亮': 482,\n '雪': 483,\n '音': 484,\n '迎': 485,\n '内': 486,\n '线': 487,\n '百': 488,\n '入': 489,\n '变': 490,\n '爷': 491,\n '始': 492,\n '茶': 493,\n '深': 494,\n '近': 495,\n '达': 496,\n '元': 497,\n '远': 498,\n '》': 499,\n '《': 500,\n '计': 501,\n '豆': 502,\n '终': 503,\n '字': 504,\n '将': 505,\n '支': 506,\n '晓': 507,\n '浪': 508,\n '提': 509,\n '考': 510,\n '享': 511,\n '告': 512,\n '狗': 513,\n '准': 514,\n '酷': 515,\n '化': 516,\n '希': 517,\n '哼': 518,\n '；': 519,\n '）': 520,\n '景': 521,\n '害': 522,\n '礼': 523,\n '粉': 524,\n '费': 525,\n '妹': 526,\n '级': 527,\n '推': 528,\n '摄': 529,\n '播': 530,\n '语': 531,\n '爸': 532,\n '题': 533,\n '童': 534,\n '算': 535,\n '病': 536,\n '格': 537,\n '滴': 538,\n '奖': 539,\n '（': 540,\n '兔': 541,\n '条': 542,\n '官': 543,\n '团': 544,\n '解': 545,\n '德': 546,\n '胖': 547,\n '制': 548,\n '连': 549,\n '性': 550,\n '货': 551,\n '歌': 552,\n '毛': 553,\n '社': 554,\n '斯': 555,\n '容': 556,\n '试': 557,\n '艺': 558,\n '办': 559,\n '啥': 560,\n '亚': 561,\n '保': 562,\n '―': 563,\n '导': 564,\n '静': 565,\n '量': 566,\n '排': 567,\n '司': 568,\n '运': 569,\n '胡': 570,\n '向': 571,\n '英': 572,\n '建': 573,\n '咖': 574,\n '温': 575,\n '奇': 576,\n '宁': 577,\n '选': 578,\n '居': 579,\n '卡': 580,\n '价': 581,\n '管': 582,\n '脸': 583,\n '程': 584,\n '任': 585,\n '赶': 586,\n '骂': 587,\n '克': 588,\n '哇': 589,\n '区': 590,\n '园': 591,\n '系': 592,\n '续': 593,\n '交': 594,\n '院': 595,\n '猪': 596,\n '备': 597,\n '嘛': 598,\n '联': 599,\n '熊': 600,\n '俺': 601,\n '坐': 602,\n '尔': 603,\n '八': 604,\n '底': 605,\n '教': 606,\n '版': 607,\n '写': 608,\n '麻': 609,\n '苦': 610,\n '命': 611,\n '娘': 612,\n '须': 613,\n '数': 614,\n '夏': 615,\n '剧': 616,\n '昨': 617,\n '奶': 618,\n '处': 619,\n '认': 620,\n '皮': 621,\n '它': 622,\n '布': 623,\n '巴': 624,\n '易': 625,\n '装': 626,\n '怜': 627,\n '千': 628,\n '票': 629,\n '拿': 630,\n '站': 631,\n '息': 632,\n '鲜': 633,\n '冰': 634,\n '穿': 635,\n '鼻': 636,\n '编': 637,\n '士': 638,\n '式': 639,\n '帅': 640,\n '念': 641,\n '石': 642,\n '座': 643,\n '彩': 644,\n '永': 645,\n '奥': 646,\n '创': 647,\n '怕': 648,\n '参': 649,\n '评': 650,\n '专': 651,\n '象': 652,\n '便': 653,\n '整': 654,\n '丝': 655,\n '秀': 656,\n '绝': 657,\n '航': 658,\n '卖': 659,\n '养': 660,\n '尼': 661,\n '衣': 662,\n '六': 663,\n '啡': 664,\n '首': 665,\n '商': 666,\n '波': 667,\n '草': 668,\n '厅': 669,\n '鞋': 670,\n '冷': 671,\n '队': 672,\n '双': 673,\n '咱': 674,\n '鸡': 675,\n '糕': 676,\n '敢': 677,\n '言': 678,\n '鬼': 679,\n '锅': 680,\n '佳': 681,\n '屎': 682,\n '军': 683,\n '康': 684,\n '闻': 685,\n '画': 686,\n '务': 687,\n '健': 688,\n '湖': 689,\n '消': 690,\n '庆': 691,\n '产': 692,\n '久': 693,\n '铁': 694,\n '末': 695,\n '够': 696,\n '离': 697,\n '搞': 698,\n '环': 699,\n '留': 700,\n '集': 701,\n '蓝': 702,\n '馆': 703,\n '挖': 704,\n '尚': 705,\n '叔': 706,\n '论': 707,\n '兰': 708,\n '调': 709,\n '差': 710,\n '赵': 711,\n '苏': 712,\n '楼': 713,\n '许': 714,\n '立': 715,\n '需': 716,\n '局': 717,\n '由': 718,\n '件': 719,\n '紧': 720,\n '落': 721,\n '功': 722,\n '确': 723,\n '右': 724,\n '靠': 725,\n '证': 726,\n '继': 727,\n '至': 728,\n '醒': 729,\n '钟': 730,\n '洋': 731,\n '七': 732,\n '夫': 733,\n '反': 734,\n '沙': 735,\n '改': 736,\n '领': 737,\n '及': 738,\n '懂': 739,\n '晨': 740,\n '羊': 741,\n '岁': 742,\n '韩': 743,\n '肥': 744,\n '习': 745,\n '委': 746,\n '岛': 747,\n '贝': 748,\n '婚': 749,\n '秋': 750,\n '伙': 751,\n '土': 752,\n '术': 753,\n '牌': 754,\n '君': 755,\n '哭': 756,\n '厨': 757,\n '徐': 758,\n '板': 759,\n '基': 760,\n '忘': 761,\n '孙': 762,\n '切': 763,\n '指': 764,\n '忙': 765,\n '唱': 766,\n '句': 767,\n '愿': 768,\n '古': 769,\n '随': 770,\n '伟': 771,\n '耶': 772,\n '段': 773,\n '堂': 774,\n '雅': 775,\n '遇': 776,\n '罗': 777,\n '萌': 778,\n '松': 779,\n '吴': 780,\n '维': 781,\n '杯': 782,\n '脑': 783,\n '伴': 784,\n '偶': 785,\n '叶': 786,\n '份': 787,\n '故': 788,\n '配': 789,\n '兴': 790,\n '街': 791,\n '哎': 792,\n '辣': 793,\n '简': 794,\n '暖': 795,\n '极': 796,\n '汤': 797,\n '型': 798,\n '组': 799,\n '掉': 800,\n '未': 801,\n '使': 802,\n '恭': 803,\n '私': 804,\n '往': 805,\n '值': 806,\n '医': 807,\n '或': 808,\n '甜': 809,\n '步': 810,\n '港': 811,\n '九': 812,\n '资': 813,\n '河': 814,\n '痛': 815,\n '弟': 816,\n '足': 817,\n '玉': 818,\n '科': 819,\n '倒': 820,\n '换': 821,\n '质': 822,\n '顺': 823,\n '卫': 824,\n '疯': 825,\n '烧': 826,\n '速': 827,\n '羞': 828,\n '\"': 829,\n '助': 830,\n '典': 831,\n '怀': 832,\n '跑': 833,\n '糖': 834,\n '冬': 835,\n '众': 836,\n '荐': 837,\n '户': 838,\n '战': 839,\n '轻': 840,\n '娜': 841,\n '贵': 842,\n '娃': 843,\n '玛': 844,\n '际': 845,\n '造': 846,\n '野': 847,\n '郭': 848,\n '似': 849,\n '营': 850,\n '母': 851,\n '取': 852,\n '依': 853,\n '妞': 854,\n '吉': 855,\n '左': 856,\n '群': 857,\n '停': 858,\n '怪': 859,\n '朱': 860,\n '约': 861,\n '筒': 862,\n '据': 863,\n '爆': 864,\n '逼': 865,\n '赛': 866,\n '挺': 867,\n '洗': 868,\n '雷': 869,\n '料': 870,\n '峰': 871,\n '且': 872,\n '根': 873,\n '展': 874,\n '源': 875,\n '套': 876,\n '讲': 877,\n '丁': 878,\n '独': 879,\n '良': 880,\n '政': 881,\n '疼': 882,\n '纸': 883,\n '并': 884,\n '余': 885,\n '杂': 886,\n '牙': 887,\n '丹': 888,\n '致': 889,\n '杰': 890,\n '示': 891,\n '田': 892,\n '块': 893,\n '洲': 894,\n '获': 895,\n '曼': 896,\n '乱': 897,\n '兄': 898,\n '识': 899,\n '藏': 900,\n '迷': 901,\n '验': 902,\n '村': 903,\n '救': 904,\n '血': 905,\n '优': 906,\n '设': 907,\n '警': 908,\n '某': 909,\n '灵': 910,\n '嘉': 911,\n '默': 912,\n '招': 913,\n '坏': 914,\n '预': 915,\n '角': 916,\n '季': 917,\n '智': 918,\n '读': 919,\n '恶': 920,\n '素': 921,\n '媒': 922,\n '决': 923,\n '曾': 924,\n '却': 925,\n '尽': 926,\n '脚': 927,\n '屈': 928,\n '漂': 929,\n '即': 930,\n '购': 931,\n '烤': 932,\n '惜': 933,\n '适': 934,\n '圈': 935,\n '免': 936,\n '漫': 937,\n '懒': 938,\n '鹏': 939,\n '泡': 940,\n '聚': 941,\n '背': 942,\n '激': 943,\n '湾': 944,\n '录': 945,\n '类': 946,\n '泉': 947,\n '历': 948,\n '棒': 949,\n '突': 950,\n '频': 951,\n '翻': 952,\n '顾': 953,\n '舞': 954,\n '义': 955,\n '态': 956,\n '饿': 957,\n '姑': 958,\n '辛': 959,\n '折': 960,\n '坚': 961,\n '婆': 962,\n '朝': 963,\n '刻': 964,\n '闹': 965,\n '汉': 966,\n '慢': 967,\n '腾': 968,\n '竟': 969,\n '富': 970,\n '诉': 971,\n '严': 972,\n '抢': 973,\n '鸟': 974,\n '忍': 975,\n '银': 976,\n '史': 977,\n '欣': 978,\n '护': 979,\n '投': 980,\n '散': 981,\n '虽': 982,\n '修': 983,\n '细': 984,\n '顶': 985,\n '恩': 986,\n '统': 987,\n '杀': 988,\n '淡': 989,\n '断': 990,\n '查': 991,\n '财': 992,\n '丫': 993,\n '树': 994,\n '室': 995,\n '尝': 996,\n '勇': 997,\n '麦': 998,\n '川': 999,\n '低': 1000,\n ...}"
     },
     "metadata": {},
     "execution_count": 13
    }
   ],
   "source": [
    "tokenizer.word_index"
   ]
  },
  {
   "cell_type": "code",
   "execution_count": 14,
   "metadata": {},
   "outputs": [],
   "source": [
    "vocab_size = len(tokenizer.word_index.keys())"
   ]
  },
  {
   "cell_type": "code",
   "execution_count": 15,
   "metadata": {},
   "outputs": [
    {
     "output_type": "execute_result",
     "data": {
      "text/plain": "5892"
     },
     "metadata": {},
     "execution_count": 15
    }
   ],
   "source": [
    "vocab_size"
   ]
  },
  {
   "cell_type": "code",
   "execution_count": 16,
   "metadata": {},
   "outputs": [
    {
     "output_type": "execute_result",
     "data": {
      "text/plain": "119988"
     },
     "metadata": {},
     "execution_count": 16
    }
   ],
   "source": [
    "len(reviews)"
   ]
  },
  {
   "cell_type": "code",
   "execution_count": 17,
   "metadata": {},
   "outputs": [],
   "source": [
    "X = tokenizer.texts_to_sequences(reviews)"
   ]
  },
  {
   "cell_type": "code",
   "execution_count": 18,
   "metadata": {},
   "outputs": [],
   "source": [
    "X = tf.keras.preprocessing.sequence.pad_sequences(X, padding='post')"
   ]
  },
  {
   "cell_type": "code",
   "execution_count": 19,
   "metadata": {},
   "outputs": [
    {
     "output_type": "execute_result",
     "data": {
      "text/plain": "(119988, 260)"
     },
     "metadata": {},
     "execution_count": 19
    }
   ],
   "source": [
    "X.shape"
   ]
  },
  {
   "cell_type": "code",
   "execution_count": 20,
   "metadata": {},
   "outputs": [],
   "source": [
    "y = np.array(labels)"
   ]
  },
  {
   "cell_type": "code",
   "execution_count": 21,
   "metadata": {},
   "outputs": [
    {
     "output_type": "execute_result",
     "data": {
      "text/plain": "array([1, 1, 1, ..., 0, 0, 0])"
     },
     "metadata": {},
     "execution_count": 21
    }
   ],
   "source": [
    "y"
   ]
  },
  {
   "cell_type": "code",
   "execution_count": 22,
   "metadata": {},
   "outputs": [],
   "source": [
    "x_train, x_test, y_train, y_test = train_test_split(X, y, test_size=0.2)"
   ]
  },
  {
   "cell_type": "code",
   "execution_count": 23,
   "metadata": {},
   "outputs": [
    {
     "output_type": "execute_result",
     "data": {
      "text/plain": "array([[ 196,   51,   57, ...,    0,    0,    0],\n       [ 144,   35,   35, ...,    0,    0,    0],\n       [  55,   88,    6, ...,    0,    0,    0],\n       ...,\n       [  23,   17,  258, ...,    0,    0,    0],\n       [  55,   88,    6, ...,    0,    0,    0],\n       [2750,  665,  292, ...,    0,    0,    0]], dtype=int32)"
     },
     "metadata": {},
     "execution_count": 23
    }
   ],
   "source": [
    "x_train"
   ]
  },
  {
   "cell_type": "code",
   "execution_count": 24,
   "metadata": {},
   "outputs": [
    {
     "output_type": "execute_result",
     "data": {
      "text/plain": "(95990, 260)"
     },
     "metadata": {},
     "execution_count": 24
    }
   ],
   "source": [
    "x_train.shape"
   ]
  },
  {
   "cell_type": "code",
   "execution_count": 25,
   "metadata": {},
   "outputs": [
    {
     "output_type": "execute_result",
     "data": {
      "text/plain": "(23998, 260)"
     },
     "metadata": {},
     "execution_count": 25
    }
   ],
   "source": [
    "x_test.shape"
   ]
  },
  {
   "cell_type": "code",
   "execution_count": 26,
   "metadata": {},
   "outputs": [
    {
     "output_type": "execute_result",
     "data": {
      "text/plain": "array([0, 1, 0, 0, 0, 1, 1, 1, 1, 1])"
     },
     "metadata": {},
     "execution_count": 26
    }
   ],
   "source": [
    "y_train[:10]"
   ]
  },
  {
   "cell_type": "code",
   "execution_count": 27,
   "metadata": {},
   "outputs": [],
   "source": [
    "train_dataset = tf.data.Dataset.from_tensor_slices((x_train, y_train)).shuffle(5000).batch(64)"
   ]
  },
  {
   "cell_type": "code",
   "execution_count": 28,
   "metadata": {},
   "outputs": [],
   "source": [
    "test_dataset = tf.data.Dataset.from_tensor_slices((x_test, y_test)).shuffle(5000).batch(64)"
   ]
  },
  {
   "cell_type": "code",
   "execution_count": 29,
   "metadata": {},
   "outputs": [],
   "source": [
    "embedding_dim = 256\n",
    "hidden_dim = 128"
   ]
  },
  {
   "cell_type": "code",
   "execution_count": 30,
   "metadata": {},
   "outputs": [
    {
     "output_type": "execute_result",
     "data": {
      "text/plain": "'rnn_classify_checkpoints'"
     },
     "metadata": {},
     "execution_count": 30
    }
   ],
   "source": [
    "checkpoint_path = 'rnn_classify_checkpoints/checkpoint.ckpt'\n",
    "checkpoint_dir = os.path.dirname(checkpoint_path)\n",
    "checkpoint_dir"
   ]
  },
  {
   "cell_type": "code",
   "execution_count": 31,
   "metadata": {},
   "outputs": [],
   "source": [
    "cp_callback = tf.keras.callbacks.ModelCheckpoint(\n",
    "    filepath=checkpoint_path,\n",
    "    save_weights_only=True,\n",
    "    verbose=1\n",
    ")"
   ]
  },
  {
   "cell_type": "code",
   "execution_count": 32,
   "metadata": {},
   "outputs": [],
   "source": [
    "model = tf.keras.Sequential([\n",
    "    tf.keras.layers.Embedding(vocab_size, embedding_dim),\n",
    "    tf.keras.layers.Bidirectional(tf.keras.layers.GRU(hidden_dim, return_sequences=True,recurrent_initializer='glorot_uniform')),\n",
    "    tf.keras.layers.Bidirectional(tf.keras.layers.GRU(hidden_dim, return_sequences=False,recurrent_initializer='glorot_uniform')),\n",
    "    tf.keras.layers.Dense(128, activation='relu'),\n",
    "    tf.keras.layers.Dense(1, activation='sigmoid')\n",
    "    ]\n",
    ")"
   ]
  },
  {
   "cell_type": "code",
   "execution_count": 33,
   "metadata": {},
   "outputs": [
    {
     "output_type": "stream",
     "name": "stdout",
     "text": "Model: \"sequential\"\n_________________________________________________________________\nLayer (type)                 Output Shape              Param #   \n=================================================================\nembedding (Embedding)        (None, None, 256)         1508352   \n_________________________________________________________________\nbidirectional (Bidirectional (None, None, 256)         296448    \n_________________________________________________________________\nbidirectional_1 (Bidirection (None, 256)               296448    \n_________________________________________________________________\ndense (Dense)                (None, 128)               32896     \n_________________________________________________________________\ndense_1 (Dense)              (None, 1)                 129       \n=================================================================\nTotal params: 2,134,273\nTrainable params: 2,134,273\nNon-trainable params: 0\n_________________________________________________________________\n"
    }
   ],
   "source": [
    "model.summary()"
   ]
  },
  {
   "cell_type": "code",
   "execution_count": 34,
   "metadata": {},
   "outputs": [],
   "source": [
    "model.compile(optimizer='adam', loss='binary_crossentropy', metrics=['accuracy'])"
   ]
  },
  {
   "cell_type": "code",
   "execution_count": 35,
   "metadata": {},
   "outputs": [
    {
     "output_type": "stream",
     "name": "stdout",
     "text": "Train on 95990 samples, validate on 23998 samples\nEpoch 1/5\n95744/95990 [============================>.] - ETA: 1s - loss: 0.2047 - accuracy: 0.9164\nEpoch 00001: saving model to rnn_classify_checkpoints/checkpoint.ckpt\n95990/95990 [==============================] - 528s 6ms/sample - loss: 0.2044 - accuracy: 0.9166 - val_loss: 0.0709 - val_accuracy: 0.9803\nEpoch 2/5\n 9728/95990 [==>...........................] - ETA: 7:17 - loss: 0.0606 - accuracy: 0.9843"
    }
   ],
   "source": [
    "history = model.fit(\n",
    "    x_train,\n",
    "    y_train,\n",
    "    epochs=5,\n",
    "    batch_size=512,\n",
    "    validation_data=(x_test, y_test),\n",
    "    callbacks=[cp_callback]\n",
    ")"
   ]
  },
  {
   "cell_type": "code",
   "execution_count": null,
   "metadata": {},
   "outputs": [],
   "source": []
  },
  {
   "cell_type": "code",
   "execution_count": null,
   "metadata": {},
   "outputs": [],
   "source": []
  }
 ]
}