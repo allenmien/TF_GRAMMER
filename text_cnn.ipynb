{
 "nbformat": 4,
 "nbformat_minor": 2,
 "metadata": {
  "language_info": {
   "name": "python",
   "codemirror_mode": {
    "name": "ipython",
    "version": 3
   },
   "version": "3.6.10-final"
  },
  "orig_nbformat": 2,
  "file_extension": ".py",
  "mimetype": "text/x-python",
  "name": "python",
  "npconvert_exporter": "python",
  "pygments_lexer": "ipython3",
  "version": 3,
  "kernelspec": {
   "name": "python361064bittf2conda263a78276eaa427895d8501f9c6dbdc5",
   "display_name": "Python 3.6.10 64-bit ('tf2': conda)"
  }
 },
 "cells": [
  {
   "cell_type": "code",
   "execution_count": 6,
   "metadata": {},
   "outputs": [],
   "source": [
    "import tensorflow as tf \n",
    "from tensorflow import keras\n",
    "import pandas as pd \n",
    "import numpy as np \n",
    "from sklearn.model_selection import train_test_split\n",
    "from tqdm import tqdm\n",
    "import os"
   ]
  },
  {
   "cell_type": "code",
   "execution_count": 3,
   "metadata": {},
   "outputs": [
    {
     "name": "stderr",
     "output_type": "stream",
     "text": "to token :: 100%|██████████| 119988/119988 [00:08<00:00, 13671.04it/s]\n"
    }
   ],
   "source": [
    "data_path = 'data/weibo_senti_100k.csv'\n",
    "data_df = pd.read_csv(data_path, sep=',', error_bad_lines=False)\n",
    "\n",
    "reviews, labels = list(), list()\n",
    "max_length = 0\n",
    "for index, (label, review) in tqdm(data_df.iterrows(), total=data_df.shape[0], desc='to token :'):\n",
    "    if len(review) > max_length:\n",
    "        max_length = len(review)\n",
    "    reviews.append([r for r in review])\n",
    "    labels.append(int(label))"
   ]
  },
  {
   "cell_type": "code",
   "execution_count": 4,
   "metadata": {},
   "outputs": [],
   "source": [
    "tokenizer = tf.keras.preprocessing.text.Tokenizer(num_words=5000, char_level=True, oov_token='UNK')\n",
    "tokenizer.fit_on_texts(reviews)\n",
    "vocab_size = len(tokenizer.word_index.keys())\n",
    "X = tokenizer.texts_to_sequences(reviews)\n",
    "X = tf.keras.preprocessing.sequence.pad_sequences(X, padding='post')\n",
    "y = np.array(labels)\n",
    "x_train, x_test, y_train, y_test = train_test_split(X, y, test_size=0.2)\n",
    "train_dataset = tf.data.Dataset.from_tensor_slices((x_train, y_train)).shuffle(5000).batch(64)\n",
    "test_dataset = tf.data.Dataset.from_tensor_slices((x_test, y_test)).shuffle(5000).batch(64)"
   ]
  },
  {
   "cell_type": "code",
   "execution_count": 5,
   "metadata": {},
   "outputs": [],
   "source": [
    "checkpoint_path = 'text_cnn_checkpoints/checkpoint.ckpt'\n",
    "checkpoint_dir = os.path.dirname(checkpoint_path)\n",
    "\n",
    "cp_callback = tf.keras.callbacks.ModelCheckpoint(\n",
    "    filepath=checkpoint_path,\n",
    "    save_weights_only=True,\n",
    "    verbose=1\n",
    ")"
   ]
  },
  {
   "cell_type": "code",
   "execution_count": 7,
   "metadata": {},
   "outputs": [],
   "source": [
    "# Model\n",
    "input = keras.Input(shape=(max_length, ), dtype='float64')"
   ]
  },
  {
   "cell_type": "code",
   "execution_count": 8,
   "metadata": {},
   "outputs": [
    {
     "data": {
      "text/plain": "<tf.Tensor 'input_1:0' shape=(None, 260) dtype=float64>"
     },
     "execution_count": 8,
     "metadata": {},
     "output_type": "execute_result"
    }
   ],
   "source": [
    "input"
   ]
  },
  {
   "cell_type": "code",
   "execution_count": 9,
   "metadata": {},
   "outputs": [
    {
     "data": {
      "text/plain": "<tensorflow.python.keras.layers.embeddings.Embedding at 0x7f7b493e82b0>"
     },
     "execution_count": 9,
     "metadata": {},
     "output_type": "execute_result"
    }
   ],
   "source": [
    "embedder = keras.layers.Embedding(vocab_size, 256)\n",
    "embedder"
   ]
  },
  {
   "cell_type": "code",
   "execution_count": 10,
   "metadata": {},
   "outputs": [
    {
     "data": {
      "text/plain": "<tf.Tensor 'embedding/Identity:0' shape=(None, 260, 256) dtype=float32>"
     },
     "execution_count": 10,
     "metadata": {},
     "output_type": "execute_result"
    }
   ],
   "source": [
    "embed = embedder(input)\n",
    "embed"
   ]
  },
  {
   "cell_type": "code",
   "execution_count": 11,
   "metadata": {},
   "outputs": [],
   "source": [
    "conv1 = keras.layers.Conv1D(filters=100, kernel_size=3, activation='relu')(embed)"
   ]
  },
  {
   "cell_type": "code",
   "execution_count": 12,
   "metadata": {},
   "outputs": [
    {
     "data": {
      "text/plain": "<tf.Tensor 'conv1d/Identity:0' shape=(None, 258, 100) dtype=float32>"
     },
     "execution_count": 12,
     "metadata": {},
     "output_type": "execute_result"
    }
   ],
   "source": [
    "conv1"
   ]
  },
  {
   "cell_type": "code",
   "execution_count": 13,
   "metadata": {},
   "outputs": [],
   "source": [
    "pool1 = keras.layers.MaxPool1D(max_length - 3 + 1)(conv1)"
   ]
  },
  {
   "cell_type": "code",
   "execution_count": 14,
   "metadata": {},
   "outputs": [
    {
     "data": {
      "text/plain": "<tf.Tensor 'max_pooling1d/Identity:0' shape=(None, 1, 100) dtype=float32>"
     },
     "execution_count": 14,
     "metadata": {},
     "output_type": "execute_result"
    }
   ],
   "source": [
    "pool1"
   ]
  },
  {
   "cell_type": "code",
   "execution_count": 15,
   "metadata": {},
   "outputs": [
    {
     "data": {
      "text/plain": "<tf.Tensor 'flatten/Identity:0' shape=(None, 100) dtype=float32>"
     },
     "execution_count": 15,
     "metadata": {},
     "output_type": "execute_result"
    }
   ],
   "source": [
    "flatten1 = keras.layers.Flatten()(pool1)\n",
    "flatten1"
   ]
  },
  {
   "cell_type": "code",
   "execution_count": 16,
   "metadata": {},
   "outputs": [],
   "source": [
    "conv2 = keras.layers.Conv1D(filters=100, kernel_size=4, activation='relu')(embed)\n",
    "pool2 = keras.layers.MaxPool1D(max_length - 4 + 1)(conv2)\n",
    "flatten2 = keras.layers.Flatten()(pool2)"
   ]
  },
  {
   "cell_type": "code",
   "execution_count": 18,
   "metadata": {},
   "outputs": [
    {
     "data": {
      "text/plain": "<tf.Tensor 'max_pooling1d_1/Identity:0' shape=(None, 1, 100) dtype=float32>"
     },
     "execution_count": 18,
     "metadata": {},
     "output_type": "execute_result"
    }
   ],
   "source": [
    "pool2"
   ]
  },
  {
   "cell_type": "code",
   "execution_count": 17,
   "metadata": {},
   "outputs": [
    {
     "data": {
      "text/plain": "<tf.Tensor 'flatten_1/Identity:0' shape=(None, 100) dtype=float32>"
     },
     "execution_count": 17,
     "metadata": {},
     "output_type": "execute_result"
    }
   ],
   "source": [
    "flatten2"
   ]
  },
  {
   "cell_type": "code",
   "execution_count": 19,
   "metadata": {},
   "outputs": [],
   "source": [
    "conv3 = keras.layers.Conv1D(filters=100, kernel_size=4, activation='relu')(embed)\n",
    "pool3 = keras.layers.MaxPool1D(max_length - 4 + 1)(conv3)\n",
    "flatten3 = keras.layers.Flatten()(pool3)"
   ]
  },
  {
   "cell_type": "code",
   "execution_count": 20,
   "metadata": {},
   "outputs": [
    {
     "data": {
      "text/plain": "<tf.Tensor 'flatten_2/Identity:0' shape=(None, 100) dtype=float32>"
     },
     "execution_count": 20,
     "metadata": {},
     "output_type": "execute_result"
    }
   ],
   "source": [
    "flatten3"
   ]
  },
  {
   "cell_type": "code",
   "execution_count": 23,
   "metadata": {},
   "outputs": [],
   "source": [
    "merge = keras.layers.concatenate([flatten1, flatten2, flatten3], axis=-1)"
   ]
  },
  {
   "cell_type": "code",
   "execution_count": 24,
   "metadata": {},
   "outputs": [
    {
     "data": {
      "text/plain": "<tf.Tensor 'concatenate_1/Identity:0' shape=(None, 300) dtype=float32>"
     },
     "execution_count": 24,
     "metadata": {},
     "output_type": "execute_result"
    }
   ],
   "source": [
    "merge"
   ]
  },
  {
   "cell_type": "code",
   "execution_count": 25,
   "metadata": {},
   "outputs": [],
   "source": [
    "output = keras.layers.Dropout(0.5)(merge)"
   ]
  },
  {
   "cell_type": "code",
   "execution_count": 26,
   "metadata": {},
   "outputs": [
    {
     "data": {
      "text/plain": "<tf.Tensor 'dropout/Identity:0' shape=(None, 300) dtype=float32>"
     },
     "execution_count": 26,
     "metadata": {},
     "output_type": "execute_result"
    }
   ],
   "source": [
    "output"
   ]
  },
  {
   "cell_type": "code",
   "execution_count": 27,
   "metadata": {},
   "outputs": [
    {
     "data": {
      "text/plain": "<tf.Tensor 'dense/Identity:0' shape=(None, 32) dtype=float32>"
     },
     "execution_count": 27,
     "metadata": {},
     "output_type": "execute_result"
    }
   ],
   "source": [
    "output = keras.layers.Dense(32, activation='relu')(output)\n",
    "output"
   ]
  },
  {
   "cell_type": "code",
   "execution_count": 28,
   "metadata": {},
   "outputs": [],
   "source": [
    "output = keras.layers.Dense(1, activation='sigmoid')(output)"
   ]
  },
  {
   "cell_type": "code",
   "execution_count": 30,
   "metadata": {},
   "outputs": [],
   "source": [
    "model = keras.Model(inputs=input, outputs=output)"
   ]
  },
  {
   "cell_type": "code",
   "execution_count": 31,
   "metadata": {},
   "outputs": [
    {
     "name": "stdout",
     "output_type": "stream",
     "text": "Model: \"model\"\n__________________________________________________________________________________________________\nLayer (type)                    Output Shape         Param #     Connected to                     \n==================================================================================================\ninput_1 (InputLayer)            [(None, 260)]        0                                            \n__________________________________________________________________________________________________\nembedding (Embedding)           (None, 260, 256)     1508352     input_1[0][0]                    \n__________________________________________________________________________________________________\nconv1d (Conv1D)                 (None, 258, 100)     76900       embedding[0][0]                  \n__________________________________________________________________________________________________\nconv1d_1 (Conv1D)               (None, 257, 100)     102500      embedding[0][0]                  \n__________________________________________________________________________________________________\nconv1d_2 (Conv1D)               (None, 257, 100)     102500      embedding[0][0]                  \n__________________________________________________________________________________________________\nmax_pooling1d (MaxPooling1D)    (None, 1, 100)       0           conv1d[0][0]                     \n__________________________________________________________________________________________________\nmax_pooling1d_1 (MaxPooling1D)  (None, 1, 100)       0           conv1d_1[0][0]                   \n__________________________________________________________________________________________________\nmax_pooling1d_2 (MaxPooling1D)  (None, 1, 100)       0           conv1d_2[0][0]                   \n__________________________________________________________________________________________________\nflatten (Flatten)               (None, 100)          0           max_pooling1d[0][0]              \n__________________________________________________________________________________________________\nflatten_1 (Flatten)             (None, 100)          0           max_pooling1d_1[0][0]            \n__________________________________________________________________________________________________\nflatten_2 (Flatten)             (None, 100)          0           max_pooling1d_2[0][0]            \n__________________________________________________________________________________________________\nconcatenate_1 (Concatenate)     (None, 300)          0           flatten[0][0]                    \n                                                                 flatten_1[0][0]                  \n                                                                 flatten_2[0][0]                  \n__________________________________________________________________________________________________\ndropout (Dropout)               (None, 300)          0           concatenate_1[0][0]              \n__________________________________________________________________________________________________\ndense (Dense)                   (None, 32)           9632        dropout[0][0]                    \n__________________________________________________________________________________________________\ndense_1 (Dense)                 (None, 1)            33          dense[0][0]                      \n==================================================================================================\nTotal params: 1,799,917\nTrainable params: 1,799,917\nNon-trainable params: 0\n__________________________________________________________________________________________________\n"
    }
   ],
   "source": [
    "model.summary()"
   ]
  },
  {
   "cell_type": "code",
   "execution_count": 32,
   "metadata": {},
   "outputs": [],
   "source": [
    "model.compile(optimizer='adam', loss='binary_crossentropy', metrics=['accuracy'])"
   ]
  },
  {
   "cell_type": "code",
   "execution_count": 33,
   "metadata": {},
   "outputs": [
    {
     "name": "stdout",
     "output_type": "stream",
     "text": "Train on 95990 samples, validate on 23998 samples\nEpoch 1/5\n95744/95990 [============================>.] - ETA: 0s - loss: 0.1035 - accuracy: 0.9609\nEpoch 00001: saving model to text_cnn_checkpoints/checkpoint.ckpt\n95990/95990 [==============================] - 167s 2ms/sample - loss: 0.1034 - accuracy: 0.9609 - val_loss: 0.0451 - val_accuracy: 0.9826\nEpoch 2/5\n95744/95990 [============================>.] - ETA: 0s - loss: 0.0474 - accuracy: 0.9801\nEpoch 00002: saving model to text_cnn_checkpoints/checkpoint.ckpt\n95990/95990 [==============================] - 167s 2ms/sample - loss: 0.0475 - accuracy: 0.9801 - val_loss: 0.0545 - val_accuracy: 0.9825\nEpoch 3/5\n95744/95990 [============================>.] - ETA: 0s - loss: 0.0442 - accuracy: 0.9813\nEpoch 00003: saving model to text_cnn_checkpoints/checkpoint.ckpt\n95990/95990 [==============================] - 167s 2ms/sample - loss: 0.0442 - accuracy: 0.9813 - val_loss: 0.0426 - val_accuracy: 0.9819\nEpoch 4/5\n95744/95990 [============================>.] - ETA: 0s - loss: 0.0421 - accuracy: 0.9817\nEpoch 00004: saving model to text_cnn_checkpoints/checkpoint.ckpt\n95990/95990 [==============================] - 167s 2ms/sample - loss: 0.0420 - accuracy: 0.9817 - val_loss: 0.0497 - val_accuracy: 0.9827\nEpoch 5/5\n95744/95990 [============================>.] - ETA: 0s - loss: 0.0398 - accuracy: 0.9826\nEpoch 00005: saving model to text_cnn_checkpoints/checkpoint.ckpt\n95990/95990 [==============================] - 167s 2ms/sample - loss: 0.0397 - accuracy: 0.9827 - val_loss: 0.0442 - val_accuracy: 0.9809\n"
    }
   ],
   "source": [
    "history = model.fit(\n",
    "    x_train,\n",
    "    y_train,\n",
    "    epochs=5,\n",
    "    batch_size=512,\n",
    "    validation_data=(x_test, y_test),\n",
    "    callbacks=[cp_callback]\n",
    ")"
   ]
  },
  {
   "cell_type": "code",
   "execution_count": null,
   "metadata": {},
   "outputs": [],
   "source": []
  }
 ]
}