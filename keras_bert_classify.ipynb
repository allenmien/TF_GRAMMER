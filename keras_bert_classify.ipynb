{
 "nbformat": 4,
 "nbformat_minor": 2,
 "metadata": {
  "language_info": {
   "name": "python",
   "codemirror_mode": {
    "name": "ipython",
    "version": 3
   },
   "version": "3.6.10-final"
  },
  "orig_nbformat": 2,
  "file_extension": ".py",
  "mimetype": "text/x-python",
  "name": "python",
  "npconvert_exporter": "python",
  "pygments_lexer": "ipython3",
  "version": 3,
  "kernelspec": {
   "name": "python361064bittf2conda263a78276eaa427895d8501f9c6dbdc5",
   "display_name": "Python 3.6.10 64-bit ('tf2': conda)"
  }
 },
 "cells": [
  {
   "cell_type": "code",
   "execution_count": 41,
   "metadata": {},
   "outputs": [],
   "source": [
    "import os \n",
    "import codecs\n",
    "import numpy as np\n",
    "from tensorflow import keras\n",
    "from keras_bert import load_trained_model_from_checkpoint, Tokenizer"
   ]
  },
  {
   "cell_type": "code",
   "execution_count": 9,
   "metadata": {},
   "outputs": [],
   "source": [
    "os.environ['TF_KERAS'] = '1'"
   ]
  },
  {
   "cell_type": "code",
   "execution_count": 11,
   "metadata": {},
   "outputs": [],
   "source": [
    "config_path = 'bert_checkpoint/bert_config.json'\n",
    "checkpoint_path = 'bert_checkpoint/bert_model.ckpt'\n",
    "vocab_path = 'bert_checkpoint/vocab.txt'"
   ]
  },
  {
   "cell_type": "code",
   "execution_count": 14,
   "metadata": {},
   "outputs": [],
   "source": [
    "token_dict = {}\n",
    "\n",
    "with codecs.open(vocab_path, 'r', 'utf-8') as reader:\n",
    "    for line in reader:\n",
    "        token = line.strip()\n",
    "        token_dict[token] = len(token_dict)"
   ]
  },
  {
   "cell_type": "code",
   "execution_count": 18,
   "metadata": {},
   "outputs": [],
   "source": [
    "bert_model = load_trained_model_from_checkpoint(config_path, checkpoint_path, seq_len=None)"
   ]
  },
  {
   "cell_type": "code",
   "execution_count": 20,
   "metadata": {
    "tags": [
     "outputPrepend"
    ]
   },
   "outputs": [
    {
     "output_type": "stream",
     "name": "stdout",
     "text": " None, 768)          1536          Encoder-3-FeedForward-Add[0][0]         \n________________________________________________________________________________________________________________________\nEncoder-4-MultiHeadSelfAttention (Mult (None, None, 768)          2362368       Encoder-3-FeedForward-Norm[0][0]        \n________________________________________________________________________________________________________________________\nEncoder-4-MultiHeadSelfAttention-Dropo (None, None, 768)          0             Encoder-4-MultiHeadSelfAttention[0][0]  \n________________________________________________________________________________________________________________________\nEncoder-4-MultiHeadSelfAttention-Add ( (None, None, 768)          0             Encoder-3-FeedForward-Norm[0][0]        \n                                                                                Encoder-4-MultiHeadSelfAttention-Dropout\n________________________________________________________________________________________________________________________\nEncoder-4-MultiHeadSelfAttention-Norm  (None, None, 768)          1536          Encoder-4-MultiHeadSelfAttention-Add[0][\n________________________________________________________________________________________________________________________\nEncoder-4-FeedForward (FeedForward)    (None, None, 768)          4722432       Encoder-4-MultiHeadSelfAttention-Norm[0]\n________________________________________________________________________________________________________________________\nEncoder-4-FeedForward-Dropout (Dropout (None, None, 768)          0             Encoder-4-FeedForward[0][0]             \n________________________________________________________________________________________________________________________\nEncoder-4-FeedForward-Add (Add)        (None, None, 768)          0             Encoder-4-MultiHeadSelfAttention-Norm[0]\n                                                                                Encoder-4-FeedForward-Dropout[0][0]     \n________________________________________________________________________________________________________________________\nEncoder-4-FeedForward-Norm (LayerNorma (None, None, 768)          1536          Encoder-4-FeedForward-Add[0][0]         \n________________________________________________________________________________________________________________________\nEncoder-5-MultiHeadSelfAttention (Mult (None, None, 768)          2362368       Encoder-4-FeedForward-Norm[0][0]        \n________________________________________________________________________________________________________________________\nEncoder-5-MultiHeadSelfAttention-Dropo (None, None, 768)          0             Encoder-5-MultiHeadSelfAttention[0][0]  \n________________________________________________________________________________________________________________________\nEncoder-5-MultiHeadSelfAttention-Add ( (None, None, 768)          0             Encoder-4-FeedForward-Norm[0][0]        \n                                                                                Encoder-5-MultiHeadSelfAttention-Dropout\n________________________________________________________________________________________________________________________\nEncoder-5-MultiHeadSelfAttention-Norm  (None, None, 768)          1536          Encoder-5-MultiHeadSelfAttention-Add[0][\n________________________________________________________________________________________________________________________\nEncoder-5-FeedForward (FeedForward)    (None, None, 768)          4722432       Encoder-5-MultiHeadSelfAttention-Norm[0]\n________________________________________________________________________________________________________________________\nEncoder-5-FeedForward-Dropout (Dropout (None, None, 768)          0             Encoder-5-FeedForward[0][0]             \n________________________________________________________________________________________________________________________\nEncoder-5-FeedForward-Add (Add)        (None, None, 768)          0             Encoder-5-MultiHeadSelfAttention-Norm[0]\n                                                                                Encoder-5-FeedForward-Dropout[0][0]     \n________________________________________________________________________________________________________________________\nEncoder-5-FeedForward-Norm (LayerNorma (None, None, 768)          1536          Encoder-5-FeedForward-Add[0][0]         \n________________________________________________________________________________________________________________________\nEncoder-6-MultiHeadSelfAttention (Mult (None, None, 768)          2362368       Encoder-5-FeedForward-Norm[0][0]        \n________________________________________________________________________________________________________________________\nEncoder-6-MultiHeadSelfAttention-Dropo (None, None, 768)          0             Encoder-6-MultiHeadSelfAttention[0][0]  \n________________________________________________________________________________________________________________________\nEncoder-6-MultiHeadSelfAttention-Add ( (None, None, 768)          0             Encoder-5-FeedForward-Norm[0][0]        \n                                                                                Encoder-6-MultiHeadSelfAttention-Dropout\n________________________________________________________________________________________________________________________\nEncoder-6-MultiHeadSelfAttention-Norm  (None, None, 768)          1536          Encoder-6-MultiHeadSelfAttention-Add[0][\n________________________________________________________________________________________________________________________\nEncoder-6-FeedForward (FeedForward)    (None, None, 768)          4722432       Encoder-6-MultiHeadSelfAttention-Norm[0]\n________________________________________________________________________________________________________________________\nEncoder-6-FeedForward-Dropout (Dropout (None, None, 768)          0             Encoder-6-FeedForward[0][0]             \n________________________________________________________________________________________________________________________\nEncoder-6-FeedForward-Add (Add)        (None, None, 768)          0             Encoder-6-MultiHeadSelfAttention-Norm[0]\n                                                                                Encoder-6-FeedForward-Dropout[0][0]     \n________________________________________________________________________________________________________________________\nEncoder-6-FeedForward-Norm (LayerNorma (None, None, 768)          1536          Encoder-6-FeedForward-Add[0][0]         \n________________________________________________________________________________________________________________________\nEncoder-7-MultiHeadSelfAttention (Mult (None, None, 768)          2362368       Encoder-6-FeedForward-Norm[0][0]        \n________________________________________________________________________________________________________________________\nEncoder-7-MultiHeadSelfAttention-Dropo (None, None, 768)          0             Encoder-7-MultiHeadSelfAttention[0][0]  \n________________________________________________________________________________________________________________________\nEncoder-7-MultiHeadSelfAttention-Add ( (None, None, 768)          0             Encoder-6-FeedForward-Norm[0][0]        \n                                                                                Encoder-7-MultiHeadSelfAttention-Dropout\n________________________________________________________________________________________________________________________\nEncoder-7-MultiHeadSelfAttention-Norm  (None, None, 768)          1536          Encoder-7-MultiHeadSelfAttention-Add[0][\n________________________________________________________________________________________________________________________\nEncoder-7-FeedForward (FeedForward)    (None, None, 768)          4722432       Encoder-7-MultiHeadSelfAttention-Norm[0]\n________________________________________________________________________________________________________________________\nEncoder-7-FeedForward-Dropout (Dropout (None, None, 768)          0             Encoder-7-FeedForward[0][0]             \n________________________________________________________________________________________________________________________\nEncoder-7-FeedForward-Add (Add)        (None, None, 768)          0             Encoder-7-MultiHeadSelfAttention-Norm[0]\n                                                                                Encoder-7-FeedForward-Dropout[0][0]     \n________________________________________________________________________________________________________________________\nEncoder-7-FeedForward-Norm (LayerNorma (None, None, 768)          1536          Encoder-7-FeedForward-Add[0][0]         \n________________________________________________________________________________________________________________________\nEncoder-8-MultiHeadSelfAttention (Mult (None, None, 768)          2362368       Encoder-7-FeedForward-Norm[0][0]        \n________________________________________________________________________________________________________________________\nEncoder-8-MultiHeadSelfAttention-Dropo (None, None, 768)          0             Encoder-8-MultiHeadSelfAttention[0][0]  \n________________________________________________________________________________________________________________________\nEncoder-8-MultiHeadSelfAttention-Add ( (None, None, 768)          0             Encoder-7-FeedForward-Norm[0][0]        \n                                                                                Encoder-8-MultiHeadSelfAttention-Dropout\n________________________________________________________________________________________________________________________\nEncoder-8-MultiHeadSelfAttention-Norm  (None, None, 768)          1536          Encoder-8-MultiHeadSelfAttention-Add[0][\n________________________________________________________________________________________________________________________\nEncoder-8-FeedForward (FeedForward)    (None, None, 768)          4722432       Encoder-8-MultiHeadSelfAttention-Norm[0]\n________________________________________________________________________________________________________________________\nEncoder-8-FeedForward-Dropout (Dropout (None, None, 768)          0             Encoder-8-FeedForward[0][0]             \n________________________________________________________________________________________________________________________\nEncoder-8-FeedForward-Add (Add)        (None, None, 768)          0             Encoder-8-MultiHeadSelfAttention-Norm[0]\n                                                                                Encoder-8-FeedForward-Dropout[0][0]     \n________________________________________________________________________________________________________________________\nEncoder-8-FeedForward-Norm (LayerNorma (None, None, 768)          1536          Encoder-8-FeedForward-Add[0][0]         \n________________________________________________________________________________________________________________________\nEncoder-9-MultiHeadSelfAttention (Mult (None, None, 768)          2362368       Encoder-8-FeedForward-Norm[0][0]        \n________________________________________________________________________________________________________________________\nEncoder-9-MultiHeadSelfAttention-Dropo (None, None, 768)          0             Encoder-9-MultiHeadSelfAttention[0][0]  \n________________________________________________________________________________________________________________________\nEncoder-9-MultiHeadSelfAttention-Add ( (None, None, 768)          0             Encoder-8-FeedForward-Norm[0][0]        \n                                                                                Encoder-9-MultiHeadSelfAttention-Dropout\n________________________________________________________________________________________________________________________\nEncoder-9-MultiHeadSelfAttention-Norm  (None, None, 768)          1536          Encoder-9-MultiHeadSelfAttention-Add[0][\n________________________________________________________________________________________________________________________\nEncoder-9-FeedForward (FeedForward)    (None, None, 768)          4722432       Encoder-9-MultiHeadSelfAttention-Norm[0]\n________________________________________________________________________________________________________________________\nEncoder-9-FeedForward-Dropout (Dropout (None, None, 768)          0             Encoder-9-FeedForward[0][0]             \n________________________________________________________________________________________________________________________\nEncoder-9-FeedForward-Add (Add)        (None, None, 768)          0             Encoder-9-MultiHeadSelfAttention-Norm[0]\n                                                                                Encoder-9-FeedForward-Dropout[0][0]     \n________________________________________________________________________________________________________________________\nEncoder-9-FeedForward-Norm (LayerNorma (None, None, 768)          1536          Encoder-9-FeedForward-Add[0][0]         \n________________________________________________________________________________________________________________________\nEncoder-10-MultiHeadSelfAttention (Mul (None, None, 768)          2362368       Encoder-9-FeedForward-Norm[0][0]        \n________________________________________________________________________________________________________________________\nEncoder-10-MultiHeadSelfAttention-Drop (None, None, 768)          0             Encoder-10-MultiHeadSelfAttention[0][0] \n________________________________________________________________________________________________________________________\nEncoder-10-MultiHeadSelfAttention-Add  (None, None, 768)          0             Encoder-9-FeedForward-Norm[0][0]        \n                                                                                Encoder-10-MultiHeadSelfAttention-Dropou\n________________________________________________________________________________________________________________________\nEncoder-10-MultiHeadSelfAttention-Norm (None, None, 768)          1536          Encoder-10-MultiHeadSelfAttention-Add[0]\n________________________________________________________________________________________________________________________\nEncoder-10-FeedForward (FeedForward)   (None, None, 768)          4722432       Encoder-10-MultiHeadSelfAttention-Norm[0\n________________________________________________________________________________________________________________________\nEncoder-10-FeedForward-Dropout (Dropou (None, None, 768)          0             Encoder-10-FeedForward[0][0]            \n________________________________________________________________________________________________________________________\nEncoder-10-FeedForward-Add (Add)       (None, None, 768)          0             Encoder-10-MultiHeadSelfAttention-Norm[0\n                                                                                Encoder-10-FeedForward-Dropout[0][0]    \n________________________________________________________________________________________________________________________\nEncoder-10-FeedForward-Norm (LayerNorm (None, None, 768)          1536          Encoder-10-FeedForward-Add[0][0]        \n________________________________________________________________________________________________________________________\nEncoder-11-MultiHeadSelfAttention (Mul (None, None, 768)          2362368       Encoder-10-FeedForward-Norm[0][0]       \n________________________________________________________________________________________________________________________\nEncoder-11-MultiHeadSelfAttention-Drop (None, None, 768)          0             Encoder-11-MultiHeadSelfAttention[0][0] \n________________________________________________________________________________________________________________________\nEncoder-11-MultiHeadSelfAttention-Add  (None, None, 768)          0             Encoder-10-FeedForward-Norm[0][0]       \n                                                                                Encoder-11-MultiHeadSelfAttention-Dropou\n________________________________________________________________________________________________________________________\nEncoder-11-MultiHeadSelfAttention-Norm (None, None, 768)          1536          Encoder-11-MultiHeadSelfAttention-Add[0]\n________________________________________________________________________________________________________________________\nEncoder-11-FeedForward (FeedForward)   (None, None, 768)          4722432       Encoder-11-MultiHeadSelfAttention-Norm[0\n________________________________________________________________________________________________________________________\nEncoder-11-FeedForward-Dropout (Dropou (None, None, 768)          0             Encoder-11-FeedForward[0][0]            \n________________________________________________________________________________________________________________________\nEncoder-11-FeedForward-Add (Add)       (None, None, 768)          0             Encoder-11-MultiHeadSelfAttention-Norm[0\n                                                                                Encoder-11-FeedForward-Dropout[0][0]    \n________________________________________________________________________________________________________________________\nEncoder-11-FeedForward-Norm (LayerNorm (None, None, 768)          1536          Encoder-11-FeedForward-Add[0][0]        \n________________________________________________________________________________________________________________________\nEncoder-12-MultiHeadSelfAttention (Mul (None, None, 768)          2362368       Encoder-11-FeedForward-Norm[0][0]       \n________________________________________________________________________________________________________________________\nEncoder-12-MultiHeadSelfAttention-Drop (None, None, 768)          0             Encoder-12-MultiHeadSelfAttention[0][0] \n________________________________________________________________________________________________________________________\nEncoder-12-MultiHeadSelfAttention-Add  (None, None, 768)          0             Encoder-11-FeedForward-Norm[0][0]       \n                                                                                Encoder-12-MultiHeadSelfAttention-Dropou\n________________________________________________________________________________________________________________________\nEncoder-12-MultiHeadSelfAttention-Norm (None, None, 768)          1536          Encoder-12-MultiHeadSelfAttention-Add[0]\n________________________________________________________________________________________________________________________\nEncoder-12-FeedForward (FeedForward)   (None, None, 768)          4722432       Encoder-12-MultiHeadSelfAttention-Norm[0\n________________________________________________________________________________________________________________________\nEncoder-12-FeedForward-Dropout (Dropou (None, None, 768)          0             Encoder-12-FeedForward[0][0]            \n________________________________________________________________________________________________________________________\nEncoder-12-FeedForward-Add (Add)       (None, None, 768)          0             Encoder-12-MultiHeadSelfAttention-Norm[0\n                                                                                Encoder-12-FeedForward-Dropout[0][0]    \n________________________________________________________________________________________________________________________\nEncoder-12-FeedForward-Norm (LayerNorm (None, None, 768)          1536          Encoder-12-FeedForward-Add[0][0]        \n========================================================================================================================\nTotal params: 101,677,056\nTrainable params: 0\nNon-trainable params: 101,677,056\n________________________________________________________________________________________________________________________\n"
    }
   ],
   "source": [
    "bert_model.summary(line_length=120)"
   ]
  },
  {
   "cell_type": "code",
   "execution_count": 21,
   "metadata": {},
   "outputs": [],
   "source": [
    "tokenizer = Tokenizer(token_dict)"
   ]
  },
  {
   "cell_type": "code",
   "execution_count": 22,
   "metadata": {},
   "outputs": [
    {
     "output_type": "execute_result",
     "data": {
      "text/plain": "<keras_bert.tokenizer.Tokenizer at 0x7f5aa4719240>"
     },
     "metadata": {},
     "execution_count": 22
    }
   ],
   "source": [
    "tokenizer"
   ]
  },
  {
   "cell_type": "code",
   "execution_count": 23,
   "metadata": {},
   "outputs": [],
   "source": [
    "text = '语言模型'"
   ]
  },
  {
   "cell_type": "code",
   "execution_count": 25,
   "metadata": {},
   "outputs": [],
   "source": [
    "indices, segments = tokenizer.encode(first=text, max_len=512)"
   ]
  },
  {
   "cell_type": "code",
   "execution_count": 27,
   "metadata": {},
   "outputs": [
    {
     "output_type": "execute_result",
     "data": {
      "text/plain": "[101, 6427, 6241, 3563, 1798, 102, 0, 0, 0, 0]"
     },
     "metadata": {},
     "execution_count": 27
    }
   ],
   "source": [
    "indices[:10]"
   ]
  },
  {
   "cell_type": "code",
   "execution_count": 28,
   "metadata": {},
   "outputs": [
    {
     "output_type": "execute_result",
     "data": {
      "text/plain": "[0, 0, 0, 0, 0, 0, 0, 0, 0, 0]"
     },
     "metadata": {},
     "execution_count": 28
    }
   ],
   "source": [
    "segments[:10]"
   ]
  },
  {
   "cell_type": "code",
   "execution_count": 30,
   "metadata": {},
   "outputs": [],
   "source": [
    "predicts = bert_model.predict([np.array([indices]), np.array([segments])])"
   ]
  },
  {
   "cell_type": "code",
   "execution_count": 31,
   "metadata": {},
   "outputs": [
    {
     "output_type": "execute_result",
     "data": {
      "text/plain": "array([[[-0.6325099 ,  0.2030244 ,  0.07936614, ...,  0.49122632,\n         -0.20493308,  0.25752574],\n        [-0.75883555,  0.09651931,  1.0718751 , ..., -0.6109692 ,\n          0.04312191,  0.03881435],\n        [ 0.54770267, -0.7921164 ,  0.44435146, ...,  0.4244931 ,\n          0.4110575 ,  0.08222896],\n        ...,\n        [-0.45575452, -0.1718734 , -0.19931796, ...,  0.10876012,\n         -0.19919592, -0.05005006],\n        [-0.4851753 ,  0.04089726, -0.46500114, ...,  0.27471033,\n         -0.10994234,  0.06527417],\n        [-0.47847873, -0.36442548, -0.37093288, ...,  0.4559859 ,\n          0.03942422,  0.17148809]]], dtype=float32)"
     },
     "metadata": {},
     "execution_count": 31
    }
   ],
   "source": [
    "predicts"
   ]
  },
  {
   "cell_type": "code",
   "execution_count": 33,
   "metadata": {},
   "outputs": [
    {
     "output_type": "execute_result",
     "data": {
      "text/plain": "(1, 512, 768)"
     },
     "metadata": {},
     "execution_count": 33
    }
   ],
   "source": [
    "predicts.shape"
   ]
  },
  {
   "cell_type": "code",
   "execution_count": 34,
   "metadata": {},
   "outputs": [
    {
     "output_type": "execute_result",
     "data": {
      "text/plain": "array([[-0.6325099 ,  0.2030244 ,  0.07936614, ...,  0.49122632,\n        -0.20493308,  0.25752574],\n       [-0.75883555,  0.09651931,  1.0718751 , ..., -0.6109692 ,\n         0.04312191,  0.03881435],\n       [ 0.54770267, -0.7921164 ,  0.44435146, ...,  0.4244931 ,\n         0.4110575 ,  0.08222896],\n       ...,\n       [-0.45575452, -0.1718734 , -0.19931796, ...,  0.10876012,\n        -0.19919592, -0.05005006],\n       [-0.4851753 ,  0.04089726, -0.46500114, ...,  0.27471033,\n        -0.10994234,  0.06527417],\n       [-0.47847873, -0.36442548, -0.37093288, ...,  0.4559859 ,\n         0.03942422,  0.17148809]], dtype=float32)"
     },
     "metadata": {},
     "execution_count": 34
    }
   ],
   "source": [
    "predicts[0]"
   ]
  },
  {
   "cell_type": "code",
   "execution_count": 35,
   "metadata": {},
   "outputs": [
    {
     "output_type": "execute_result",
     "data": {
      "text/plain": "(512, 768)"
     },
     "metadata": {},
     "execution_count": 35
    }
   ],
   "source": [
    "predicts[0].shape"
   ]
  },
  {
   "cell_type": "code",
   "execution_count": 36,
   "metadata": {},
   "outputs": [
    {
     "output_type": "execute_result",
     "data": {
      "text/plain": "array([[-0.6325099 ,  0.2030244 ,  0.07936614, ...,  0.49122632,\n        -0.20493308,  0.25752574],\n       [-0.75883555,  0.09651931,  1.0718751 , ..., -0.6109692 ,\n         0.04312191,  0.03881435],\n       [ 0.54770267, -0.7921164 ,  0.44435146, ...,  0.4244931 ,\n         0.4110575 ,  0.08222896],\n       [-0.29242367,  0.60527146,  0.4996855 , ...,  0.86041474,\n        -0.6533172 ,  0.5369072 ],\n       [-0.74734503,  0.49431655,  0.7185168 , ...,  0.3848617 ,\n        -0.74090546,  0.39056852]], dtype=float32)"
     },
     "metadata": {},
     "execution_count": 36
    }
   ],
   "source": [
    "predicts[0][:5]"
   ]
  },
  {
   "cell_type": "code",
   "execution_count": 39,
   "metadata": {},
   "outputs": [],
   "source": [
    "a = keras.layers.Lambda(lambda predicts: predicts[:, 0])(predicts)"
   ]
  },
  {
   "cell_type": "code",
   "execution_count": 42,
   "metadata": {},
   "outputs": [
    {
     "output_type": "execute_result",
     "data": {
      "text/plain": "TensorShape([1, 768])"
     },
     "metadata": {},
     "execution_count": 42
    }
   ],
   "source": [
    "a.shape "
   ]
  },
  {
   "cell_type": "code",
   "execution_count": 43,
   "metadata": {},
   "outputs": [
    {
     "output_type": "execute_result",
     "data": {
      "text/plain": "(1, 512, 768)"
     },
     "metadata": {},
     "execution_count": 43
    }
   ],
   "source": [
    "predicts.shape "
   ]
  },
  {
   "cell_type": "code",
   "execution_count": 44,
   "metadata": {},
   "outputs": [
    {
     "output_type": "execute_result",
     "data": {
      "text/plain": "(1, 768)"
     },
     "metadata": {},
     "execution_count": 44
    }
   ],
   "source": [
    "predicts[:, 0].shape"
   ]
  },
  {
   "cell_type": "code",
   "execution_count": null,
   "metadata": {},
   "outputs": [],
   "source": []
  },
  {
   "cell_type": "code",
   "execution_count": null,
   "metadata": {},
   "outputs": [],
   "source": []
  },
  {
   "cell_type": "code",
   "execution_count": null,
   "metadata": {},
   "outputs": [],
   "source": []
  },
  {
   "cell_type": "code",
   "execution_count": null,
   "metadata": {},
   "outputs": [],
   "source": []
  },
  {
   "cell_type": "code",
   "execution_count": null,
   "metadata": {},
   "outputs": [],
   "source": []
  },
  {
   "cell_type": "code",
   "execution_count": null,
   "metadata": {},
   "outputs": [],
   "source": []
  }
 ]
}