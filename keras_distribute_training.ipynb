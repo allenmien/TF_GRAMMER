{
 "nbformat": 4,
 "nbformat_minor": 2,
 "metadata": {
  "language_info": {
   "name": "python",
   "codemirror_mode": {
    "name": "ipython",
    "version": 3
   },
   "version": "3.6.10-final"
  },
  "orig_nbformat": 2,
  "file_extension": ".py",
  "mimetype": "text/x-python",
  "name": "python",
  "npconvert_exporter": "python",
  "pygments_lexer": "ipython3",
  "version": 3,
  "kernelspec": {
   "name": "python361064bittf2conda263a78276eaa427895d8501f9c6dbdc5",
   "display_name": "Python 3.6.10 64-bit ('tf2': conda)"
  }
 },
 "cells": [
  {
   "cell_type": "code",
   "execution_count": 1,
   "metadata": {},
   "outputs": [],
   "source": [
    "import os \n",
    "import tensorflow as tf \n",
    "import tensorflow_datasets as tfds \n",
    "tfds.disable_progress_bar()"
   ]
  },
  {
   "cell_type": "code",
   "execution_count": 4,
   "metadata": {},
   "outputs": [],
   "source": [
    "datasets, info = tfds.load(name='mnist', with_info=True, as_supervised=True)"
   ]
  },
  {
   "cell_type": "code",
   "execution_count": 5,
   "metadata": {},
   "outputs": [
    {
     "data": {
      "text/plain": "{'test': <DatasetV1Adapter shapes: ((28, 28, 1), ()), types: (tf.uint8, tf.int64)>,\n 'train': <DatasetV1Adapter shapes: ((28, 28, 1), ()), types: (tf.uint8, tf.int64)>}"
     },
     "execution_count": 5,
     "metadata": {},
     "output_type": "execute_result"
    }
   ],
   "source": [
    "datasets"
   ]
  },
  {
   "cell_type": "code",
   "execution_count": 6,
   "metadata": {},
   "outputs": [],
   "source": [
    "mnist_train, mnist_test = datasets['train'], datasets['test']"
   ]
  },
  {
   "cell_type": "code",
   "execution_count": 7,
   "metadata": {},
   "outputs": [
    {
     "data": {
      "text/plain": "<DatasetV1Adapter shapes: ((28, 28, 1), ()), types: (tf.uint8, tf.int64)>"
     },
     "execution_count": 7,
     "metadata": {},
     "output_type": "execute_result"
    }
   ],
   "source": [
    "mnist_train"
   ]
  },
  {
   "cell_type": "code",
   "execution_count": 8,
   "metadata": {},
   "outputs": [
    {
     "data": {
      "text/plain": "tfds.core.DatasetInfo(\n    name='mnist',\n    version=3.0.0,\n    description='The MNIST database of handwritten digits.',\n    homepage='http://yann.lecun.com/exdb/mnist/',\n    features=FeaturesDict({\n        'image': Image(shape=(28, 28, 1), dtype=tf.uint8),\n        'label': ClassLabel(shape=(), dtype=tf.int64, num_classes=10),\n    }),\n    total_num_examples=70000,\n    splits={\n        'test': 10000,\n        'train': 60000,\n    },\n    supervised_keys=('image', 'label'),\n    citation=\"\"\"@article{lecun2010mnist,\n      title={MNIST handwritten digit database},\n      author={LeCun, Yann and Cortes, Corinna and Burges, CJ},\n      journal={ATT Labs [Online]. Available: http://yann. lecun. com/exdb/mnist},\n      volume={2},\n      year={2010}\n    }\"\"\",\n    redistribution_info=,\n)"
     },
     "execution_count": 8,
     "metadata": {},
     "output_type": "execute_result"
    }
   ],
   "source": [
    "info"
   ]
  },
  {
   "cell_type": "code",
   "execution_count": 9,
   "metadata": {},
   "outputs": [
    {
     "name": "stdout",
     "output_type": "stream",
     "text": "WARNING:tensorflow:There are non-GPU devices in `tf.distribute.Strategy`, not using nccl allreduce.\nWARNING:tensorflow:There are non-GPU devices in `tf.distribute.Strategy`, not using nccl allreduce.\nINFO:tensorflow:Using MirroredStrategy with devices ('/job:localhost/replica:0/task:0/device:CPU:0',)\nINFO:tensorflow:Using MirroredStrategy with devices ('/job:localhost/replica:0/task:0/device:CPU:0',)\n"
    }
   ],
   "source": [
    "strategy = tf.distribute.MirroredStrategy()"
   ]
  },
  {
   "cell_type": "code",
   "execution_count": 10,
   "metadata": {},
   "outputs": [
    {
     "data": {
      "text/plain": "1"
     },
     "execution_count": 10,
     "metadata": {},
     "output_type": "execute_result"
    }
   ],
   "source": [
    "strategy.num_replicas_in_sync"
   ]
  },
  {
   "cell_type": "code",
   "execution_count": 11,
   "metadata": {},
   "outputs": [],
   "source": [
    "num_train_examples = info.splits['train'].num_examples\n",
    "num_test_examples = info.splits['test'].num_examples\n",
    "\n",
    "BUFFER_SIZE = 10000\n",
    "\n",
    "BATCH_SIZE_PER_REPLICA = 64\n",
    "BATCH_SIZE = BATCH_SIZE_PER_REPLICA * strategy.num_replicas_in_sync"
   ]
  },
  {
   "cell_type": "code",
   "execution_count": 12,
   "metadata": {},
   "outputs": [
    {
     "data": {
      "text/plain": "64"
     },
     "execution_count": 12,
     "metadata": {},
     "output_type": "execute_result"
    }
   ],
   "source": [
    "BATCH_SIZE"
   ]
  },
  {
   "cell_type": "code",
   "execution_count": 18,
   "metadata": {},
   "outputs": [],
   "source": [
    "def scale(image, label):\n",
    "    image = tf.cast(image, tf.float32)\n",
    "    image /= 255\n",
    "\n",
    "    return image, label\n"
   ]
  },
  {
   "cell_type": "code",
   "execution_count": 19,
   "metadata": {},
   "outputs": [],
   "source": [
    "train_dataset = mnist_train.map(scale).cache().shuffle(BUFFER_SIZE).batch(BATCH_SIZE)\n",
    "eval_dataset = mnist_test.map(scale).batch(BATCH_SIZE)"
   ]
  },
  {
   "cell_type": "code",
   "execution_count": 22,
   "metadata": {},
   "outputs": [
    {
     "data": {
      "text/plain": "(<tf.Tensor: shape=(64, 28, 28, 1), dtype=float32, numpy=\n array([[[[0.],\n          [0.],\n          [0.],\n          ...,\n          [0.],\n          [0.],\n          [0.]],\n \n         [[0.],\n          [0.],\n          [0.],\n          ...,\n          [0.],\n          [0.],\n          [0.]],\n \n         [[0.],\n          [0.],\n          [0.],\n          ...,\n          [0.],\n          [0.],\n          [0.]],\n \n         ...,\n \n         [[0.],\n          [0.],\n          [0.],\n          ...,\n          [0.],\n          [0.],\n          [0.]],\n \n         [[0.],\n          [0.],\n          [0.],\n          ...,\n          [0.],\n          [0.],\n          [0.]],\n \n         [[0.],\n          [0.],\n          [0.],\n          ...,\n          [0.],\n          [0.],\n          [0.]]],\n \n \n        [[[0.],\n          [0.],\n          [0.],\n          ...,\n          [0.],\n          [0.],\n          [0.]],\n \n         [[0.],\n          [0.],\n          [0.],\n          ...,\n          [0.],\n          [0.],\n          [0.]],\n \n         [[0.],\n          [0.],\n          [0.],\n          ...,\n          [0.],\n          [0.],\n          [0.]],\n \n         ...,\n \n         [[0.],\n          [0.],\n          [0.],\n          ...,\n          [0.],\n          [0.],\n          [0.]],\n \n         [[0.],\n          [0.],\n          [0.],\n          ...,\n          [0.],\n          [0.],\n          [0.]],\n \n         [[0.],\n          [0.],\n          [0.],\n          ...,\n          [0.],\n          [0.],\n          [0.]]],\n \n \n        [[[0.],\n          [0.],\n          [0.],\n          ...,\n          [0.],\n          [0.],\n          [0.]],\n \n         [[0.],\n          [0.],\n          [0.],\n          ...,\n          [0.],\n          [0.],\n          [0.]],\n \n         [[0.],\n          [0.],\n          [0.],\n          ...,\n          [0.],\n          [0.],\n          [0.]],\n \n         ...,\n \n         [[0.],\n          [0.],\n          [0.],\n          ...,\n          [0.],\n          [0.],\n          [0.]],\n \n         [[0.],\n          [0.],\n          [0.],\n          ...,\n          [0.],\n          [0.],\n          [0.]],\n \n         [[0.],\n          [0.],\n          [0.],\n          ...,\n          [0.],\n          [0.],\n          [0.]]],\n \n \n        ...,\n \n \n        [[[0.],\n          [0.],\n          [0.],\n          ...,\n          [0.],\n          [0.],\n          [0.]],\n \n         [[0.],\n          [0.],\n          [0.],\n          ...,\n          [0.],\n          [0.],\n          [0.]],\n \n         [[0.],\n          [0.],\n          [0.],\n          ...,\n          [0.],\n          [0.],\n          [0.]],\n \n         ...,\n \n         [[0.],\n          [0.],\n          [0.],\n          ...,\n          [0.],\n          [0.],\n          [0.]],\n \n         [[0.],\n          [0.],\n          [0.],\n          ...,\n          [0.],\n          [0.],\n          [0.]],\n \n         [[0.],\n          [0.],\n          [0.],\n          ...,\n          [0.],\n          [0.],\n          [0.]]],\n \n \n        [[[0.],\n          [0.],\n          [0.],\n          ...,\n          [0.],\n          [0.],\n          [0.]],\n \n         [[0.],\n          [0.],\n          [0.],\n          ...,\n          [0.],\n          [0.],\n          [0.]],\n \n         [[0.],\n          [0.],\n          [0.],\n          ...,\n          [0.],\n          [0.],\n          [0.]],\n \n         ...,\n \n         [[0.],\n          [0.],\n          [0.],\n          ...,\n          [0.],\n          [0.],\n          [0.]],\n \n         [[0.],\n          [0.],\n          [0.],\n          ...,\n          [0.],\n          [0.],\n          [0.]],\n \n         [[0.],\n          [0.],\n          [0.],\n          ...,\n          [0.],\n          [0.],\n          [0.]]],\n \n \n        [[[0.],\n          [0.],\n          [0.],\n          ...,\n          [0.],\n          [0.],\n          [0.]],\n \n         [[0.],\n          [0.],\n          [0.],\n          ...,\n          [0.],\n          [0.],\n          [0.]],\n \n         [[0.],\n          [0.],\n          [0.],\n          ...,\n          [0.],\n          [0.],\n          [0.]],\n \n         ...,\n \n         [[0.],\n          [0.],\n          [0.],\n          ...,\n          [0.],\n          [0.],\n          [0.]],\n \n         [[0.],\n          [0.],\n          [0.],\n          ...,\n          [0.],\n          [0.],\n          [0.]],\n \n         [[0.],\n          [0.],\n          [0.],\n          ...,\n          [0.],\n          [0.],\n          [0.]]]], dtype=float32)>,\n <tf.Tensor: shape=(64,), dtype=int64, numpy=\n array([9, 8, 1, 5, 6, 6, 0, 2, 6, 0, 8, 1, 0, 6, 1, 4, 7, 7, 7, 4, 9, 3,\n        7, 5, 5, 6, 4, 0, 0, 0, 5, 1, 4, 4, 9, 9, 9, 9, 0, 1, 7, 4, 6, 5,\n        1, 1, 1, 7, 8, 5, 3, 0, 6, 1, 7, 1, 7, 9, 5, 5, 2, 4, 5, 2])>)"
     },
     "execution_count": 22,
     "metadata": {},
     "output_type": "execute_result"
    }
   ],
   "source": [
    "next(iter(train_dataset))"
   ]
  },
  {
   "cell_type": "code",
   "execution_count": 24,
   "metadata": {},
   "outputs": [],
   "source": [
    "with strategy.scope():\n",
    "    model = tf.keras.Sequential([\n",
    "        tf.keras.layers.Conv2D(32, 3, activation='relu', input_shape=(28, 28, 1)),\n",
    "        tf.keras.layers.MaxPool2D(),\n",
    "        tf.keras.layers.Flatten(),\n",
    "        tf.keras.layers.Dense(64, activation='relu'),\n",
    "        tf.keras.layers.Dense(10, activation='softmax')\n",
    "    ])\n",
    "\n",
    "    model.compile(\n",
    "        loss='sparse_categorical_crossentropy',\n",
    "        optimizer = tf.keras.optimizers.Adam(), \n",
    "        metrics=['accuracy']\n",
    "    )"
   ]
  },
  {
   "cell_type": "code",
   "execution_count": 25,
   "metadata": {},
   "outputs": [],
   "source": [
    "checkpoint_dir = './training_checkpoints'\n",
    "\n",
    "checkpoint_prefix = os.path.join(checkpoint_dir, 'ckpt_{epoch}')"
   ]
  },
  {
   "cell_type": "code",
   "execution_count": 26,
   "metadata": {},
   "outputs": [
    {
     "data": {
      "text/plain": "'./training_checkpoints/ckpt_{epoch}'"
     },
     "execution_count": 26,
     "metadata": {},
     "output_type": "execute_result"
    }
   ],
   "source": [
    "checkpoint_prefix"
   ]
  },
  {
   "cell_type": "code",
   "execution_count": 27,
   "metadata": {},
   "outputs": [],
   "source": [
    "def decay(epoch):\n",
    "    if epoch < 3:\n",
    "        return 1e-3\n",
    "    elif epoch >=3 and epoch < 7:\n",
    "        return 1e-4\n",
    "    else:\n",
    "        return 1e-5"
   ]
  },
  {
   "cell_type": "code",
   "execution_count": 28,
   "metadata": {},
   "outputs": [],
   "source": [
    "class PrintLR(tf.keras.callbacks.Callback):\n",
    "    def on_epoch_end(self, epoch, logs=None):\n",
    "        print('\\nLearning rate for epoch {} is {}'.format(\n",
    "            epoch + 1,\n",
    "            model.optimizer.lr.numpy()\n",
    "        ))"
   ]
  },
  {
   "cell_type": "code",
   "execution_count": 29,
   "metadata": {},
   "outputs": [],
   "source": [
    "callbacks = [\n",
    "    tf.keras.callbacks.TensorBoard(log_dir='./logs'),\n",
    "    tf.keras.callbacks.ModelCheckpoint(\n",
    "        filepath=checkpoint_prefix,\n",
    "        save_weights_only=True\n",
    "    ),\n",
    "    tf.keras.callbacks.LearningRateScheduler(decay),\n",
    "    PrintLR()\n",
    "]"
   ]
  },
  {
   "cell_type": "code",
   "execution_count": 30,
   "metadata": {},
   "outputs": [
    {
     "name": "stdout",
     "output_type": "stream",
     "text": "Epoch 1/12\n    938/Unknown - 10s 11ms/step - loss: 0.2062 - accuracy: 0.9398\nLearning rate for epoch 1 is 0.0010000000474974513\n938/938 [==============================] - 10s 11ms/step - loss: 0.2062 - accuracy: 0.9398\nEpoch 2/12\n931/938 [============================>.] - ETA: 0s - loss: 0.0658 - accuracy: 0.9802\nLearning rate for epoch 2 is 0.0010000000474974513\n938/938 [==============================] - 6s 6ms/step - loss: 0.0658 - accuracy: 0.9802\nEpoch 3/12\n933/938 [============================>.] - ETA: 0s - loss: 0.0467 - accuracy: 0.9861\nLearning rate for epoch 3 is 0.0010000000474974513\n938/938 [==============================] - 6s 6ms/step - loss: 0.0467 - accuracy: 0.9860\nEpoch 4/12\n934/938 [============================>.] - ETA: 0s - loss: 0.0258 - accuracy: 0.9928\nLearning rate for epoch 4 is 9.999999747378752e-05\n938/938 [==============================] - 6s 6ms/step - loss: 0.0258 - accuracy: 0.9928\nEpoch 5/12\n930/938 [============================>.] - ETA: 0s - loss: 0.0229 - accuracy: 0.9941\nLearning rate for epoch 5 is 9.999999747378752e-05\n938/938 [==============================] - 6s 6ms/step - loss: 0.0228 - accuracy: 0.9942\nEpoch 6/12\n931/938 [============================>.] - ETA: 0s - loss: 0.0210 - accuracy: 0.9946\nLearning rate for epoch 6 is 9.999999747378752e-05\n938/938 [==============================] - 6s 6ms/step - loss: 0.0210 - accuracy: 0.9946\nEpoch 7/12\n931/938 [============================>.] - ETA: 0s - loss: 0.0195 - accuracy: 0.9950\nLearning rate for epoch 7 is 9.999999747378752e-05\n938/938 [==============================] - 6s 6ms/step - loss: 0.0195 - accuracy: 0.9950\nEpoch 8/12\n930/938 [============================>.] - ETA: 0s - loss: 0.0170 - accuracy: 0.9961\nLearning rate for epoch 8 is 9.999999747378752e-06\n938/938 [==============================] - 6s 6ms/step - loss: 0.0169 - accuracy: 0.9962\nEpoch 9/12\n933/938 [============================>.] - ETA: 0s - loss: 0.0167 - accuracy: 0.9963\nLearning rate for epoch 9 is 9.999999747378752e-06\n938/938 [==============================] - 6s 6ms/step - loss: 0.0167 - accuracy: 0.9963\nEpoch 10/12\n937/938 [============================>.] - ETA: 0s - loss: 0.0165 - accuracy: 0.9963\nLearning rate for epoch 10 is 9.999999747378752e-06\n938/938 [==============================] - 6s 6ms/step - loss: 0.0165 - accuracy: 0.9963\nEpoch 11/12\n930/938 [============================>.] - ETA: 0s - loss: 0.0164 - accuracy: 0.9963\nLearning rate for epoch 11 is 9.999999747378752e-06\n938/938 [==============================] - 6s 6ms/step - loss: 0.0164 - accuracy: 0.9963\nEpoch 12/12\n931/938 [============================>.] - ETA: 0s - loss: 0.0163 - accuracy: 0.9964\nLearning rate for epoch 12 is 9.999999747378752e-06\n938/938 [==============================] - 6s 6ms/step - loss: 0.0162 - accuracy: 0.9964\n"
    },
    {
     "data": {
      "text/plain": "<tensorflow.python.keras.callbacks.History at 0x7f1faa6dd2e8>"
     },
     "execution_count": 30,
     "metadata": {},
     "output_type": "execute_result"
    }
   ],
   "source": [
    "model.fit(train_dataset, epochs=12, callbacks=callbacks)"
   ]
  },
  {
   "cell_type": "code",
   "execution_count": 31,
   "metadata": {},
   "outputs": [
    {
     "name": "stdout",
     "output_type": "stream",
     "text": "checkpoint\t\t     ckpt_4.data-00000-of-00001\nckpt_10.data-00000-of-00001  ckpt_4.index\nckpt_10.index\t\t     ckpt_5.data-00000-of-00001\nckpt_11.data-00000-of-00001  ckpt_5.index\nckpt_11.index\t\t     ckpt_6.data-00000-of-00001\nckpt_12.data-00000-of-00001  ckpt_6.index\nckpt_12.index\t\t     ckpt_7.data-00000-of-00001\nckpt_1.data-00000-of-00001   ckpt_7.index\nckpt_1.index\t\t     ckpt_8.data-00000-of-00001\nckpt_2.data-00000-of-00001   ckpt_8.index\nckpt_2.index\t\t     ckpt_9.data-00000-of-00001\nckpt_3.data-00000-of-00001   ckpt_9.index\nckpt_3.index\n"
    }
   ],
   "source": [
    "!ls {checkpoint_dir}"
   ]
  },
  {
   "cell_type": "code",
   "execution_count": 32,
   "metadata": {},
   "outputs": [
    {
     "data": {
      "text/plain": "<tensorflow.python.training.tracking.util.CheckpointLoadStatus at 0x7f1fa83017f0>"
     },
     "execution_count": 32,
     "metadata": {},
     "output_type": "execute_result"
    }
   ],
   "source": [
    "model.load_weights(tf.train.latest_checkpoint(checkpoint_dir))"
   ]
  },
  {
   "cell_type": "code",
   "execution_count": 35,
   "metadata": {},
   "outputs": [
    {
     "name": "stdout",
     "output_type": "stream",
     "text": "    157/Unknown - 1s 5ms/step - loss: 0.0386 - accuracy: 0.9869"
    }
   ],
   "source": [
    "eval_loss, eval_acc = model.evaluate(eval_dataset)"
   ]
  },
  {
   "cell_type": "code",
   "execution_count": 36,
   "metadata": {},
   "outputs": [],
   "source": [
    "path = 'saved_model/'"
   ]
  },
  {
   "cell_type": "code",
   "execution_count": 37,
   "metadata": {},
   "outputs": [
    {
     "ename": "AttributeError",
     "evalue": "module 'tensorflow_core.keras.experimental' has no attribute 'export_saved_model'",
     "output_type": "error",
     "traceback": [
      "\u001b[0;31m---------------------------------------------------------------------------\u001b[0m",
      "\u001b[0;31mAttributeError\u001b[0m                            Traceback (most recent call last)",
      "\u001b[0;32m<ipython-input-37-7f22af6799f5>\u001b[0m in \u001b[0;36m<module>\u001b[0;34m\u001b[0m\n\u001b[0;32m----> 1\u001b[0;31m \u001b[0mtf\u001b[0m\u001b[0;34m.\u001b[0m\u001b[0mkeras\u001b[0m\u001b[0;34m.\u001b[0m\u001b[0mexperimental\u001b[0m\u001b[0;34m.\u001b[0m\u001b[0mexport_saved_model\u001b[0m\u001b[0;34m(\u001b[0m\u001b[0mmodel\u001b[0m\u001b[0;34m,\u001b[0m \u001b[0mpath\u001b[0m\u001b[0;34m)\u001b[0m\u001b[0;34m\u001b[0m\u001b[0;34m\u001b[0m\u001b[0m\n\u001b[0m",
      "\u001b[0;31mAttributeError\u001b[0m: module 'tensorflow_core.keras.experimental' has no attribute 'export_saved_model'"
     ]
    }
   ],
   "source": [
    "tf.keras.experimental.export_saved_model(model, path)"
   ]
  },
  {
   "cell_type": "code",
   "execution_count": null,
   "metadata": {},
   "outputs": [],
   "source": []
  },
  {
   "cell_type": "code",
   "execution_count": null,
   "metadata": {},
   "outputs": [],
   "source": []
  },
  {
   "cell_type": "code",
   "execution_count": null,
   "metadata": {},
   "outputs": [],
   "source": []
  },
  {
   "cell_type": "code",
   "execution_count": null,
   "metadata": {},
   "outputs": [],
   "source": []
  },
  {
   "cell_type": "code",
   "execution_count": null,
   "metadata": {},
   "outputs": [],
   "source": []
  },
  {
   "cell_type": "code",
   "execution_count": null,
   "metadata": {},
   "outputs": [],
   "source": []
  },
  {
   "cell_type": "code",
   "execution_count": null,
   "metadata": {},
   "outputs": [],
   "source": []
  },
  {
   "cell_type": "code",
   "execution_count": null,
   "metadata": {},
   "outputs": [],
   "source": []
  },
  {
   "cell_type": "code",
   "execution_count": null,
   "metadata": {},
   "outputs": [],
   "source": []
  },
  {
   "cell_type": "code",
   "execution_count": null,
   "metadata": {},
   "outputs": [],
   "source": []
  },
  {
   "cell_type": "code",
   "execution_count": null,
   "metadata": {},
   "outputs": [],
   "source": []
  },
  {
   "cell_type": "code",
   "execution_count": null,
   "metadata": {},
   "outputs": [],
   "source": []
  },
  {
   "cell_type": "code",
   "execution_count": null,
   "metadata": {},
   "outputs": [],
   "source": []
  },
  {
   "cell_type": "code",
   "execution_count": null,
   "metadata": {},
   "outputs": [],
   "source": []
  },
  {
   "cell_type": "code",
   "execution_count": null,
   "metadata": {},
   "outputs": [],
   "source": []
  },
  {
   "cell_type": "code",
   "execution_count": null,
   "metadata": {},
   "outputs": [],
   "source": []
  },
  {
   "cell_type": "code",
   "execution_count": null,
   "metadata": {},
   "outputs": [],
   "source": []
  },
  {
   "cell_type": "code",
   "execution_count": null,
   "metadata": {},
   "outputs": [],
   "source": []
  },
  {
   "cell_type": "code",
   "execution_count": null,
   "metadata": {},
   "outputs": [],
   "source": []
  },
  {
   "cell_type": "code",
   "execution_count": null,
   "metadata": {},
   "outputs": [],
   "source": []
  },
  {
   "cell_type": "code",
   "execution_count": null,
   "metadata": {},
   "outputs": [],
   "source": []
  },
  {
   "cell_type": "code",
   "execution_count": null,
   "metadata": {},
   "outputs": [],
   "source": []
  }
 ]
}