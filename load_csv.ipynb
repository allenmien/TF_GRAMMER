{
 "nbformat": 4,
 "nbformat_minor": 2,
 "metadata": {
  "language_info": {
   "name": "python",
   "codemirror_mode": {
    "name": "ipython",
    "version": 3
   },
   "version": "3.6.10-final"
  },
  "orig_nbformat": 2,
  "file_extension": ".py",
  "mimetype": "text/x-python",
  "name": "python",
  "npconvert_exporter": "python",
  "pygments_lexer": "ipython3",
  "version": 3,
  "kernelspec": {
   "name": "python361064bittf2conda263a78276eaa427895d8501f9c6dbdc5",
   "display_name": "Python 3.6.10 64-bit ('tf2': conda)"
  }
 },
 "cells": [
  {
   "cell_type": "code",
   "execution_count": 1,
   "metadata": {},
   "outputs": [
    {
     "name": "stdout",
     "output_type": "stream",
     "text": "2.1.0\n"
    }
   ],
   "source": [
    "import numpy as np \n",
    "import tensorflow as tf \n",
    "import tensorflow_datasets as tfds \n",
    "\n",
    "print(tf.__version__)"
   ]
  },
  {
   "cell_type": "code",
   "execution_count": 2,
   "metadata": {},
   "outputs": [
    {
     "name": "stdout",
     "output_type": "stream",
     "text": "Downloading data from https://storage.googleapis.com/tf-datasets/titanic/train.csv\n32768/30874 [===============================] - 1s 27us/step\nDownloading data from https://storage.googleapis.com/tf-datasets/titanic/eval.csv\n16384/13049 [=====================================] - 0s 26us/step\n"
    }
   ],
   "source": [
    "TRAIN_DATA_URL = \"https://storage.googleapis.com/tf-datasets/titanic/train.csv\"\n",
    "TEST_DATA_URL = \"https://storage.googleapis.com/tf-datasets/titanic/eval.csv\"\n",
    "\n",
    "train_file_path = tf.keras.utils.get_file(\"train.csv\", TRAIN_DATA_URL)\n",
    "test_file_path = tf.keras.utils.get_file(\"eval.csv\", TEST_DATA_URL)"
   ]
  },
  {
   "cell_type": "code",
   "execution_count": 3,
   "metadata": {},
   "outputs": [
    {
     "data": {
      "text/plain": "'/home/mark/.keras/datasets/train.csv'"
     },
     "execution_count": 3,
     "metadata": {},
     "output_type": "execute_result"
    }
   ],
   "source": [
    "train_file_path"
   ]
  },
  {
   "cell_type": "code",
   "execution_count": 4,
   "metadata": {},
   "outputs": [],
   "source": [
    "np.set_printoptions(precision=3, suppress=True)"
   ]
  },
  {
   "cell_type": "code",
   "execution_count": 5,
   "metadata": {},
   "outputs": [
    {
     "name": "stdout",
     "output_type": "stream",
     "text": "survived,sex,age,n_siblings_spouses,parch,fare,class,deck,embark_town,alone\n0,male,22.0,1,0,7.25,Third,unknown,Southampton,n\n1,female,38.0,1,0,71.2833,First,C,Cherbourg,n\n1,female,26.0,0,0,7.925,Third,unknown,Southampton,y\n1,female,35.0,1,0,53.1,First,C,Southampton,n\n0,male,28.0,0,0,8.4583,Third,unknown,Queenstown,y\n0,male,2.0,3,1,21.075,Third,unknown,Southampton,n\n1,female,27.0,0,2,11.1333,Third,unknown,Southampton,n\n1,female,14.0,1,0,30.0708,Second,unknown,Cherbourg,n\n1,female,4.0,1,1,16.7,Third,G,Southampton,n\n"
    }
   ],
   "source": [
    "!head {train_file_path}"
   ]
  },
  {
   "cell_type": "code",
   "execution_count": 6,
   "metadata": {},
   "outputs": [],
   "source": [
    "LABEL_COLUME = 'survived'\n",
    "LABELS = [0, 1]"
   ]
  },
  {
   "cell_type": "code",
   "execution_count": 8,
   "metadata": {},
   "outputs": [],
   "source": [
    "def get_dataset(file_path):\n",
    "    dataset = tf.data.experimental.make_csv_dataset(\n",
    "        file_path,\n",
    "        batch_size=12,\n",
    "        label_name=LABEL_COLUME,\n",
    "        na_value=\"?\",\n",
    "        num_epochs=1,\n",
    "        ignore_errors=True\n",
    "    )\n",
    "    return dataset"
   ]
  },
  {
   "cell_type": "code",
   "execution_count": 9,
   "metadata": {},
   "outputs": [
    {
     "data": {
      "text/plain": "<PrefetchDataset shapes: (OrderedDict([(sex, (None,)), (age, (None,)), (n_siblings_spouses, (None,)), (parch, (None,)), (fare, (None,)), (class, (None,)), (deck, (None,)), (embark_town, (None,)), (alone, (None,))]), (None,)), types: (OrderedDict([(sex, tf.string), (age, tf.float32), (n_siblings_spouses, tf.int32), (parch, tf.int32), (fare, tf.float32), (class, tf.string), (deck, tf.string), (embark_town, tf.string), (alone, tf.string)]), tf.int32)>"
     },
     "execution_count": 9,
     "metadata": {},
     "output_type": "execute_result"
    }
   ],
   "source": [
    "raw_train_data = get_dataset(train_file_path)\n",
    "raw_train_data"
   ]
  },
  {
   "cell_type": "code",
   "execution_count": 10,
   "metadata": {},
   "outputs": [],
   "source": [
    "raw_test_data = get_dataset(test_file_path)"
   ]
  },
  {
   "cell_type": "code",
   "execution_count": 11,
   "metadata": {},
   "outputs": [],
   "source": [
    "examples, labels = next(iter(raw_train_data))"
   ]
  },
  {
   "cell_type": "code",
   "execution_count": 12,
   "metadata": {},
   "outputs": [
    {
     "data": {
      "text/plain": "OrderedDict([('sex',\n              <tf.Tensor: shape=(12,), dtype=string, numpy=\n              array([b'male', b'male', b'male', b'male', b'male', b'male', b'male',\n                     b'female', b'male', b'male', b'male', b'female'], dtype=object)>),\n             ('age',\n              <tf.Tensor: shape=(12,), dtype=float32, numpy=\n              array([29., 41., 28., 26., 28.,  4., 28., 28., 34., 28., 28., 25.],\n                    dtype=float32)>),\n             ('n_siblings_spouses',\n              <tf.Tensor: shape=(12,), dtype=int32, numpy=array([0, 2, 0, 0, 0, 4, 0, 0, 0, 0, 1, 1], dtype=int32)>),\n             ('parch',\n              <tf.Tensor: shape=(12,), dtype=int32, numpy=array([0, 0, 0, 0, 0, 2, 0, 0, 0, 0, 0, 0], dtype=int32)>),\n             ('fare',\n              <tf.Tensor: shape=(12,), dtype=float32, numpy=\n              array([ 7.896, 14.108, 52.   ,  7.887,  7.775, 31.275,  7.229,  7.879,\n                     26.55 , 29.7  ,  7.75 ,  7.925], dtype=float32)>),\n             ('class',\n              <tf.Tensor: shape=(12,), dtype=string, numpy=\n              array([b'Third', b'Third', b'First', b'Third', b'Third', b'Third',\n                     b'Third', b'Third', b'First', b'First', b'Third', b'Third'],\n                    dtype=object)>),\n             ('deck',\n              <tf.Tensor: shape=(12,), dtype=string, numpy=\n              array([b'unknown', b'unknown', b'A', b'unknown', b'unknown', b'unknown',\n                     b'unknown', b'unknown', b'unknown', b'C', b'unknown', b'unknown'],\n                    dtype=object)>),\n             ('embark_town',\n              <tf.Tensor: shape=(12,), dtype=string, numpy=\n              array([b'Cherbourg', b'Southampton', b'Southampton', b'Southampton',\n                     b'Southampton', b'Southampton', b'Cherbourg', b'Queenstown',\n                     b'Southampton', b'Cherbourg', b'Queenstown', b'Southampton'],\n                    dtype=object)>),\n             ('alone',\n              <tf.Tensor: shape=(12,), dtype=string, numpy=\n              array([b'y', b'n', b'y', b'y', b'y', b'n', b'y', b'y', b'y', b'y', b'n',\n                     b'n'], dtype=object)>)])"
     },
     "execution_count": 12,
     "metadata": {},
     "output_type": "execute_result"
    }
   ],
   "source": [
    "examples"
   ]
  },
  {
   "cell_type": "code",
   "execution_count": null,
   "metadata": {},
   "outputs": [],
   "source": [
    "labels"
   ]
  },
  {
   "cell_type": "code",
   "execution_count": null,
   "metadata": {},
   "outputs": [],
   "source": []
  },
  {
   "cell_type": "code",
   "execution_count": null,
   "metadata": {},
   "outputs": [],
   "source": []
  },
  {
   "cell_type": "code",
   "execution_count": null,
   "metadata": {},
   "outputs": [],
   "source": []
  },
  {
   "cell_type": "code",
   "execution_count": null,
   "metadata": {},
   "outputs": [],
   "source": []
  },
  {
   "cell_type": "code",
   "execution_count": null,
   "metadata": {},
   "outputs": [],
   "source": []
  },
  {
   "cell_type": "code",
   "execution_count": null,
   "metadata": {},
   "outputs": [],
   "source": []
  },
  {
   "cell_type": "code",
   "execution_count": null,
   "metadata": {},
   "outputs": [],
   "source": []
  },
  {
   "cell_type": "code",
   "execution_count": null,
   "metadata": {},
   "outputs": [],
   "source": []
  },
  {
   "cell_type": "code",
   "execution_count": null,
   "metadata": {},
   "outputs": [],
   "source": []
  },
  {
   "cell_type": "code",
   "execution_count": null,
   "metadata": {},
   "outputs": [],
   "source": []
  },
  {
   "cell_type": "code",
   "execution_count": null,
   "metadata": {},
   "outputs": [],
   "source": []
  },
  {
   "cell_type": "code",
   "execution_count": null,
   "metadata": {},
   "outputs": [],
   "source": []
  },
  {
   "cell_type": "code",
   "execution_count": null,
   "metadata": {},
   "outputs": [],
   "source": []
  },
  {
   "cell_type": "code",
   "execution_count": null,
   "metadata": {},
   "outputs": [],
   "source": []
  },
  {
   "cell_type": "code",
   "execution_count": null,
   "metadata": {},
   "outputs": [],
   "source": []
  },
  {
   "cell_type": "code",
   "execution_count": null,
   "metadata": {},
   "outputs": [],
   "source": []
  }
 ]
}