{
 "nbformat": 4,
 "nbformat_minor": 2,
 "metadata": {
  "language_info": {
   "name": "python",
   "codemirror_mode": {
    "name": "ipython",
    "version": 3
   },
   "version": "3.6.10-final"
  },
  "orig_nbformat": 2,
  "file_extension": ".py",
  "mimetype": "text/x-python",
  "name": "python",
  "npconvert_exporter": "python",
  "pygments_lexer": "ipython3",
  "version": 3,
  "kernelspec": {
   "name": "python361064bittf2conda263a78276eaa427895d8501f9c6dbdc5",
   "display_name": "Python 3.6.10 64-bit ('tf2': conda)"
  }
 },
 "cells": [
  {
   "cell_type": "code",
   "execution_count": 1,
   "metadata": {},
   "outputs": [],
   "source": [
    "import numpy as np\n",
    "import pandas as pd \n",
    "from IPython.display import clear_output\n",
    "from matplotlib import pyplot as plt"
   ]
  },
  {
   "cell_type": "code",
   "execution_count": 2,
   "metadata": {},
   "outputs": [],
   "source": [
    "dftrain = pd.read_csv('https://storage.googleapis.com/tf-datasets/titanic/train.csv')\n",
    "dfeval = pd.read_csv('https://storage.googleapis.com/tf-datasets/titanic/eval.csv')"
   ]
  },
  {
   "cell_type": "code",
   "execution_count": 3,
   "metadata": {},
   "outputs": [
    {
     "output_type": "execute_result",
     "data": {
      "text/plain": "     survived     sex   age  n_siblings_spouses  parch     fare   class  \\\n0           0    male  22.0                   1      0   7.2500   Third   \n1           1  female  38.0                   1      0  71.2833   First   \n2           1  female  26.0                   0      0   7.9250   Third   \n3           1  female  35.0                   1      0  53.1000   First   \n4           0    male  28.0                   0      0   8.4583   Third   \n..        ...     ...   ...                 ...    ...      ...     ...   \n622         0    male  28.0                   0      0  10.5000  Second   \n623         0    male  25.0                   0      0   7.0500   Third   \n624         1  female  19.0                   0      0  30.0000   First   \n625         0  female  28.0                   1      2  23.4500   Third   \n626         0    male  32.0                   0      0   7.7500   Third   \n\n        deck  embark_town alone  \n0    unknown  Southampton     n  \n1          C    Cherbourg     n  \n2    unknown  Southampton     y  \n3          C  Southampton     n  \n4    unknown   Queenstown     y  \n..       ...          ...   ...  \n622  unknown  Southampton     y  \n623  unknown  Southampton     y  \n624        B  Southampton     y  \n625  unknown  Southampton     n  \n626  unknown   Queenstown     y  \n\n[627 rows x 10 columns]",
      "text/html": "<div>\n<style scoped>\n    .dataframe tbody tr th:only-of-type {\n        vertical-align: middle;\n    }\n\n    .dataframe tbody tr th {\n        vertical-align: top;\n    }\n\n    .dataframe thead th {\n        text-align: right;\n    }\n</style>\n<table border=\"1\" class=\"dataframe\">\n  <thead>\n    <tr style=\"text-align: right;\">\n      <th></th>\n      <th>survived</th>\n      <th>sex</th>\n      <th>age</th>\n      <th>n_siblings_spouses</th>\n      <th>parch</th>\n      <th>fare</th>\n      <th>class</th>\n      <th>deck</th>\n      <th>embark_town</th>\n      <th>alone</th>\n    </tr>\n  </thead>\n  <tbody>\n    <tr>\n      <th>0</th>\n      <td>0</td>\n      <td>male</td>\n      <td>22.0</td>\n      <td>1</td>\n      <td>0</td>\n      <td>7.2500</td>\n      <td>Third</td>\n      <td>unknown</td>\n      <td>Southampton</td>\n      <td>n</td>\n    </tr>\n    <tr>\n      <th>1</th>\n      <td>1</td>\n      <td>female</td>\n      <td>38.0</td>\n      <td>1</td>\n      <td>0</td>\n      <td>71.2833</td>\n      <td>First</td>\n      <td>C</td>\n      <td>Cherbourg</td>\n      <td>n</td>\n    </tr>\n    <tr>\n      <th>2</th>\n      <td>1</td>\n      <td>female</td>\n      <td>26.0</td>\n      <td>0</td>\n      <td>0</td>\n      <td>7.9250</td>\n      <td>Third</td>\n      <td>unknown</td>\n      <td>Southampton</td>\n      <td>y</td>\n    </tr>\n    <tr>\n      <th>3</th>\n      <td>1</td>\n      <td>female</td>\n      <td>35.0</td>\n      <td>1</td>\n      <td>0</td>\n      <td>53.1000</td>\n      <td>First</td>\n      <td>C</td>\n      <td>Southampton</td>\n      <td>n</td>\n    </tr>\n    <tr>\n      <th>4</th>\n      <td>0</td>\n      <td>male</td>\n      <td>28.0</td>\n      <td>0</td>\n      <td>0</td>\n      <td>8.4583</td>\n      <td>Third</td>\n      <td>unknown</td>\n      <td>Queenstown</td>\n      <td>y</td>\n    </tr>\n    <tr>\n      <th>...</th>\n      <td>...</td>\n      <td>...</td>\n      <td>...</td>\n      <td>...</td>\n      <td>...</td>\n      <td>...</td>\n      <td>...</td>\n      <td>...</td>\n      <td>...</td>\n      <td>...</td>\n    </tr>\n    <tr>\n      <th>622</th>\n      <td>0</td>\n      <td>male</td>\n      <td>28.0</td>\n      <td>0</td>\n      <td>0</td>\n      <td>10.5000</td>\n      <td>Second</td>\n      <td>unknown</td>\n      <td>Southampton</td>\n      <td>y</td>\n    </tr>\n    <tr>\n      <th>623</th>\n      <td>0</td>\n      <td>male</td>\n      <td>25.0</td>\n      <td>0</td>\n      <td>0</td>\n      <td>7.0500</td>\n      <td>Third</td>\n      <td>unknown</td>\n      <td>Southampton</td>\n      <td>y</td>\n    </tr>\n    <tr>\n      <th>624</th>\n      <td>1</td>\n      <td>female</td>\n      <td>19.0</td>\n      <td>0</td>\n      <td>0</td>\n      <td>30.0000</td>\n      <td>First</td>\n      <td>B</td>\n      <td>Southampton</td>\n      <td>y</td>\n    </tr>\n    <tr>\n      <th>625</th>\n      <td>0</td>\n      <td>female</td>\n      <td>28.0</td>\n      <td>1</td>\n      <td>2</td>\n      <td>23.4500</td>\n      <td>Third</td>\n      <td>unknown</td>\n      <td>Southampton</td>\n      <td>n</td>\n    </tr>\n    <tr>\n      <th>626</th>\n      <td>0</td>\n      <td>male</td>\n      <td>32.0</td>\n      <td>0</td>\n      <td>0</td>\n      <td>7.7500</td>\n      <td>Third</td>\n      <td>unknown</td>\n      <td>Queenstown</td>\n      <td>y</td>\n    </tr>\n  </tbody>\n</table>\n<p>627 rows × 10 columns</p>\n</div>"
     },
     "metadata": {},
     "execution_count": 3
    }
   ],
   "source": [
    "dftrain"
   ]
  },
  {
   "cell_type": "code",
   "execution_count": 4,
   "metadata": {},
   "outputs": [],
   "source": [
    "y_train = dftrain.pop('survived')\n",
    "y_eval = dfeval.pop('survived')"
   ]
  },
  {
   "cell_type": "code",
   "execution_count": 5,
   "metadata": {},
   "outputs": [
    {
     "output_type": "execute_result",
     "data": {
      "text/plain": "0      0\n1      1\n2      1\n3      1\n4      0\n      ..\n622    0\n623    0\n624    1\n625    0\n626    0\nName: survived, Length: 627, dtype: int64"
     },
     "metadata": {},
     "execution_count": 5
    }
   ],
   "source": [
    "y_train"
   ]
  },
  {
   "cell_type": "code",
   "execution_count": 6,
   "metadata": {},
   "outputs": [],
   "source": [
    "import tensorflow as tf \n",
    "tf.random.set_seed(123)"
   ]
  },
  {
   "cell_type": "code",
   "execution_count": 7,
   "metadata": {},
   "outputs": [
    {
     "output_type": "execute_result",
     "data": {
      "text/plain": "      sex   age  n_siblings_spouses  parch     fare  class     deck  \\\n0    male  22.0                   1      0   7.2500  Third  unknown   \n1  female  38.0                   1      0  71.2833  First        C   \n2  female  26.0                   0      0   7.9250  Third  unknown   \n3  female  35.0                   1      0  53.1000  First        C   \n4    male  28.0                   0      0   8.4583  Third  unknown   \n\n   embark_town alone  \n0  Southampton     n  \n1    Cherbourg     n  \n2  Southampton     y  \n3  Southampton     n  \n4   Queenstown     y  ",
      "text/html": "<div>\n<style scoped>\n    .dataframe tbody tr th:only-of-type {\n        vertical-align: middle;\n    }\n\n    .dataframe tbody tr th {\n        vertical-align: top;\n    }\n\n    .dataframe thead th {\n        text-align: right;\n    }\n</style>\n<table border=\"1\" class=\"dataframe\">\n  <thead>\n    <tr style=\"text-align: right;\">\n      <th></th>\n      <th>sex</th>\n      <th>age</th>\n      <th>n_siblings_spouses</th>\n      <th>parch</th>\n      <th>fare</th>\n      <th>class</th>\n      <th>deck</th>\n      <th>embark_town</th>\n      <th>alone</th>\n    </tr>\n  </thead>\n  <tbody>\n    <tr>\n      <th>0</th>\n      <td>male</td>\n      <td>22.0</td>\n      <td>1</td>\n      <td>0</td>\n      <td>7.2500</td>\n      <td>Third</td>\n      <td>unknown</td>\n      <td>Southampton</td>\n      <td>n</td>\n    </tr>\n    <tr>\n      <th>1</th>\n      <td>female</td>\n      <td>38.0</td>\n      <td>1</td>\n      <td>0</td>\n      <td>71.2833</td>\n      <td>First</td>\n      <td>C</td>\n      <td>Cherbourg</td>\n      <td>n</td>\n    </tr>\n    <tr>\n      <th>2</th>\n      <td>female</td>\n      <td>26.0</td>\n      <td>0</td>\n      <td>0</td>\n      <td>7.9250</td>\n      <td>Third</td>\n      <td>unknown</td>\n      <td>Southampton</td>\n      <td>y</td>\n    </tr>\n    <tr>\n      <th>3</th>\n      <td>female</td>\n      <td>35.0</td>\n      <td>1</td>\n      <td>0</td>\n      <td>53.1000</td>\n      <td>First</td>\n      <td>C</td>\n      <td>Southampton</td>\n      <td>n</td>\n    </tr>\n    <tr>\n      <th>4</th>\n      <td>male</td>\n      <td>28.0</td>\n      <td>0</td>\n      <td>0</td>\n      <td>8.4583</td>\n      <td>Third</td>\n      <td>unknown</td>\n      <td>Queenstown</td>\n      <td>y</td>\n    </tr>\n  </tbody>\n</table>\n</div>"
     },
     "metadata": {},
     "execution_count": 7
    }
   ],
   "source": [
    "dftrain.head()"
   ]
  },
  {
   "cell_type": "code",
   "execution_count": 8,
   "metadata": {},
   "outputs": [
    {
     "output_type": "execute_result",
     "data": {
      "text/plain": "              age  n_siblings_spouses       parch        fare\ncount  627.000000          627.000000  627.000000  627.000000\nmean    29.631308            0.545455    0.379585   34.385399\nstd     12.511818            1.151090    0.792999   54.597730\nmin      0.750000            0.000000    0.000000    0.000000\n25%     23.000000            0.000000    0.000000    7.895800\n50%     28.000000            0.000000    0.000000   15.045800\n75%     35.000000            1.000000    0.000000   31.387500\nmax     80.000000            8.000000    5.000000  512.329200",
      "text/html": "<div>\n<style scoped>\n    .dataframe tbody tr th:only-of-type {\n        vertical-align: middle;\n    }\n\n    .dataframe tbody tr th {\n        vertical-align: top;\n    }\n\n    .dataframe thead th {\n        text-align: right;\n    }\n</style>\n<table border=\"1\" class=\"dataframe\">\n  <thead>\n    <tr style=\"text-align: right;\">\n      <th></th>\n      <th>age</th>\n      <th>n_siblings_spouses</th>\n      <th>parch</th>\n      <th>fare</th>\n    </tr>\n  </thead>\n  <tbody>\n    <tr>\n      <th>count</th>\n      <td>627.000000</td>\n      <td>627.000000</td>\n      <td>627.000000</td>\n      <td>627.000000</td>\n    </tr>\n    <tr>\n      <th>mean</th>\n      <td>29.631308</td>\n      <td>0.545455</td>\n      <td>0.379585</td>\n      <td>34.385399</td>\n    </tr>\n    <tr>\n      <th>std</th>\n      <td>12.511818</td>\n      <td>1.151090</td>\n      <td>0.792999</td>\n      <td>54.597730</td>\n    </tr>\n    <tr>\n      <th>min</th>\n      <td>0.750000</td>\n      <td>0.000000</td>\n      <td>0.000000</td>\n      <td>0.000000</td>\n    </tr>\n    <tr>\n      <th>25%</th>\n      <td>23.000000</td>\n      <td>0.000000</td>\n      <td>0.000000</td>\n      <td>7.895800</td>\n    </tr>\n    <tr>\n      <th>50%</th>\n      <td>28.000000</td>\n      <td>0.000000</td>\n      <td>0.000000</td>\n      <td>15.045800</td>\n    </tr>\n    <tr>\n      <th>75%</th>\n      <td>35.000000</td>\n      <td>1.000000</td>\n      <td>0.000000</td>\n      <td>31.387500</td>\n    </tr>\n    <tr>\n      <th>max</th>\n      <td>80.000000</td>\n      <td>8.000000</td>\n      <td>5.000000</td>\n      <td>512.329200</td>\n    </tr>\n  </tbody>\n</table>\n</div>"
     },
     "metadata": {},
     "execution_count": 8
    }
   ],
   "source": [
    "dftrain.describe()"
   ]
  },
  {
   "cell_type": "code",
   "execution_count": 9,
   "metadata": {},
   "outputs": [
    {
     "output_type": "execute_result",
     "data": {
      "text/plain": "<matplotlib.axes._subplots.AxesSubplot at 0x7f16750b7470>"
     },
     "metadata": {},
     "execution_count": 9
    },
    {
     "output_type": "display_data",
     "data": {
      "text/plain": "<Figure size 432x288 with 1 Axes>",
      "image/png": "[encoded data removed]"
     },
     "metadata": {
      "needs_background": "light"
     }
    }
   ],
   "source": [
    "dftrain.age.hist(bins=20)"
   ]
  },
  {
   "cell_type": "code",
   "execution_count": 10,
   "metadata": {},
   "outputs": [],
   "source": [
    "fc = tf.feature_column\n",
    "CATEGORICAL_COLUMNS = ['sex', 'n_siblings_spouses', 'parch', 'class', 'deck',\n",
    "                       'embark_town', 'alone']\n",
    "NUMERIC_COLUMNS = ['age', 'fare']"
   ]
  },
  {
   "cell_type": "code",
   "execution_count": 11,
   "metadata": {},
   "outputs": [],
   "source": [
    "def one_hot_cat_column(feature_name, vocab):\n",
    "    return tf.feature_column.indicator_column(\n",
    "        tf.feature_column.categorical_column_with_vocabulary_list(\n",
    "            feature_name, vocab\n",
    "        )\n",
    "    )"
   ]
  },
  {
   "cell_type": "code",
   "execution_count": 12,
   "metadata": {},
   "outputs": [],
   "source": [
    "feature_columns = []"
   ]
  },
  {
   "cell_type": "code",
   "execution_count": 13,
   "metadata": {},
   "outputs": [],
   "source": [
    "for feature_name in CATEGORICAL_COLUMNS:\n",
    "    vocabulary = dftrain[feature_name].unique()\n",
    "    feature_columns.append(one_hot_cat_column(feature_name, vocabulary))"
   ]
  },
  {
   "cell_type": "code",
   "execution_count": 14,
   "metadata": {},
   "outputs": [
    {
     "output_type": "execute_result",
     "data": {
      "text/plain": "[IndicatorColumn(categorical_column=VocabularyListCategoricalColumn(key='sex', vocabulary_list=('male', 'female'), dtype=tf.string, default_value=-1, num_oov_buckets=0)),\n IndicatorColumn(categorical_column=VocabularyListCategoricalColumn(key='n_siblings_spouses', vocabulary_list=(1, 0, 3, 4, 2, 5, 8), dtype=tf.int64, default_value=-1, num_oov_buckets=0)),\n IndicatorColumn(categorical_column=VocabularyListCategoricalColumn(key='parch', vocabulary_list=(0, 1, 2, 5, 3, 4), dtype=tf.int64, default_value=-1, num_oov_buckets=0)),\n IndicatorColumn(categorical_column=VocabularyListCategoricalColumn(key='class', vocabulary_list=('Third', 'First', 'Second'), dtype=tf.string, default_value=-1, num_oov_buckets=0)),\n IndicatorColumn(categorical_column=VocabularyListCategoricalColumn(key='deck', vocabulary_list=('unknown', 'C', 'G', 'A', 'B', 'D', 'F', 'E'), dtype=tf.string, default_value=-1, num_oov_buckets=0)),\n IndicatorColumn(categorical_column=VocabularyListCategoricalColumn(key='embark_town', vocabulary_list=('Southampton', 'Cherbourg', 'Queenstown', 'unknown'), dtype=tf.string, default_value=-1, num_oov_buckets=0)),\n IndicatorColumn(categorical_column=VocabularyListCategoricalColumn(key='alone', vocabulary_list=('n', 'y'), dtype=tf.string, default_value=-1, num_oov_buckets=0))]"
     },
     "metadata": {},
     "execution_count": 14
    }
   ],
   "source": [
    "feature_columns"
   ]
  },
  {
   "cell_type": "code",
   "execution_count": 15,
   "metadata": {},
   "outputs": [],
   "source": [
    "for feature_name in NUMERIC_COLUMNS:\n",
    "    feature_columns.append(tf.feature_column.numeric_column(\n",
    "        feature_name, dtype=tf.float32\n",
    "    ))"
   ]
  },
  {
   "cell_type": "code",
   "execution_count": 16,
   "metadata": {},
   "outputs": [
    {
     "output_type": "execute_result",
     "data": {
      "text/plain": "[IndicatorColumn(categorical_column=VocabularyListCategoricalColumn(key='sex', vocabulary_list=('male', 'female'), dtype=tf.string, default_value=-1, num_oov_buckets=0)),\n IndicatorColumn(categorical_column=VocabularyListCategoricalColumn(key='n_siblings_spouses', vocabulary_list=(1, 0, 3, 4, 2, 5, 8), dtype=tf.int64, default_value=-1, num_oov_buckets=0)),\n IndicatorColumn(categorical_column=VocabularyListCategoricalColumn(key='parch', vocabulary_list=(0, 1, 2, 5, 3, 4), dtype=tf.int64, default_value=-1, num_oov_buckets=0)),\n IndicatorColumn(categorical_column=VocabularyListCategoricalColumn(key='class', vocabulary_list=('Third', 'First', 'Second'), dtype=tf.string, default_value=-1, num_oov_buckets=0)),\n IndicatorColumn(categorical_column=VocabularyListCategoricalColumn(key='deck', vocabulary_list=('unknown', 'C', 'G', 'A', 'B', 'D', 'F', 'E'), dtype=tf.string, default_value=-1, num_oov_buckets=0)),\n IndicatorColumn(categorical_column=VocabularyListCategoricalColumn(key='embark_town', vocabulary_list=('Southampton', 'Cherbourg', 'Queenstown', 'unknown'), dtype=tf.string, default_value=-1, num_oov_buckets=0)),\n IndicatorColumn(categorical_column=VocabularyListCategoricalColumn(key='alone', vocabulary_list=('n', 'y'), dtype=tf.string, default_value=-1, num_oov_buckets=0)),\n NumericColumn(key='age', shape=(1,), default_value=None, dtype=tf.float32, normalizer_fn=None),\n NumericColumn(key='fare', shape=(1,), default_value=None, dtype=tf.float32, normalizer_fn=None)]"
     },
     "metadata": {},
     "execution_count": 16
    }
   ],
   "source": [
    "feature_columns"
   ]
  },
  {
   "cell_type": "code",
   "execution_count": 17,
   "metadata": {},
   "outputs": [],
   "source": [
    "example = dict(dftrain.head(1))"
   ]
  },
  {
   "cell_type": "code",
   "execution_count": 18,
   "metadata": {},
   "outputs": [
    {
     "output_type": "execute_result",
     "data": {
      "text/plain": "{'sex': 0    male\n Name: sex, dtype: object,\n 'age': 0    22.0\n Name: age, dtype: float64,\n 'n_siblings_spouses': 0    1\n Name: n_siblings_spouses, dtype: int64,\n 'parch': 0    0\n Name: parch, dtype: int64,\n 'fare': 0    7.25\n Name: fare, dtype: float64,\n 'class': 0    Third\n Name: class, dtype: object,\n 'deck': 0    unknown\n Name: deck, dtype: object,\n 'embark_town': 0    Southampton\n Name: embark_town, dtype: object,\n 'alone': 0    n\n Name: alone, dtype: object}"
     },
     "metadata": {},
     "execution_count": 18
    }
   ],
   "source": [
    "example"
   ]
  },
  {
   "cell_type": "code",
   "execution_count": 19,
   "metadata": {},
   "outputs": [
    {
     "output_type": "execute_result",
     "data": {
      "text/plain": "'Third'"
     },
     "metadata": {},
     "execution_count": 19
    }
   ],
   "source": [
    "example['class'].iloc[0]"
   ]
  },
  {
   "cell_type": "code",
   "execution_count": 20,
   "metadata": {},
   "outputs": [
    {
     "output_type": "stream",
     "name": "stdout",
     "text": "WARNING:tensorflow:From /home/mark/.pyenv/versions/anaconda3-5.0.0/envs/tf2/lib/python3.6/site-packages/tensorflow_core/python/feature_column/feature_column_v2.py:4267: IndicatorColumn._variable_shape (from tensorflow.python.feature_column.feature_column_v2) is deprecated and will be removed in a future version.\nInstructions for updating:\nThe old _FeatureColumn APIs are being deprecated. Please use the new FeatureColumn APIs instead.\nWARNING:tensorflow:From /home/mark/.pyenv/versions/anaconda3-5.0.0/envs/tf2/lib/python3.6/site-packages/tensorflow_core/python/feature_column/feature_column_v2.py:4322: VocabularyListCategoricalColumn._num_buckets (from tensorflow.python.feature_column.feature_column_v2) is deprecated and will be removed in a future version.\nInstructions for updating:\nThe old _FeatureColumn APIs are being deprecated. Please use the new FeatureColumn APIs instead.\n"
    },
    {
     "output_type": "execute_result",
     "data": {
      "text/plain": "<tf.Tensor: shape=(1, 34), dtype=float32, numpy=\narray([[22.  ,  1.  ,  0.  ,  1.  ,  0.  ,  0.  ,  1.  ,  0.  ,  0.  ,\n         0.  ,  0.  ,  0.  ,  0.  ,  0.  ,  1.  ,  0.  ,  0.  ,  0.  ,\n         7.25,  1.  ,  0.  ,  0.  ,  0.  ,  0.  ,  0.  ,  0.  ,  1.  ,\n         0.  ,  0.  ,  0.  ,  0.  ,  0.  ,  1.  ,  0.  ]], dtype=float32)>"
     },
     "metadata": {},
     "execution_count": 20
    }
   ],
   "source": [
    "tf.keras.layers.DenseFeatures(feature_columns)(example)"
   ]
  },
  {
   "cell_type": "code",
   "execution_count": 21,
   "metadata": {},
   "outputs": [
    {
     "output_type": "execute_result",
     "data": {
      "text/plain": "array([[22.  ,  1.  ,  0.  ,  1.  ,  0.  ,  0.  ,  1.  ,  0.  ,  0.  ,\n         0.  ,  0.  ,  0.  ,  0.  ,  0.  ,  1.  ,  0.  ,  0.  ,  0.  ,\n         7.25,  1.  ,  0.  ,  0.  ,  0.  ,  0.  ,  0.  ,  0.  ,  1.  ,\n         0.  ,  0.  ,  0.  ,  0.  ,  0.  ,  1.  ,  0.  ]], dtype=float32)"
     },
     "metadata": {},
     "execution_count": 21
    }
   ],
   "source": [
    "tf.keras.layers.DenseFeatures(feature_columns)(example).numpy()"
   ]
  },
  {
   "cell_type": "code",
   "execution_count": 22,
   "metadata": {},
   "outputs": [],
   "source": [
    "NUM_EXAMPLES = len(y_train)"
   ]
  },
  {
   "cell_type": "code",
   "execution_count": 23,
   "metadata": {},
   "outputs": [],
   "source": [
    "def make_input_fn(X, y, n_epochs=None, shuffle=True):\n",
    "    def input_fn():\n",
    "        dataset = tf.data.Dataset.from_tensor_slices((dict(X), y))\n",
    "        if shuffle:\n",
    "            dataset = dataset.shuffle(NUM_EXAMPLES)\n",
    "        dataset = dataset.repeat(n_epochs)\n",
    "        dataset = dataset.batch(NUM_EXAMPLES)\n",
    "        return dataset\n",
    "    return input_fn"
   ]
  },
  {
   "cell_type": "code",
   "execution_count": 24,
   "metadata": {},
   "outputs": [],
   "source": [
    "train_input_fn = make_input_fn(dftrain, y_train)"
   ]
  },
  {
   "cell_type": "code",
   "execution_count": 25,
   "metadata": {},
   "outputs": [
    {
     "output_type": "execute_result",
     "data": {
      "text/plain": "<function __main__.make_input_fn.<locals>.input_fn()>"
     },
     "metadata": {},
     "execution_count": 25
    }
   ],
   "source": [
    "train_input_fn"
   ]
  },
  {
   "cell_type": "code",
   "execution_count": 26,
   "metadata": {},
   "outputs": [],
   "source": [
    "eval_imput_fn = make_input_fn(dfeval, y_eval, shuffle=False, n_epochs=1)"
   ]
  },
  {
   "cell_type": "code",
   "execution_count": 27,
   "metadata": {},
   "outputs": [
    {
     "output_type": "stream",
     "name": "stdout",
     "text": "INFO:tensorflow:Using default config.\nWARNING:tensorflow:Using temporary folder as model directory: /tmp/tmpa4v2925r\nINFO:tensorflow:Using config: {'_model_dir': '/tmp/tmpa4v2925r', '_tf_random_seed': None, '_save_summary_steps': 100, '_save_checkpoints_steps': None, '_save_checkpoints_secs': 600, '_session_config': allow_soft_placement: true\ngraph_options {\n  rewrite_options {\n    meta_optimizer_iterations: ONE\n  }\n}\n, '_keep_checkpoint_max': 5, '_keep_checkpoint_every_n_hours': 10000, '_log_step_count_steps': 100, '_train_distribute': None, '_device_fn': None, '_protocol': None, '_eval_distribute': None, '_experimental_distribute': None, '_experimental_max_worker_delay_secs': None, '_session_creation_timeout_secs': 7200, '_service': None, '_cluster_spec': ClusterSpec({}), '_task_type': 'worker', '_task_id': 0, '_global_id_in_cluster': 0, '_master': '', '_evaluation_master': '', '_is_chief': True, '_num_ps_replicas': 0, '_num_worker_replicas': 1}\n"
    }
   ],
   "source": [
    "linear_est = tf.estimator.LinearClassifier(feature_columns)"
   ]
  },
  {
   "cell_type": "code",
   "execution_count": 28,
   "metadata": {},
   "outputs": [
    {
     "output_type": "stream",
     "name": "stdout",
     "text": "WARNING:tensorflow:From /home/mark/.pyenv/versions/anaconda3-5.0.0/envs/tf2/lib/python3.6/site-packages/tensorflow_core/python/ops/resource_variable_ops.py:1635: calling BaseResourceVariable.__init__ (from tensorflow.python.ops.resource_variable_ops) with constraint is deprecated and will be removed in a future version.\nInstructions for updating:\nIf using Keras pass *_constraint arguments to layers.\nWARNING:tensorflow:From /home/mark/.pyenv/versions/anaconda3-5.0.0/envs/tf2/lib/python3.6/site-packages/tensorflow_core/python/training/training_util.py:236: Variable.initialized_value (from tensorflow.python.ops.variables) is deprecated and will be removed in a future version.\nInstructions for updating:\nUse Variable.read_value. Variables in 2.X are initialized automatically both in eager and graph (inside tf.defun) contexts.\nINFO:tensorflow:Calling model_fn.\nWARNING:tensorflow:Layer linear/linear_model is casting an input tensor from dtype float64 to the layer's dtype of float32, which is new behavior in TensorFlow 2.  The layer has dtype float32 because it's dtype defaults to floatx.\n\nIf you intended to run this layer in float32, you can safely ignore this warning. If in doubt, this warning is likely only an issue if you are porting a TensorFlow 1.X model to TensorFlow 2.\n\nTo change all layers to have dtype float64 by default, call `tf.keras.backend.set_floatx('float64')`. To change just this layer, pass dtype='float64' to the layer constructor. If you are the author of this layer, you can disable autocasting by passing autocast=False to the base Layer constructor.\n\nWARNING:tensorflow:From /home/mark/.pyenv/versions/anaconda3-5.0.0/envs/tf2/lib/python3.6/site-packages/tensorflow_core/python/feature_column/feature_column_v2.py:518: Layer.add_variable (from tensorflow.python.keras.engine.base_layer) is deprecated and will be removed in a future version.\nInstructions for updating:\nPlease use `layer.add_weight` method instead.\nWARNING:tensorflow:From /home/mark/.pyenv/versions/anaconda3-5.0.0/envs/tf2/lib/python3.6/site-packages/tensorflow_core/python/keras/optimizer_v2/ftrl.py:143: calling Constant.__init__ (from tensorflow.python.ops.init_ops) with dtype is deprecated and will be removed in a future version.\nInstructions for updating:\nCall initializer instance with the dtype argument instead of passing it to the constructor\nINFO:tensorflow:Done calling model_fn.\nINFO:tensorflow:Create CheckpointSaverHook.\nINFO:tensorflow:Graph was finalized.\nINFO:tensorflow:Running local_init_op.\nINFO:tensorflow:Done running local_init_op.\nINFO:tensorflow:Saving checkpoints for 0 into /tmp/tmpa4v2925r/model.ckpt.\nINFO:tensorflow:loss = 0.6931468, step = 0\nINFO:tensorflow:Saving checkpoints for 100 into /tmp/tmpa4v2925r/model.ckpt.\nINFO:tensorflow:Loss for final step: 0.43793845.\n"
    },
    {
     "output_type": "execute_result",
     "data": {
      "text/plain": "<tensorflow_estimator.python.estimator.canned.linear.LinearClassifierV2 at 0x7f1672b78d30>"
     },
     "metadata": {},
     "execution_count": 28
    }
   ],
   "source": [
    "linear_est.train(train_input_fn, max_steps=100)"
   ]
  },
  {
   "cell_type": "code",
   "execution_count": 29,
   "metadata": {},
   "outputs": [
    {
     "output_type": "stream",
     "name": "stdout",
     "text": "INFO:tensorflow:Calling model_fn.\nWARNING:tensorflow:Layer linear/linear_model is casting an input tensor from dtype float64 to the layer's dtype of float32, which is new behavior in TensorFlow 2.  The layer has dtype float32 because it's dtype defaults to floatx.\n\nIf you intended to run this layer in float32, you can safely ignore this warning. If in doubt, this warning is likely only an issue if you are porting a TensorFlow 1.X model to TensorFlow 2.\n\nTo change all layers to have dtype float64 by default, call `tf.keras.backend.set_floatx('float64')`. To change just this layer, pass dtype='float64' to the layer constructor. If you are the author of this layer, you can disable autocasting by passing autocast=False to the base Layer constructor.\n\nINFO:tensorflow:Done calling model_fn.\nINFO:tensorflow:Starting evaluation at 2020-02-26T17:40:34Z\nINFO:tensorflow:Graph was finalized.\nINFO:tensorflow:Restoring parameters from /tmp/tmpa4v2925r/model.ckpt-100\nINFO:tensorflow:Running local_init_op.\nINFO:tensorflow:Done running local_init_op.\nINFO:tensorflow:Inference Time : 0.47180s\nINFO:tensorflow:Finished evaluation at 2020-02-26-17:40:35\nINFO:tensorflow:Saving dict for global step 100: accuracy = 0.7651515, accuracy_baseline = 0.625, auc = 0.83284354, auc_precision_recall = 0.78963065, average_loss = 0.47890812, global_step = 100, label/mean = 0.375, loss = 0.47890812, precision = 0.7032967, prediction/mean = 0.3507902, recall = 0.64646465\nINFO:tensorflow:Saving 'checkpoint_path' summary for global step 100: /tmp/tmpa4v2925r/model.ckpt-100\n"
    }
   ],
   "source": [
    "result = linear_est.evaluate(eval_imput_fn)"
   ]
  },
  {
   "cell_type": "code",
   "execution_count": 30,
   "metadata": {},
   "outputs": [
    {
     "output_type": "execute_result",
     "data": {
      "text/plain": "{'accuracy': 0.7651515,\n 'accuracy_baseline': 0.625,\n 'auc': 0.83284354,\n 'auc_precision_recall': 0.78963065,\n 'average_loss': 0.47890812,\n 'label/mean': 0.375,\n 'loss': 0.47890812,\n 'precision': 0.7032967,\n 'prediction/mean': 0.3507902,\n 'recall': 0.64646465,\n 'global_step': 100}"
     },
     "metadata": {},
     "execution_count": 30
    }
   ],
   "source": [
    "result"
   ]
  },
  {
   "cell_type": "code",
   "execution_count": 31,
   "metadata": {},
   "outputs": [
    {
     "output_type": "stream",
     "name": "stdout",
     "text": "INFO:tensorflow:Using default config.\nWARNING:tensorflow:Using temporary folder as model directory: /tmp/tmpi84xmb52\nINFO:tensorflow:Using config: {'_model_dir': '/tmp/tmpi84xmb52', '_tf_random_seed': None, '_save_summary_steps': 100, '_save_checkpoints_steps': None, '_save_checkpoints_secs': 600, '_session_config': allow_soft_placement: true\ngraph_options {\n  rewrite_options {\n    meta_optimizer_iterations: ONE\n  }\n}\n, '_keep_checkpoint_max': 5, '_keep_checkpoint_every_n_hours': 10000, '_log_step_count_steps': 100, '_train_distribute': None, '_device_fn': None, '_protocol': None, '_eval_distribute': None, '_experimental_distribute': None, '_experimental_max_worker_delay_secs': None, '_session_creation_timeout_secs': 7200, '_service': None, '_cluster_spec': ClusterSpec({}), '_task_type': 'worker', '_task_id': 0, '_global_id_in_cluster': 0, '_master': '', '_evaluation_master': '', '_is_chief': True, '_num_ps_replicas': 0, '_num_worker_replicas': 1}\nINFO:tensorflow:Calling model_fn.\nINFO:tensorflow:Done calling model_fn.\nINFO:tensorflow:Create CheckpointSaverHook.\nWARNING:tensorflow:Issue encountered when serializing resources.\nType is unsupported, or the types of the items don't match field type in CollectionDef. Note this is a warning and probably safe to ignore.\n'_Resource' object has no attribute 'name'\nINFO:tensorflow:Graph was finalized.\nINFO:tensorflow:Running local_init_op.\nINFO:tensorflow:Done running local_init_op.\nWARNING:tensorflow:Issue encountered when serializing resources.\nType is unsupported, or the types of the items don't match field type in CollectionDef. Note this is a warning and probably safe to ignore.\n'_Resource' object has no attribute 'name'\nINFO:tensorflow:Saving checkpoints for 0 into /tmp/tmpi84xmb52/model.ckpt.\nWARNING:tensorflow:Issue encountered when serializing resources.\nType is unsupported, or the types of the items don't match field type in CollectionDef. Note this is a warning and probably safe to ignore.\n'_Resource' object has no attribute 'name'\nINFO:tensorflow:loss = 0.6931468, step = 0\nWARNING:tensorflow:It seems that global step (tf.train.get_global_step) has not been increased. Current value (could be stable): 0 vs previous value: 0. You could increase the global step by passing tf.train.get_global_step() to Optimizer.apply_gradients or Optimizer.minimize.\nWARNING:tensorflow:It seems that global step (tf.train.get_global_step) has not been increased. Current value (could be stable): 0 vs previous value: 0. You could increase the global step by passing tf.train.get_global_step() to Optimizer.apply_gradients or Optimizer.minimize.\nWARNING:tensorflow:It seems that global step (tf.train.get_global_step) has not been increased. Current value (could be stable): 0 vs previous value: 0. You could increase the global step by passing tf.train.get_global_step() to Optimizer.apply_gradients or Optimizer.minimize.\nWARNING:tensorflow:It seems that global step (tf.train.get_global_step) has not been increased. Current value (could be stable): 0 vs previous value: 0. You could increase the global step by passing tf.train.get_global_step() to Optimizer.apply_gradients or Optimizer.minimize.\nWARNING:tensorflow:It seems that global step (tf.train.get_global_step) has not been increased. Current value (could be stable): 0 vs previous value: 0. You could increase the global step by passing tf.train.get_global_step() to Optimizer.apply_gradients or Optimizer.minimize.\nINFO:tensorflow:loss = 0.6931468, step = 0 (0.792 sec)\nINFO:tensorflow:global_step/sec: 73.2443\nINFO:tensorflow:loss = 0.6575561, step = 100 (0.579 sec)\nINFO:tensorflow:global_step/sec: 197.979\nINFO:tensorflow:loss = 0.6210698, step = 200 (0.505 sec)\nINFO:tensorflow:global_step/sec: 221.899\nINFO:tensorflow:loss = 0.587416, step = 300 (0.451 sec)\nINFO:tensorflow:global_step/sec: 208.231\nINFO:tensorflow:loss = 0.55561113, step = 400 (0.481 sec)\nINFO:tensorflow:global_step/sec: 162.941\nINFO:tensorflow:loss = 0.52544, step = 500 (0.614 sec)\nINFO:tensorflow:global_step/sec: 184.391\nINFO:tensorflow:loss = 0.4949198, step = 600 (0.540 sec)\nINFO:tensorflow:global_step/sec: 245.352\nINFO:tensorflow:loss = 0.4836002, step = 700 (0.408 sec)\nINFO:tensorflow:global_step/sec: 96.8843\nINFO:tensorflow:loss = 0.47042918, step = 800 (1.036 sec)\nINFO:tensorflow:global_step/sec: 107.368\nINFO:tensorflow:loss = 0.45742434, step = 900 (0.932 sec)\nINFO:tensorflow:global_step/sec: 93.5716\nINFO:tensorflow:loss = 0.44282883, step = 1000 (1.070 sec)\nINFO:tensorflow:global_step/sec: 89.6159\nINFO:tensorflow:loss = 0.4271903, step = 1100 (1.121 sec)\nINFO:tensorflow:global_step/sec: 96.8304\nINFO:tensorflow:loss = 0.40985784, step = 1200 (1.036 sec)\nINFO:tensorflow:global_step/sec: 71.1891\nINFO:tensorflow:loss = 0.4059605, step = 1300 (1.393 sec)\nINFO:tensorflow:global_step/sec: 89.8309\nINFO:tensorflow:loss = 0.4006756, step = 1400 (1.122 sec)\nINFO:tensorflow:global_step/sec: 94.0462\nINFO:tensorflow:loss = 0.39465728, step = 1500 (1.055 sec)\nINFO:tensorflow:global_step/sec: 89.3315\nINFO:tensorflow:loss = 0.38610205, step = 1600 (1.120 sec)\nINFO:tensorflow:global_step/sec: 106.65\nINFO:tensorflow:loss = 0.37416685, step = 1700 (0.940 sec)\nINFO:tensorflow:global_step/sec: 86.351\nINFO:tensorflow:loss = 0.35897774, step = 1800 (1.163 sec)\nINFO:tensorflow:global_step/sec: 84.2971\nINFO:tensorflow:loss = 0.35765135, step = 1900 (1.182 sec)\nINFO:tensorflow:global_step/sec: 83.7476\nINFO:tensorflow:loss = 0.35522094, step = 2000 (1.206 sec)\nINFO:tensorflow:global_step/sec: 94.8695\nINFO:tensorflow:loss = 0.3517303, step = 2100 (1.043 sec)\nINFO:tensorflow:global_step/sec: 93.3702\nINFO:tensorflow:loss = 0.34644145, step = 2200 (1.069 sec)\nINFO:tensorflow:global_step/sec: 86.4159\nINFO:tensorflow:loss = 0.33947802, step = 2300 (1.166 sec)\nINFO:tensorflow:global_step/sec: 88.0761\nINFO:tensorflow:loss = 0.3295388, step = 2400 (1.130 sec)\nINFO:tensorflow:global_step/sec: 88.9337\nINFO:tensorflow:loss = 0.32906768, step = 2500 (1.121 sec)\nINFO:tensorflow:global_step/sec: 89.2227\nINFO:tensorflow:loss = 0.327963, step = 2600 (1.127 sec)\nINFO:tensorflow:global_step/sec: 72.3311\nINFO:tensorflow:loss = 0.3263324, step = 2700 (1.384 sec)\nINFO:tensorflow:global_step/sec: 87.4752\nINFO:tensorflow:loss = 0.3232161, step = 2800 (1.139 sec)\nINFO:tensorflow:global_step/sec: 71.5881\nINFO:tensorflow:loss = 0.31801185, step = 2900 (1.404 sec)\nINFO:tensorflow:global_step/sec: 69.8767\nINFO:tensorflow:loss = 0.3101794, step = 3000 (1.429 sec)\nINFO:tensorflow:global_step/sec: 78.7549\nINFO:tensorflow:loss = 0.30984586, step = 3100 (1.266 sec)\nINFO:tensorflow:global_step/sec: 86.3777\nINFO:tensorflow:loss = 0.30893916, step = 3200 (1.166 sec)\nINFO:tensorflow:global_step/sec: 90.5035\nINFO:tensorflow:loss = 0.30734712, step = 3300 (1.098 sec)\nINFO:tensorflow:global_step/sec: 86.9314\nINFO:tensorflow:loss = 0.30445203, step = 3400 (1.145 sec)\nINFO:tensorflow:global_step/sec: 72.1988\nINFO:tensorflow:loss = 0.3007815, step = 3500 (1.393 sec)\nINFO:tensorflow:global_step/sec: 80.8821\nINFO:tensorflow:loss = 0.29459926, step = 3600 (1.230 sec)\nINFO:tensorflow:global_step/sec: 75.9347\nINFO:tensorflow:loss = 0.29435468, step = 3700 (1.314 sec)\nINFO:tensorflow:global_step/sec: 73.3295\nINFO:tensorflow:loss = 0.29385817, step = 3800 (1.364 sec)\nINFO:tensorflow:global_step/sec: 98.2435\nINFO:tensorflow:loss = 0.29261327, step = 3900 (1.016 sec)\nINFO:tensorflow:global_step/sec: 78.4995\nINFO:tensorflow:loss = 0.2907656, step = 4000 (1.273 sec)\nINFO:tensorflow:global_step/sec: 93.8173\nINFO:tensorflow:loss = 0.2890554, step = 4100 (1.079 sec)\nINFO:tensorflow:global_step/sec: 78.5856\nINFO:tensorflow:loss = 0.28684294, step = 4200 (1.263 sec)\nINFO:tensorflow:global_step/sec: 74.2815\nINFO:tensorflow:loss = 0.28671795, step = 4300 (1.355 sec)\nINFO:tensorflow:global_step/sec: 67.402\nINFO:tensorflow:loss = 0.2862036, step = 4400 (1.479 sec)\nINFO:tensorflow:global_step/sec: 71.2662\nINFO:tensorflow:loss = 0.2852707, step = 4500 (1.403 sec)\nINFO:tensorflow:global_step/sec: 86.8199\nINFO:tensorflow:loss = 0.28322375, step = 4600 (1.154 sec)\nINFO:tensorflow:global_step/sec: 77.72\nINFO:tensorflow:loss = 0.28032884, step = 4700 (1.293 sec)\nINFO:tensorflow:global_step/sec: 75.2115\nINFO:tensorflow:loss = 0.27697602, step = 4800 (1.330 sec)\nINFO:tensorflow:global_step/sec: 60.1274\nINFO:tensorflow:loss = 0.27686337, step = 4900 (1.661 sec)\nINFO:tensorflow:global_step/sec: 59.7013\nINFO:tensorflow:loss = 0.27650508, step = 5000 (1.669 sec)\nINFO:tensorflow:global_step/sec: 68.5172\nINFO:tensorflow:loss = 0.27578518, step = 5100 (1.458 sec)\nINFO:tensorflow:global_step/sec: 69.796\nINFO:tensorflow:loss = 0.27393493, step = 5200 (1.439 sec)\nINFO:tensorflow:global_step/sec: 79.3319\nINFO:tensorflow:loss = 0.27183035, step = 5300 (1.265 sec)\nINFO:tensorflow:global_step/sec: 64.3717\nINFO:tensorflow:loss = 0.26896662, step = 5400 (1.546 sec)\nINFO:tensorflow:global_step/sec: 74.1734\nINFO:tensorflow:loss = 0.2688464, step = 5500 (1.356 sec)\nINFO:tensorflow:global_step/sec: 66.1153\nINFO:tensorflow:loss = 0.26847747, step = 5600 (1.504 sec)\nINFO:tensorflow:global_step/sec: 78.9093\nINFO:tensorflow:loss = 0.26760358, step = 5700 (1.263 sec)\nINFO:tensorflow:global_step/sec: 73.562\nINFO:tensorflow:loss = 0.2655357, step = 5800 (1.357 sec)\nINFO:tensorflow:global_step/sec: 71.8007\nINFO:tensorflow:loss = 0.26203772, step = 5900 (1.394 sec)\nINFO:tensorflow:global_step/sec: 60.0043\nINFO:tensorflow:loss = 0.25766695, step = 6000 (1.667 sec)\nINFO:tensorflow:global_step/sec: 68.3217\nINFO:tensorflow:loss = 0.25758615, step = 6100 (1.469 sec)\nINFO:tensorflow:global_step/sec: 75.9631\nINFO:tensorflow:loss = 0.25734273, step = 6200 (1.311 sec)\nINFO:tensorflow:global_step/sec: 90.7612\nINFO:tensorflow:loss = 0.25691092, step = 6300 (1.114 sec)\nINFO:tensorflow:global_step/sec: 62.4875\nINFO:tensorflow:loss = 0.25603074, step = 6400 (1.593 sec)\nINFO:tensorflow:global_step/sec: 71.3422\nINFO:tensorflow:loss = 0.25503308, step = 6500 (1.406 sec)\nINFO:tensorflow:global_step/sec: 59.6903\nINFO:tensorflow:loss = 0.25392318, step = 6600 (1.666 sec)\nINFO:tensorflow:global_step/sec: 64.7287\nINFO:tensorflow:loss = 0.2538581, step = 6700 (1.547 sec)\nINFO:tensorflow:global_step/sec: 56.774\nINFO:tensorflow:loss = 0.25341594, step = 6800 (1.766 sec)\nINFO:tensorflow:global_step/sec: 58.0601\nINFO:tensorflow:loss = 0.25249067, step = 6900 (1.728 sec)\nINFO:tensorflow:global_step/sec: 69.8711\nINFO:tensorflow:loss = 0.25104138, step = 7000 (1.431 sec)\nINFO:tensorflow:global_step/sec: 58.1514\nINFO:tensorflow:loss = 0.2485464, step = 7100 (1.707 sec)\nINFO:tensorflow:global_step/sec: 70.265\nINFO:tensorflow:loss = 0.24556865, step = 7200 (1.418 sec)\nINFO:tensorflow:global_step/sec: 59.7675\nINFO:tensorflow:loss = 0.24550301, step = 7300 (1.684 sec)\nINFO:tensorflow:global_step/sec: 61.6316\nINFO:tensorflow:loss = 0.24520083, step = 7400 (1.622 sec)\nINFO:tensorflow:global_step/sec: 60.6327\nINFO:tensorflow:loss = 0.24419712, step = 7500 (1.655 sec)\nINFO:tensorflow:global_step/sec: 65.3578\nINFO:tensorflow:loss = 0.24218108, step = 7600 (1.524 sec)\nINFO:tensorflow:global_step/sec: 62.7618\nINFO:tensorflow:loss = 0.2381732, step = 7700 (1.594 sec)\nINFO:tensorflow:global_step/sec: 67.7577\nINFO:tensorflow:loss = 0.23228279, step = 7800 (1.476 sec)\nINFO:tensorflow:global_step/sec: 59.803\nINFO:tensorflow:loss = 0.23222509, step = 7900 (1.671 sec)\nINFO:tensorflow:global_step/sec: 54.7428\nINFO:tensorflow:loss = 0.23212774, step = 8000 (1.838 sec)\nINFO:tensorflow:global_step/sec: 81.4481\nINFO:tensorflow:loss = 0.2319755, step = 8100 (1.213 sec)\nINFO:tensorflow:global_step/sec: 68.8954\nINFO:tensorflow:loss = 0.23154336, step = 8200 (1.457 sec)\nINFO:tensorflow:global_step/sec: 54.0421\nINFO:tensorflow:loss = 0.23094569, step = 8300 (1.854 sec)\nINFO:tensorflow:global_step/sec: 53.6099\nINFO:tensorflow:loss = 0.22996356, step = 8400 (1.861 sec)\nINFO:tensorflow:global_step/sec: 66.6694\nINFO:tensorflow:loss = 0.2299121, step = 8500 (1.510 sec)\nINFO:tensorflow:global_step/sec: 59.212\nINFO:tensorflow:loss = 0.22969936, step = 8600 (1.680 sec)\nINFO:tensorflow:global_step/sec: 74.3518\nINFO:tensorflow:loss = 0.22812258, step = 8700 (1.353 sec)\nINFO:tensorflow:global_step/sec: 58.8767\nINFO:tensorflow:loss = 0.22515158, step = 8800 (1.700 sec)\nINFO:tensorflow:global_step/sec: 59.8361\nINFO:tensorflow:loss = 0.22040956, step = 8900 (1.659 sec)\nINFO:tensorflow:global_step/sec: 52.5104\nINFO:tensorflow:loss = 0.21302411, step = 9000 (1.915 sec)\nINFO:tensorflow:global_step/sec: 55.9575\nINFO:tensorflow:loss = 0.21297352, step = 9100 (1.782 sec)\nINFO:tensorflow:global_step/sec: 62.4749\nINFO:tensorflow:loss = 0.2127597, step = 9200 (1.606 sec)\nINFO:tensorflow:global_step/sec: 56.0566\nINFO:tensorflow:loss = 0.21154936, step = 9300 (1.775 sec)\nINFO:tensorflow:global_step/sec: 61.4469\nINFO:tensorflow:loss = 0.20917559, step = 9400 (1.622 sec)\nINFO:tensorflow:global_step/sec: 65.257\nINFO:tensorflow:loss = 0.20516902, step = 9500 (1.536 sec)\nINFO:tensorflow:global_step/sec: 54.9014\nINFO:tensorflow:loss = 0.19999531, step = 9600 (1.822 sec)\nINFO:tensorflow:global_step/sec: 53.3587\nINFO:tensorflow:loss = 0.19995226, step = 9700 (1.877 sec)\nINFO:tensorflow:global_step/sec: 52.6124\nINFO:tensorflow:loss = 0.19978952, step = 9800 (1.891 sec)\nINFO:tensorflow:global_step/sec: 63.5985\nINFO:tensorflow:loss = 0.19920923, step = 9900 (1.590 sec)\nINFO:tensorflow:global_step/sec: 48.2547\nINFO:tensorflow:loss = 0.1982017, step = 10000 (2.072 sec)\nINFO:tensorflow:global_step/sec: 57.0495\nINFO:tensorflow:loss = 0.19674534, step = 10100 (1.742 sec)\nINFO:tensorflow:global_step/sec: 67.1521\nINFO:tensorflow:loss = 0.19443937, step = 10200 (1.487 sec)\nINFO:tensorflow:global_step/sec: 57.5181\nINFO:tensorflow:loss = 0.19439745, step = 10300 (1.747 sec)\nINFO:tensorflow:global_step/sec: 51.128\nINFO:tensorflow:loss = 0.19424865, step = 10400 (1.961 sec)\nINFO:tensorflow:global_step/sec: 50.3154\nINFO:tensorflow:loss = 0.19399941, step = 10500 (1.987 sec)\nINFO:tensorflow:global_step/sec: 52.9344\nINFO:tensorflow:loss = 0.19369538, step = 10600 (1.875 sec)\nINFO:tensorflow:global_step/sec: 49.7311\nINFO:tensorflow:loss = 0.1931481, step = 10700 (2.010 sec)\nINFO:tensorflow:global_step/sec: 50.0677\nINFO:tensorflow:loss = 0.19256084, step = 10800 (1.996 sec)\nINFO:tensorflow:global_step/sec: 57.1789\nINFO:tensorflow:loss = 0.19252457, step = 10900 (1.744 sec)\nINFO:tensorflow:global_step/sec: 63.0104\nINFO:tensorflow:loss = 0.19244167, step = 11000 (1.590 sec)\nINFO:tensorflow:global_step/sec: 60.0041\nINFO:tensorflow:loss = 0.1921279, step = 11100 (1.681 sec)\nINFO:tensorflow:global_step/sec: 51.6257\nINFO:tensorflow:loss = 0.1913288, step = 11200 (1.923 sec)\nINFO:tensorflow:global_step/sec: 62.1834\nINFO:tensorflow:loss = 0.1902448, step = 11300 (1.605 sec)\nINFO:tensorflow:global_step/sec: 47.7821\nINFO:tensorflow:loss = 0.18843055, step = 11400 (2.111 sec)\nINFO:tensorflow:global_step/sec: 53.0724\nINFO:tensorflow:loss = 0.18839884, step = 11500 (1.876 sec)\nINFO:tensorflow:global_step/sec: 50.0438\nINFO:tensorflow:loss = 0.18803157, step = 11600 (2.009 sec)\nINFO:tensorflow:global_step/sec: 48.7719\nINFO:tensorflow:loss = 0.18740739, step = 11700 (2.052 sec)\nINFO:tensorflow:global_step/sec: 57.9668\nINFO:tensorflow:loss = 0.18632168, step = 11800 (1.712 sec)\nINFO:tensorflow:global_step/sec: 52.1208\nINFO:tensorflow:loss = 0.18410303, step = 11900 (1.920 sec)\nINFO:tensorflow:global_step/sec: 52.9749\nINFO:tensorflow:loss = 0.18037722, step = 12000 (1.894 sec)\nINFO:tensorflow:global_step/sec: 49.88\nINFO:tensorflow:loss = 0.18034971, step = 12100 (1.999 sec)\nINFO:tensorflow:global_step/sec: 53.7515\nINFO:tensorflow:loss = 0.18024573, step = 12200 (1.870 sec)\nINFO:tensorflow:global_step/sec: 50.1995\nINFO:tensorflow:loss = 0.17957495, step = 12300 (1.982 sec)\nINFO:tensorflow:global_step/sec: 48.4407\nINFO:tensorflow:loss = 0.1787303, step = 12400 (2.071 sec)\nINFO:tensorflow:global_step/sec: 43.2177\nINFO:tensorflow:loss = 0.17708465, step = 12500 (2.311 sec)\nINFO:tensorflow:global_step/sec: 51.3863\nINFO:tensorflow:loss = 0.17475161, step = 12600 (1.936 sec)\nINFO:tensorflow:global_step/sec: 49.7486\nINFO:tensorflow:loss = 0.17472161, step = 12700 (2.028 sec)\nINFO:tensorflow:global_step/sec: 49.982\nINFO:tensorflow:loss = 0.17445874, step = 12800 (2.001 sec)\nINFO:tensorflow:global_step/sec: 44.6381\nINFO:tensorflow:loss = 0.1738119, step = 12900 (2.241 sec)\nINFO:tensorflow:global_step/sec: 50.3264\nINFO:tensorflow:loss = 0.17192616, step = 13000 (1.987 sec)\nINFO:tensorflow:global_step/sec: 49.335\n"
    }
   ],
   "source": [
    "n_batches = 100\n",
    "est = tf.estimator.BoostedTreesClassifier(feature_columns,\n",
    "                                          n_batches_per_layer=n_batches)\n",
    "\n",
    "# 一旦建立了指定数量的树，模型将停止训练，\n",
    "# 而不是基于训练步数。\n",
    "est.train(train_input_fn)\n",
    ""
   ]
  },
  {
   "cell_type": "code",
   "execution_count": 1,
   "metadata": {},
   "outputs": [
    {
     "output_type": "error",
     "ename": "NameError",
     "evalue": "name 'est' is not defined",
     "traceback": [
      "\u001b[0;31m---------------------------------------------------------------------------\u001b[0m",
      "\u001b[0;31mNameError\u001b[0m                                 Traceback (most recent call last)",
      "\u001b[0;32m<ipython-input-1-8f636c9503de>\u001b[0m in \u001b[0;36m<module>\u001b[0;34m\u001b[0m\n\u001b[1;32m      1\u001b[0m \u001b[0;31m# 评估。\u001b[0m\u001b[0;34m\u001b[0m\u001b[0;34m\u001b[0m\u001b[0;34m\u001b[0m\u001b[0m\n\u001b[0;32m----> 2\u001b[0;31m \u001b[0mresult\u001b[0m \u001b[0;34m=\u001b[0m \u001b[0mest\u001b[0m\u001b[0;34m.\u001b[0m\u001b[0mevaluate\u001b[0m\u001b[0;34m(\u001b[0m\u001b[0meval_input_fn\u001b[0m\u001b[0;34m)\u001b[0m\u001b[0;34m\u001b[0m\u001b[0;34m\u001b[0m\u001b[0m\n\u001b[0m",
      "\u001b[0;31mNameError\u001b[0m: name 'est' is not defined"
     ]
    }
   ],
   "source": [
    "# 评估。\n",
    "result = est.evaluate(eval_input_fn)"
   ]
  },
  {
   "cell_type": "code",
   "execution_count": null,
   "metadata": {},
   "outputs": [],
   "source": []
  },
  {
   "cell_type": "code",
   "execution_count": null,
   "metadata": {},
   "outputs": [],
   "source": []
  },
  {
   "cell_type": "code",
   "execution_count": null,
   "metadata": {},
   "outputs": [],
   "source": []
  },
  {
   "cell_type": "code",
   "execution_count": null,
   "metadata": {},
   "outputs": [],
   "source": []
  },
  {
   "cell_type": "code",
   "execution_count": null,
   "metadata": {},
   "outputs": [],
   "source": []
  },
  {
   "cell_type": "code",
   "execution_count": null,
   "metadata": {},
   "outputs": [],
   "source": []
  },
  {
   "cell_type": "code",
   "execution_count": null,
   "metadata": {},
   "outputs": [],
   "source": []
  },
  {
   "cell_type": "code",
   "execution_count": null,
   "metadata": {},
   "outputs": [],
   "source": []
  },
  {
   "cell_type": "code",
   "execution_count": null,
   "metadata": {},
   "outputs": [],
   "source": []
  },
  {
   "cell_type": "code",
   "execution_count": null,
   "metadata": {},
   "outputs": [],
   "source": []
  },
  {
   "cell_type": "code",
   "execution_count": null,
   "metadata": {},
   "outputs": [],
   "source": []
  },
  {
   "cell_type": "code",
   "execution_count": null,
   "metadata": {},
   "outputs": [],
   "source": []
  },
  {
   "cell_type": "code",
   "execution_count": null,
   "metadata": {},
   "outputs": [],
   "source": []
  },
  {
   "cell_type": "code",
   "execution_count": null,
   "metadata": {},
   "outputs": [],
   "source": []
  },
  {
   "cell_type": "code",
   "execution_count": null,
   "metadata": {},
   "outputs": [],
   "source": []
  },
  {
   "cell_type": "code",
   "execution_count": null,
   "metadata": {},
   "outputs": [],
   "source": []
  },
  {
   "cell_type": "code",
   "execution_count": null,
   "metadata": {},
   "outputs": [],
   "source": []
  },
  {
   "cell_type": "code",
   "execution_count": null,
   "metadata": {},
   "outputs": [],
   "source": []
  },
  {
   "cell_type": "code",
   "execution_count": null,
   "metadata": {},
   "outputs": [],
   "source": []
  },
  {
   "cell_type": "code",
   "execution_count": null,
   "metadata": {},
   "outputs": [],
   "source": []
  },
  {
   "cell_type": "code",
   "execution_count": null,
   "metadata": {},
   "outputs": [],
   "source": []
  },
  {
   "cell_type": "code",
   "execution_count": null,
   "metadata": {},
   "outputs": [],
   "source": []
  },
  {
   "cell_type": "code",
   "execution_count": null,
   "metadata": {},
   "outputs": [],
   "source": []
  }
 ]
}